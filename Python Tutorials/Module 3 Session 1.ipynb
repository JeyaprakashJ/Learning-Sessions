{
 "cells": [
  {
   "cell_type": "markdown",
   "metadata": {},
   "source": [
    "## Agenda\n",
    "\n",
    "1. Introduction to Algorithmic Thinking\n",
    "2. Algorithm Efficiency and time complexity\n",
    "3. Some Data Structures\n",
    "4. Some Algorithms"
   ]
  },
  {
   "cell_type": "markdown",
   "metadata": {},
   "source": [
    "## Introduction to Algorithmic Thinking"
   ]
  },
  {
   "cell_type": "markdown",
   "metadata": {},
   "source": [
    "What is algorithmic thinking?\n",
    "Algorithmic thinking is the ability to solve problems by breaking them down into smaller and smaller steps. It is a critical skill for programmers, but it is also useful in many other fields, such as mathematics, engineering, and business.\n",
    "\n",
    "An algorithm is a sequence of instructions that can be followed to solve a problem. Algorithms can be written in natural language, pseudocode, or a programming language.\n"
   ]
  },
  {
   "cell_type": "markdown",
   "metadata": {},
   "source": [
    "**The steps of algorithmic thinking are:**\n",
    "\n",
    "1.  Understand the problem. What is the problem that you are trying to solve? What are the inputs and outputs of the problem?\n",
    "\n",
    "2.  Brainstorm possible solutions. There may be many different ways to solve a problem. Brainstorm as many possible solutions as you can, even if they seem silly at first.\n",
    "\n",
    "3.  Choose a solution and write pseudocode. Once you have chosen a solution, write it down in pseudocode. Pseudocode is a way of writing an algorithm that is not specific to any programming language. This will help you to clarify your thinking and to identify any potential problems with your solution.\n",
    "\n",
    "4.  Implement the solution in Python. Once you have written the pseudocode, you can implement the solution in Python. This is where you will actually write the code that solves the problem.\n",
    "\n",
    "5.  Test and debug the solution. Once you have implemented the solution, you need to test it to make sure that it works correctly. You should also debug the code to fix any errors.\n",
    "\n",
    "6.  Analyze the efficiency of the solution. How efficient is your solution? Is there a way to make it faster or more memory-efficient?\n",
    "Example"
   ]
  },
  {
   "cell_type": "markdown",
   "metadata": {},
   "source": [
    "**Let's say that you want to write an algorithm to find the factorial of a number. The factorial of a number is the product of all the positive integers less than or equal to that number. For example, the factorial of 5 is 120 (1 * 2 * 3 * 4 * 5).**\n",
    "\n",
    "Here are the steps involved in solving this problem using algorithmic thinking:\n",
    "\n",
    "1. **Understand the problem**. The problem is to find the product of all the positive integers less than or equal to a given number. The input to the problem is the number, and the output is the factorial of that number.\n",
    "\n",
    "2. **Brainstorm possible solutions**. There are many possible ways to solve this problem. One way is to use a recursive function. A recursive function is a function that calls itself. In this case, the recursive function would take the number as an input and would return the factorial of that number.\n",
    "\n",
    "3. **Choose a solution and write pseudocode**. Here is the pseudocode for a recursive function that finds the factorial of a number:"
   ]
  },
  {
   "cell_type": "code",
   "execution_count": 45,
   "metadata": {},
   "outputs": [],
   "source": [
    "# Step1: Create a Funtion that does the following\n",
    "#  step2: if n in a decimal:\n",
    "# reutn('enter only integers ')\n",
    "#  step 2a: remove decimal and take the whole \n",
    "#   if n == 0:\n",
    "#     return 1\n",
    "#   else:\n",
    "#     return n * function(n - 1)"
   ]
  },
  {
   "cell_type": "code",
   "execution_count": 114,
   "metadata": {},
   "outputs": [
    {
     "data": {
      "text/plain": [
       "1.0"
      ]
     },
     "execution_count": 114,
     "metadata": {},
     "output_type": "execute_result"
    }
   ],
   "source": []
  },
  {
   "cell_type": "markdown",
   "metadata": {},
   "source": [
    "\n",
    "\n",
    "4. **Implement the solution in Python.** Here is the Python code for the factorial function:"
   ]
  },
  {
   "cell_type": "code",
   "execution_count": 10,
   "metadata": {},
   "outputs": [
    {
     "name": "stdout",
     "output_type": "stream",
     "text": [
      "24\n"
     ]
    }
   ],
   "source": [
    "def factorial(n):\n",
    "  if n<0:\n",
    "    return('Enter only positive integers')\n",
    "  elif n == 0:\n",
    "    return 1\n",
    "  else:\n",
    "    return n * factorial(n - 1)\n",
    "  \n",
    "\n",
    "\n",
    "\n",
    "# function call \n",
    "#   4* fn(3)\n",
    "#     4* 3 * fn(2)\n",
    "#       4*3 *2* fn(1)\n",
    "#         4*3*2*1\n",
    "\n",
    "\n",
    "\n",
    "\n",
    "# fn call - 5\n",
    "# fn call - 4\n",
    "# fn call - 3\n",
    "\n",
    "\n",
    "# # 4*3*2*1*1\n",
    "\n",
    "# print(factorial(10))\n",
    "# print(factorial(3))\n"
   ]
  },
  {
   "cell_type": "markdown",
   "metadata": {},
   "source": [
    "5.  **Test and debug the solution**. We can test the factorial function by calling it with different numbers. For example, the following code should print the number 120:"
   ]
  },
  {
   "cell_type": "code",
   "execution_count": 11,
   "metadata": {},
   "outputs": [
    {
     "name": "stdout",
     "output_type": "stream",
     "text": [
      "Enter only positive integers\n"
     ]
    }
   ],
   "source": [
    "print(factorial(-1))"
   ]
  },
  {
   "cell_type": "markdown",
   "metadata": {},
   "source": [
    "Analyze the efficiency of the solution. The factorial function is a recursive function, which means that it calls itself. This can make it inefficient for large numbers. There are other ways to find the factorial of a number that are more efficient.\n",
    "\n",
    "**Conclusion**\n",
    "\n",
    "Algorithmic thinking is a critical skill for programmers and for anyone who wants to solve problems in a logical and efficient way. This tutorial has introduced the basic concepts of algorithmic thinking and has shown how to apply them to solve a problem in Python.\n",
    "\n"
   ]
  },
  {
   "cell_type": "markdown",
   "metadata": {},
   "source": [
    "## Algorithm Efficiency and time complexity"
   ]
  },
  {
   "cell_type": "markdown",
   "metadata": {},
   "source": [
    "**What is algorithm efficiency?**\n",
    "\n",
    "Algorithm efficiency is a measure of how well an algorithm performs as the size of its input increases. A more efficient algorithm will take less time and space to run than a less efficient algorithm.\n",
    "\n"
   ]
  },
  {
   "cell_type": "markdown",
   "metadata": {},
   "source": [
    "**What is time complexity?**\n",
    "\n",
    "Time complexity is a measure of how the running time of an algorithm grows as the size of its input grows. It is typically expressed using big O notation.\n"
   ]
  },
  {
   "cell_type": "markdown",
   "metadata": {},
   "source": [
    "**There are three main types of time complexity:**\n",
    "\n",
    "1. Constant time\n",
    "2. Linear time\n",
    "3. Quadratic time\n"
   ]
  },
  {
   "cell_type": "markdown",
   "metadata": {},
   "source": [
    "**1. Constant time:** The running time of the algorithm does not depend on the size of the input. For example, the following Python function has a constant time complexity:"
   ]
  },
  {
   "cell_type": "code",
   "execution_count": null,
   "metadata": {},
   "outputs": [
    {
     "data": {
      "text/plain": [
       "6"
      ]
     },
     "metadata": {},
     "output_type": "display_data"
    }
   ],
   "source": [
    "def adder(n):\n",
    "  return n + 1\n",
    "  \n",
    "\n",
    "adder(5)\n",
    "\n",
    "# O(1)"
   ]
  },
  {
   "cell_type": "markdown",
   "metadata": {},
   "source": [
    "**2. Linear time**: The running time of the algorithm is proportional to the size of the input. For example, the following Python function has a linear time complexity:"
   ]
  },
  {
   "cell_type": "code",
   "execution_count": 17,
   "metadata": {},
   "outputs": [
    {
     "name": "stdout",
     "output_type": "stream",
     "text": [
      "0\n",
      "1\n",
      "2\n",
      "3\n",
      "4\n",
      "5\n",
      "6\n",
      "7\n",
      "8\n",
      "9\n"
     ]
    }
   ],
   "source": [
    "def linear_time_function(n):\n",
    "  for i in range(n):\n",
    "    print(i)\n",
    "\n",
    "\n",
    "\n",
    "linear_time_function(10)\n",
    "\n",
    "\n",
    "# O(n)"
   ]
  },
  {
   "cell_type": "markdown",
   "metadata": {},
   "source": [
    "**Quadratic time:** The running time of the algorithm is proportional to the square of the size of the input. For example, the following Python function has a quadratic time complexity:"
   ]
  },
  {
   "cell_type": "code",
   "execution_count": 19,
   "metadata": {},
   "outputs": [
    {
     "name": "stdout",
     "output_type": "stream",
     "text": [
      "0 0 0\n",
      "0 0 1\n",
      "0 1 0\n",
      "0 1 1\n",
      "1 0 0\n",
      "1 0 1\n",
      "1 1 0\n",
      "1 1 1\n"
     ]
    }
   ],
   "source": [
    "def quadratic_time_function(n):\n",
    "  for i in range(n):\n",
    "    for j in range(n):\n",
    "      for k in range(n):\n",
    "        if True:\n",
    "          print(i,j,k)\n",
    "      \n",
    "\n",
    "quadratic_time_function(2)\n",
    "\n",
    "# Ο(n^3)\n",
    "\n",
    "# n=2\n",
    "# i=0\n",
    "# j=0\n",
    "\n",
    "# print:\n",
    "# 0,0\n",
    "# 0,1\n",
    "# 1,0\n",
    "# 1,1\n",
    "\n",
    "# O(n^3 + 2)\n"
   ]
  },
  {
   "cell_type": "markdown",
   "metadata": {},
   "source": [
    "^\n",
    "\n",
    "^^\n",
    "\n",
    "^^^"
   ]
  },
  {
   "cell_type": "markdown",
   "metadata": {},
   "source": [
    "**How to analyze the time complexity of an algorithm**\n",
    "\n",
    "There are a few different ways to analyze the time complexity of an algorithm. One way is to use a stopwatch to measure the running time of the algorithm for different sizes of input. Another way is to use a mathematical analysis \n",
    "\n",
    "\n",
    "**Improving the efficiency of an algorithm**\n",
    "\n",
    "There are a few different ways to improve the efficiency of an algorithm. One way is to use a more efficient algorithm. Another way is to optimize the implementation of the algorithm.\n",
    "\n"
   ]
  },
  {
   "cell_type": "markdown",
   "metadata": {},
   "source": [
    "### Big Oh Notation, Ο\n",
    "The notation Ο(n) is the formal way to express the upper bound of an algorithm's running time. It measures the worst case time complexity or the longest amount of time an algorithm can possibly take to complete.\n",
    "\n"
   ]
  },
  {
   "cell_type": "markdown",
   "metadata": {},
   "source": [
    "## Data Structures"
   ]
  },
  {
   "cell_type": "markdown",
   "metadata": {},
   "source": [
    "A data structure is a way of organizing and storing data in a computer so that it can be accessed and used efficiently. It refers to the logical or mathematical representation of data, as well as the implementation in a computer program."
   ]
  },
  {
   "cell_type": "code",
   "execution_count": null,
   "metadata": {},
   "outputs": [],
   "source": [
    "Hi how are you?"
   ]
  },
  {
   "cell_type": "code",
   "execution_count": null,
   "metadata": {},
   "outputs": [],
   "source": []
  },
  {
   "cell_type": "markdown",
   "metadata": {},
   "source": [
    "Step 1: Add whatever I'm deleting to a list in the last position\n",
    "\n",
    "Step 2: If user press ctrl+z on keyboard, paste whatever is in the last position of the above list to where the insertion point is. \n",
    "\n",
    "Step 3: delete that last postion value from the list"
   ]
  },
  {
   "cell_type": "markdown",
   "metadata": {},
   "source": [
    "### Stack\n",
    "\n",
    "A stack is a linear data structure that follows the Last-In, First-Out (LIFO) principle. This means that the last element added to the stack is the first element to be removed.\n",
    "\n"
   ]
  },
  {
   "cell_type": "markdown",
   "metadata": {},
   "source": [
    "**Operations on a stack**\n",
    "\n",
    "The following are the basic operations on a stack:\n",
    "\n",
    "*  **Push**: Adds an element to the top of the stack.\n",
    "*  **Pop**: Removes the element from the top of the stack.\n",
    "*  **Peek**: Returns the element at the top of the stack without removing it.\n",
    "*  **IsEmpty**: Checks if the stack is empty.\n",
    "*  **IsFull**: Checks if the stack is full."
   ]
  },
  {
   "cell_type": "markdown",
   "metadata": {},
   "source": [
    "**Stack Implementation in Python**"
   ]
  },
  {
   "cell_type": "code",
   "execution_count": 73,
   "metadata": {},
   "outputs": [],
   "source": [
    "def scream(text):\n",
    "  # print(text)\n",
    "  None\n",
    "\n",
    " \n",
    "class Stack:\n",
    "  def __init__(self):\n",
    "    self.items = []\n",
    "\n",
    "  def push(self, item):\n",
    "    self.items.append(item)\n",
    "    print(item,\"added to stack\")\n",
    "\n",
    "  def pop(self):\n",
    "    return self.items.pop()\n",
    "\n",
    "  def peek(self):\n",
    "    return self.items[-1]\n",
    "\n",
    "  def is_empty(self):\n",
    "    return len(self.items) == 0\n",
    "  \n",
    "\n",
    "\n",
    "  # Queue - FIFO\n",
    "\n",
    "  # list =[a][b][c][c][d][e]\n",
    "  # POP = a\n",
    "  "
   ]
  },
  {
   "cell_type": "code",
   "execution_count": null,
   "metadata": {},
   "outputs": [],
   "source": [
    "# Python list pop() is an inbuilt function in Python that removes and returns the last value from the List or the given index value."
   ]
  },
  {
   "cell_type": "code",
   "execution_count": 40,
   "metadata": {},
   "outputs": [
    {
     "name": "stdout",
     "output_type": "stream",
     "text": [
      "hi\n"
     ]
    }
   ],
   "source": [
    "scream(\"hi\")\n",
    "print(\"hi\")"
   ]
  },
  {
   "cell_type": "code",
   "execution_count": 22,
   "metadata": {},
   "outputs": [],
   "source": [
    "stack_1 = Stack()"
   ]
  },
  {
   "cell_type": "code",
   "execution_count": 70,
   "metadata": {},
   "outputs": [
    {
     "name": "stdout",
     "output_type": "stream",
     "text": [
      "1 added to stack\n",
      "2 added to stack\n",
      "3 added to stack\n"
     ]
    }
   ],
   "source": [
    "stack_1.push(1)\n",
    "stack_1.push(2)\n",
    "stack_1.push(3)"
   ]
  },
  {
   "cell_type": "code",
   "execution_count": 71,
   "metadata": {},
   "outputs": [
    {
     "data": {
      "text/plain": [
       "[1, 2, 3]"
      ]
     },
     "execution_count": 71,
     "metadata": {},
     "output_type": "execute_result"
    }
   ],
   "source": [
    "stack_1.items"
   ]
  },
  {
   "cell_type": "code",
   "execution_count": 67,
   "metadata": {},
   "outputs": [],
   "source": [
    "list1=['a','b','c']"
   ]
  },
  {
   "cell_type": "code",
   "execution_count": 68,
   "metadata": {},
   "outputs": [
    {
     "data": {
      "text/plain": [
       "'b'"
      ]
     },
     "execution_count": 68,
     "metadata": {},
     "output_type": "execute_result"
    }
   ],
   "source": [
    "list1.pop(1)"
   ]
  },
  {
   "cell_type": "code",
   "execution_count": 74,
   "metadata": {},
   "outputs": [
    {
     "ename": "TypeError",
     "evalue": "Stack.pop() takes 1 positional argument but 2 were given",
     "output_type": "error",
     "traceback": [
      "\u001b[1;31m---------------------------------------------------------------------------\u001b[0m",
      "\u001b[1;31mTypeError\u001b[0m                                 Traceback (most recent call last)",
      "\u001b[1;32mc:\\Users\\Jeyaprakash\\Documents\\GitHub\\Learning-Sessions\\Python Tutorials\\Module 3 Session 1.ipynb Cell 41\u001b[0m line \u001b[0;36m1\n\u001b[1;32m----> <a href='vscode-notebook-cell:/c%3A/Users/Jeyaprakash/Documents/GitHub/Learning-Sessions/Python%20Tutorials/Module%203%20Session%201.ipynb#Y326sZmlsZQ%3D%3D?line=0'>1</a>\u001b[0m \u001b[39mprint\u001b[39m(stack_1\u001b[39m.\u001b[39;49mpop(\u001b[39m1\u001b[39;49m))\n\u001b[0;32m      <a href='vscode-notebook-cell:/c%3A/Users/Jeyaprakash/Documents/GitHub/Learning-Sessions/Python%20Tutorials/Module%203%20Session%201.ipynb#Y326sZmlsZQ%3D%3D?line=1'>2</a>\u001b[0m \u001b[39m# print(lis1.pop())\u001b[39;00m\n",
      "\u001b[1;31mTypeError\u001b[0m: Stack.pop() takes 1 positional argument but 2 were given"
     ]
    }
   ],
   "source": [
    "print(stack_1.pop(1))\n",
    "# print(lis1.pop())"
   ]
  },
  {
   "cell_type": "code",
   "execution_count": null,
   "metadata": {},
   "outputs": [
    {
     "data": {
      "text/plain": [
       "[1]"
      ]
     },
     "metadata": {},
     "output_type": "display_data"
    }
   ],
   "source": [
    "lis1"
   ]
  },
  {
   "cell_type": "code",
   "execution_count": 55,
   "metadata": {},
   "outputs": [
    {
     "name": "stdout",
     "output_type": "stream",
     "text": [
      "2\n"
     ]
    }
   ],
   "source": [
    "print(stack_1.peek())"
   ]
  },
  {
   "cell_type": "code",
   "execution_count": 56,
   "metadata": {},
   "outputs": [
    {
     "name": "stdout",
     "output_type": "stream",
     "text": [
      "False\n"
     ]
    }
   ],
   "source": [
    "print(stack_1.is_empty())"
   ]
  },
  {
   "cell_type": "markdown",
   "metadata": {},
   "source": [
    "**Applications of stacks**\n",
    "\n",
    "*  Undo/redo operations in text editors and word processors.\n",
    "*  Function call stack in programming languages.\n",
    "*  Backtracking algorithms.\n",
    "*  Expression evaluation.\n",
    "*  Tower of Hanoi puzzle.\n"
   ]
  },
  {
   "cell_type": "markdown",
   "metadata": {},
   "source": [
    "### Linked List"
   ]
  },
  {
   "cell_type": "markdown",
   "metadata": {},
   "source": [
    "A linked list is a data structure that consists of a group of nodes, each of which contains data and a pointer to the next node in the list. The first node in the list is called the head, and the last node is called the tail."
   ]
  },
  {
   "cell_type": "markdown",
   "metadata": {},
   "source": [
    "**Operations on a linked list**\n",
    "\n",
    "The following are the basic operations on a linked list:\n",
    "\n",
    "*  Traversal: Visits each node in the list.\n",
    "*  Insertion: Adds a new node to the list.\n",
    "*  Deletion: Removes a node from the list.\n",
    "*  Searching: Finds a node with a given value.\n",
    "*  Sorting: Sorts the nodes in the list."
   ]
  },
  {
   "cell_type": "markdown",
   "metadata": {},
   "source": [
    "**Implementation of a linked list in Python**"
   ]
  },
  {
   "cell_type": "code",
   "execution_count": 76,
   "metadata": {},
   "outputs": [],
   "source": [
    "class Node:\n",
    "  def __init__(self, data):\n",
    "    self.data = data\n",
    "    self.next = None\n",
    "\n",
    "class LinkedList:\n",
    "  def __init__(self):\n",
    "    self.head = None\n",
    "\n",
    "  def traverse(self):\n",
    "    node = self.head\n",
    "    while node is not None:\n",
    "      print(node.data)\n",
    "      node = node.next\n",
    "\n",
    "  def insert_at_head(self, data):\n",
    "    new_node = Node(data)\n",
    "    new_node.next = self.head\n",
    "    self.head = new_node\n",
    "\n",
    "\n",
    "  def insert_at_tail(self, data):\n",
    "    new_node = Node(data)\n",
    "    node = self.head\n",
    "    while node.next is not None:\n",
    "      node = node.next\n",
    "\n",
    "    node.next = new_node\n",
    "\n",
    "  def delete_at_head(self):\n",
    "    if self.head is None:\n",
    "      return\n",
    "    self.head = self.head.next\n",
    "\n",
    "  def delete_at_tail(self):\n",
    "    node = self.head\n",
    "    \n",
    "    if node is None:\n",
    "      return\n",
    "    if node.next is None:\n",
    "      self.head = None\n",
    "      return\n",
    "    \n",
    "    while node.next.next is not None:\n",
    "      node = node.next\n",
    "    node.next = None\n",
    "\n",
    "  def search(self, key):\n",
    "    node = self.head\n",
    "\n",
    "    while node is not None:\n",
    "      if node.data == key:\n",
    "        return node\n",
    "      node = node.next\n",
    "\n",
    "    return None\n",
    "  \n",
    "  \n",
    "  def replace(self,search_key, replace_with):\n",
    "    node = self.head\n",
    "\n",
    "    while node is not None:\n",
    "      if node.data == search_key:\n",
    "        node.data = replace_with\n",
    "        return node\n",
    "      node = node.next\n",
    "    return None\n",
    "\n",
    "# 3 1 2 5 1\n",
    "# 1 3 2 5 1\n",
    "# 1 2 3 5 1\n",
    "# 1 2 3 1 5\n",
    "# 1 2 1 3 5\n",
    "# 1 1 2 3 5\n",
    "\n",
    "# 1. take 1st node as current  Node\n",
    "# 2. compare current and nxt\n",
    "# 3. if current > next: swap\n",
    "#     else: no swap\n",
    "# 4. Increment curr and next\n",
    "# 5. Run step 2 to 4 in loop until the end of LL\n",
    "\n",
    "  def sort(self):\n",
    "    node = self.head\n",
    "    while node and node.next is not None:\n",
    "      next_node = node.next\n",
    "\n",
    "      while next_node is not None:\n",
    "        if node.data > next_node.data:\n",
    "          # a,b = b,a\n",
    "          node.data, next_node.data = next_node.data, node.data\n",
    "        node = node.next\n",
    "        next_node = next_node.next"
   ]
  },
  {
   "cell_type": "code",
   "execution_count": 77,
   "metadata": {},
   "outputs": [],
   "source": [
    "linked_list = LinkedList()"
   ]
  },
  {
   "cell_type": "code",
   "execution_count": 83,
   "metadata": {},
   "outputs": [
    {
     "name": "stdout",
     "output_type": "stream",
     "text": [
      "2\n",
      "2\n",
      "2\n"
     ]
    }
   ],
   "source": [
    "linked_list.traverse()"
   ]
  },
  {
   "cell_type": "code",
   "execution_count": 82,
   "metadata": {},
   "outputs": [],
   "source": [
    "linked_list.insert_at_head(2)\n",
    "# linked_list.insert_at_head(3)\n",
    "# linked_list.insert_at_head(1)\n",
    "# linked_list.insert_at_tail(1)\n",
    "# linked_list.insert_at_tail(2)\n",
    "# linked_list.insert_at_tail(3)\n",
    "# linked_list.insert_at_tail(4)\n"
   ]
  },
  {
   "cell_type": "code",
   "execution_count": null,
   "metadata": {},
   "outputs": [],
   "source": [
    "linked_list.insert_at_head(1)"
   ]
  },
  {
   "cell_type": "code",
   "execution_count": null,
   "metadata": {},
   "outputs": [
    {
     "name": "stdout",
     "output_type": "stream",
     "text": [
      "1\n",
      "3\n",
      "2\n",
      "2\n",
      "3\n"
     ]
    }
   ],
   "source": [
    "linked_list.traverse()"
   ]
  },
  {
   "cell_type": "code",
   "execution_count": null,
   "metadata": {},
   "outputs": [
    {
     "name": "stdout",
     "output_type": "stream",
     "text": [
      "1\n",
      "2\n",
      "3\n",
      "After Delete At Head\n",
      "2\n",
      "3\n"
     ]
    }
   ],
   "source": [
    "linked_list.traverse()\n",
    "linked_list.delete_at_head()\n",
    "print('After Delete At Head')\n",
    "linked_list.traverse()"
   ]
  },
  {
   "cell_type": "code",
   "execution_count": null,
   "metadata": {},
   "outputs": [],
   "source": [
    "i = 55"
   ]
  },
  {
   "cell_type": "code",
   "execution_count": null,
   "metadata": {},
   "outputs": [
    {
     "name": "stdout",
     "output_type": "stream",
     "text": [
      "4449349680\n"
     ]
    }
   ],
   "source": [
    "print(id(i))"
   ]
  },
  {
   "cell_type": "code",
   "execution_count": null,
   "metadata": {},
   "outputs": [
    {
     "name": "stdout",
     "output_type": "stream",
     "text": [
      "Node with data 12 not found\n"
     ]
    }
   ],
   "source": [
    "node = linked_list.search(12)\n",
    "\n",
    "if node is not None:\n",
    "  print(\"Found node with data 12\")\n",
    "else:\n",
    "  print(\"Node with data 12 not found\")"
   ]
  },
  {
   "cell_type": "code",
   "execution_count": null,
   "metadata": {},
   "outputs": [],
   "source": [
    "# linked_list.sort()\n",
    "\n",
    "# linked_list.traverse()"
   ]
  },
  {
   "cell_type": "markdown",
   "metadata": {},
   "source": [
    "**Applications of linked lists**\n",
    "\n",
    "*  Representing a sequence of data.\n",
    "*  Implementing stacks and queues.\n",
    "*  Parsing data structures.\n",
    "*  Implementing dynamic memory allocation.\n",
    "*  Implementing doubly linked lists.\n"
   ]
  },
  {
   "cell_type": "markdown",
   "metadata": {},
   "source": [
    "**Operations on a stack**\n",
    "\n",
    "The following are the basic operations on a stack:\n",
    "\n",
    "*  **Push**: Adds an element to the top of the stack.\n",
    "*  **Pop**: Removes the element from the top of the stack.\n",
    "*  **Peek**: Returns the element at the top of the stack without removing it.\n",
    "*  **IsEmpty**: Checks if the stack is empty.\n",
    "*  **IsFull**: Checks if the stack is full."
   ]
  },
  {
   "cell_type": "markdown",
   "metadata": {},
   "source": [
    "![image.png](attachment:image.png)"
   ]
  },
  {
   "cell_type": "markdown",
   "metadata": {},
   "source": [
    "**Stack Implementation in Python**"
   ]
  },
  {
   "cell_type": "code",
   "execution_count": null,
   "metadata": {},
   "outputs": [],
   "source": [
    "class Abhsihya_Stack:\n",
    "  def __init__(self):\n",
    "    self.items = []\n",
    "\n",
    "  def push(self, item):\n",
    "    self.items.append(item)\n",
    "    print(item,\"added to stack\")\n",
    "\n",
    "  def pop(self):\n",
    "    return self.items.pop()\n",
    "\n",
    "  def peek(self):\n",
    "    return self.items[-1]\n",
    "\n",
    "  def is_empty(self):\n",
    "    return len(self.items) == 0\n",
    "\n",
    "\n",
    "  # def scream(self,text):\n",
    "  #   # print(text)\n",
    "  #   None\n"
   ]
  },
  {
   "cell_type": "code",
   "execution_count": null,
   "metadata": {},
   "outputs": [],
   "source": [
    "# Python list pop() is an inbuilt function in Python that removes and returns the last value from the List or the given index value."
   ]
  },
  {
   "cell_type": "code",
   "execution_count": null,
   "metadata": {},
   "outputs": [
    {
     "name": "stdout",
     "output_type": "stream",
     "text": [
      "hi\n"
     ]
    }
   ],
   "source": [
    "stack.scream(\"hi\")\n",
    "# print(\"hi\")"
   ]
  },
  {
   "cell_type": "code",
   "execution_count": null,
   "metadata": {},
   "outputs": [],
   "source": [
    "stack = Abhsihya_Stack()"
   ]
  },
  {
   "cell_type": "code",
   "execution_count": null,
   "metadata": {},
   "outputs": [
    {
     "name": "stdout",
     "output_type": "stream",
     "text": [
      "1 added to stack\n",
      "2 added to stack\n",
      "3 added to stack\n"
     ]
    }
   ],
   "source": [
    "stack.push(1)\n",
    "stack.push(2)\n",
    "stack.push(3)"
   ]
  },
  {
   "cell_type": "code",
   "execution_count": null,
   "metadata": {},
   "outputs": [
    {
     "data": {
      "text/plain": [
       "[1, 2]"
      ]
     },
     "metadata": {},
     "output_type": "display_data"
    }
   ],
   "source": [
    "stack.items"
   ]
  },
  {
   "cell_type": "code",
   "execution_count": null,
   "metadata": {},
   "outputs": [],
   "source": [
    "lis1=[1,2]"
   ]
  },
  {
   "cell_type": "code",
   "execution_count": null,
   "metadata": {},
   "outputs": [
    {
     "data": {
      "text/plain": [
       "2"
      ]
     },
     "metadata": {},
     "output_type": "display_data"
    }
   ],
   "source": [
    "stack.pop()\n",
    "lis1.pop()"
   ]
  },
  {
   "cell_type": "code",
   "execution_count": null,
   "metadata": {},
   "outputs": [
    {
     "data": {
      "text/plain": [
       "[1]"
      ]
     },
     "metadata": {},
     "output_type": "display_data"
    }
   ],
   "source": [
    "lis1"
   ]
  },
  {
   "cell_type": "code",
   "execution_count": null,
   "metadata": {},
   "outputs": [
    {
     "name": "stdout",
     "output_type": "stream",
     "text": [
      "3\n"
     ]
    }
   ],
   "source": [
    "print(stack.peek())"
   ]
  },
  {
   "cell_type": "code",
   "execution_count": null,
   "metadata": {},
   "outputs": [
    {
     "name": "stdout",
     "output_type": "stream",
     "text": [
      "False\n"
     ]
    }
   ],
   "source": [
    "print(stack.is_empty())"
   ]
  },
  {
   "cell_type": "markdown",
   "metadata": {},
   "source": [
    "**Applications of stacks**\n",
    "\n",
    "*  Undo/redo operations in text editors and word processors.\n",
    "*  Function call stack in programming languages.\n",
    "*  Backtracking algorithms.\n",
    "*  Expression evaluation.\n",
    "*  Tower of Hanoi puzzle.\n"
   ]
  },
  {
   "cell_type": "markdown",
   "metadata": {},
   "source": [
    "A linked list is a data structure that consists of a group of nodes, each of which contains data and a pointer to the next node in the list. The first node in the list is called the head, and the last node is called the tail."
   ]
  },
  {
   "cell_type": "markdown",
   "metadata": {},
   "source": [
    "**Operations on a linked list**\n",
    "\n",
    "The following are the basic operations on a linked list:\n",
    "\n",
    "*  Traversal: Visits each node in the list.\n",
    "*  Insertion: Adds a new node to the list.\n",
    "*  Deletion: Removes a node from the list.\n",
    "*  Searching: Finds a node with a given value.\n",
    "*  Sorting: Sorts the nodes in the list."
   ]
  },
  {
   "cell_type": "markdown",
   "metadata": {},
   "source": [
    "![image-2.png](attachment:image-2.png)"
   ]
  },
  {
   "cell_type": "markdown",
   "metadata": {},
   "source": [
    "**Implementation of a linked list in Python**"
   ]
  },
  {
   "cell_type": "code",
   "execution_count": null,
   "metadata": {},
   "outputs": [],
   "source": [
    "class Node:\n",
    "  def __init__(self, data):\n",
    "    self.data = data\n",
    "    self.next = None\n",
    "\n",
    "class LinkedList:\n",
    "  def __init__(self):\n",
    "    self.head = None\n",
    "\n",
    "  def traverse(self):\n",
    "    node = self.head\n",
    "    while node is not None:\n",
    "      print(node.data)\n",
    "      node = node.next\n",
    "\n",
    "  def insert_at_head(self, data):\n",
    "    new_node = Node(data)\n",
    "    new_node.next = self.head\n",
    "    self.head = new_node\n",
    "\n",
    "\n",
    "  def insert_at_tail(self, data):\n",
    "    new_node = Node(data)\n",
    "    node = self.head\n",
    "    while node.next is not None:\n",
    "      node = node.next\n",
    "\n",
    "    node.next = new_node\n",
    "\n",
    "  def delete_at_head(self):\n",
    "    if self.head is None:\n",
    "      return\n",
    "    self.head = self.head.next\n",
    "\n",
    "  def delete_at_tail(self):\n",
    "    node = self.head\n",
    "    \n",
    "    if node is None:\n",
    "      return\n",
    "    if node.next is None:\n",
    "      self.head = None\n",
    "      return\n",
    "    \n",
    "    while node.next.next is not None:\n",
    "      node = node.next\n",
    "    node.next = None\n",
    "\n",
    "  def search(self, key):\n",
    "    node = self.head\n",
    "\n",
    "    while node is not None:\n",
    "      if node.data == key:\n",
    "        return node\n",
    "      node = node.next\n",
    "\n",
    "    return None\n",
    "  \n",
    "  def replace(self,search_key, replace_with):\n",
    "    node = self.head\n",
    "\n",
    "    while node is not None:\n",
    "      if node.data == search_key:\n",
    "        node.data = replace_with\n",
    "        return node\n",
    "      node = node.next\n",
    "    return None\n",
    "\n",
    "# 3 1 2 5 1\n",
    "# 1 3 2 5 1\n",
    "# 1 2 3 5 1\n",
    "# 1 2 3 1 5\n",
    "# 1 2 1 3 5\n",
    "# 1 1 2 3 5\n",
    "\n",
    "# 1. take 1st node as current  Node\n",
    "# 2. compare current and nxt\n",
    "# 3. if current > next: swap\n",
    "#     else: no swap\n",
    "# 4. Increment curr and next\n",
    "# 5. Run step 2 to 4 in loop until the end of LL\n",
    "\n",
    "  def sort(self):\n",
    "    node = self.head\n",
    "    while node and node.next is not None:\n",
    "      next_node = node.next\n",
    "\n",
    "      while next_node is not None:\n",
    "        if node.data > next_node.data:\n",
    "          # a,b = b,a\n",
    "          node.data, next_node.data = next_node.data, node.data\n",
    "        node = node.next\n",
    "        next_node = next_node.next"
   ]
  },
  {
   "cell_type": "code",
   "execution_count": null,
   "metadata": {},
   "outputs": [],
   "source": [
    "linked_list = LinkedList()"
   ]
  },
  {
   "cell_type": "code",
   "execution_count": null,
   "metadata": {},
   "outputs": [
    {
     "name": "stdout",
     "output_type": "stream",
     "text": [
      "1\n",
      "2\n",
      "3\n",
      "4\n"
     ]
    }
   ],
   "source": [
    "linked_list.traverse()"
   ]
  },
  {
   "cell_type": "code",
   "execution_count": null,
   "metadata": {},
   "outputs": [],
   "source": [
    "# linked_list.insert_at_head(2)\n",
    "# linked_list.insert_at_head(3)\n",
    "# linked_list.insert_at_head(1)\n",
    "linked_list.insert_at_tail(1)\n",
    "linked_list.insert_at_tail(2)\n",
    "linked_list.insert_at_tail(3)\n",
    "linked_list.insert_at_tail(4)\n"
   ]
  },
  {
   "cell_type": "code",
   "execution_count": null,
   "metadata": {},
   "outputs": [],
   "source": [
    "linked_list.insert_at_head(1)"
   ]
  },
  {
   "cell_type": "code",
   "execution_count": null,
   "metadata": {},
   "outputs": [
    {
     "name": "stdout",
     "output_type": "stream",
     "text": [
      "1\n",
      "3\n",
      "2\n",
      "2\n",
      "3\n"
     ]
    }
   ],
   "source": [
    "linked_list.traverse()"
   ]
  },
  {
   "cell_type": "code",
   "execution_count": null,
   "metadata": {},
   "outputs": [
    {
     "name": "stdout",
     "output_type": "stream",
     "text": [
      "1\n",
      "2\n",
      "3\n",
      "After Delete At Head\n",
      "2\n",
      "3\n"
     ]
    }
   ],
   "source": [
    "linked_list.traverse()\n",
    "linked_list.delete_at_head()\n",
    "print('After Delete At Head')\n",
    "linked_list.traverse()"
   ]
  },
  {
   "cell_type": "code",
   "execution_count": null,
   "metadata": {},
   "outputs": [],
   "source": [
    "i = 55"
   ]
  },
  {
   "cell_type": "code",
   "execution_count": null,
   "metadata": {},
   "outputs": [
    {
     "name": "stdout",
     "output_type": "stream",
     "text": [
      "4449349680\n"
     ]
    }
   ],
   "source": [
    "print(id(i))"
   ]
  },
  {
   "cell_type": "code",
   "execution_count": null,
   "metadata": {},
   "outputs": [
    {
     "name": "stdout",
     "output_type": "stream",
     "text": [
      "Node with data 12 not found\n"
     ]
    }
   ],
   "source": [
    "node = linked_list.search(12)\n",
    "\n",
    "if node is not None:\n",
    "  print(\"Found node with data 12\")\n",
    "else:\n",
    "  print(\"Node with data 12 not found\")"
   ]
  },
  {
   "cell_type": "code",
   "execution_count": null,
   "metadata": {},
   "outputs": [],
   "source": [
    "# linked_list.sort()\n",
    "\n",
    "# linked_list.traverse()"
   ]
  },
  {
   "cell_type": "markdown",
   "metadata": {},
   "source": [
    "**Applications of linked lists**\n",
    "\n",
    "*  Representing a sequence of data.\n",
    "*  Implementing stacks and queues.\n",
    "*  Parsing data structures.\n",
    "*  Implementing dynamic memory allocation.\n",
    "*  Implementing doubly linked lists.\n"
   ]
  },
  {
   "cell_type": "markdown",
   "metadata": {},
   "source": [
    "## Some Standard Algorithms"
   ]
  },
  {
   "cell_type": "markdown",
   "metadata": {},
   "source": [
    "### Binary Search"
   ]
  },
  {
   "cell_type": "markdown",
   "metadata": {},
   "source": [
    "**What is binary search?**\n",
    "\n",
    "Binary search is a search algorithm that finds the position of a target value within a sorted array. It works by repeatedly dividing the array in half and comparing the target value to the middle element of the array. If the target value is equal to the middle element, then the algorithm terminates. Otherwise, the algorithm recursively searches the half of the array that contains the target value.\n"
   ]
  },
  {
   "cell_type": "markdown",
   "metadata": {},
   "source": [
    "**How does binary search work?**\n",
    "\n",
    "Here is an example of how binary search works. Let's say we have an array of numbers sorted in ascending order: [1, 3, 5, 7, 9]. We want to find the position of the number 5.\n",
    "\n",
    "The first step is to divide the array in half. The middle element of the array is 5, so the target value must be in the left half of the array.\n",
    "\n",
    "[1, 3, 5, 7, 9]\n",
    "\n",
    "The next step is to compare the target value (5) to the middle element of the left half of the array (3). Since 5 is greater than 3, we know that the target value must be in the right half of the left half of the array.\n",
    "\n",
    "[1, 3]\n",
    "   \\\n",
    "    5\n",
    "\n",
    "We continue dividing the array in half and comparing the target value to the middle element until we find the target value or until the array is empty.\n",
    "\n",
    "In this case, we will continue dividing the array until we reach the following point:\n",
    "\n",
    "[5]\n",
    "\n",
    "At this point, we have found the target value, and the algorithm terminates.\n",
    "\n"
   ]
  },
  {
   "attachments": {
    "image.png": {
     "image/png": "[encoded data removed]"
    }
   },
   "cell_type": "markdown",
   "metadata": {},
   "source": [
    "![image.png](attachment:image.png)"
   ]
  },
  {
   "cell_type": "code",
   "execution_count": 160,
   "metadata": {},
   "outputs": [],
   "source": [
    "# Binary Search without Any loops\n",
    "# Not preferred way\n",
    "\n",
    "def binary_search(array, target):\n",
    "  left = 0\n",
    "  right = len(array) - 1\n",
    "  mid = (left + right) //2  \n",
    "  if array[mid] == target:\n",
    "    return mid\n",
    "  elif array[mid] < target:\n",
    "    left = mid + 1\n",
    "    mid = (left + right)//2\n",
    "    if array[mid] == target:\n",
    "      return mid\n",
    "    elif array[mid]>target:\n",
    "      right = mid - 1\n",
    "      mid = (left + right)//2\n",
    "      if array[mid] == target:\n",
    "        return mid\n",
    "    elif array[mid]<target:\n",
    "      left = mid + 1\n",
    "      mid = (left + right)//2\n",
    "      if array[mid] == target:\n",
    "        return mid\n",
    "  elif array[mid] > target:\n",
    "    right = mid - 1\n",
    "    mid = (left + right)//2\n",
    "    if array[mid] == target:\n",
    "      return mid\n",
    "    elif array[mid]>target:\n",
    "      right = mid - 1\n",
    "      mid = (left + right)//2\n",
    "      if array[mid] == target:\n",
    "        return mid\n",
    "    elif array[mid]<target:\n",
    "      left = mid + 1\n",
    "      mid = (left + right)//2\n",
    "      if array[mid] == target:\n",
    "        return mid\n",
    "\n",
    "# target= 3\n",
    "# left = 0,4\n",
    "# right = 6,4\n",
    "# mid =  3,5,4\n"
   ]
  },
  {
   "cell_type": "code",
   "execution_count": null,
   "metadata": {},
   "outputs": [],
   "source": [
    "def binary_search(array, target):\n",
    "  left = 0\n",
    "  right = len(array) - 1\n",
    "  mid = (left + right) //2  \n",
    "  \n",
    "  while left <= right:\n",
    "    mid = (left + right) // 2\n",
    "    if array[mid] == target:\n",
    "        return mid\n",
    "    elif array[mid] < target:\n",
    "        left = mid + 1\n",
    "    elif array[mid] > target:\n",
    "        right = mid - 1\n",
    "\n",
    "return -1"
   ]
  },
  {
   "cell_type": "code",
   "execution_count": null,
   "metadata": {},
   "outputs": [],
   "source": []
  },
  {
   "cell_type": "code",
   "execution_count": 164,
   "metadata": {},
   "outputs": [
    {
     "name": "stdout",
     "output_type": "stream",
     "text": [
      "3\n"
     ]
    }
   ],
   "source": [
    "array = [1, 2, 3, 4, 6, 7, 9]\n",
    "target = 4\n",
    "\n",
    "index = binary_search(array, target)\n",
    "\n",
    "print(index)\n"
   ]
  },
  {
   "cell_type": "code",
   "execution_count": null,
   "metadata": {},
   "outputs": [],
   "source": []
  },
  {
   "cell_type": "markdown",
   "metadata": {},
   "source": [
    "This code works by first initializing the low and high variables to the first and last elements of the array, respectively. Then, it enters a loop that continues as long as low is less than or equal to high.\n",
    "\n",
    "In each iteration of the loop, the code calculates the middle element of the array and compares it to the target value. If the middle element is equal to the target value, then the code returns the index of the middle element. Otherwise, the code updates the low or high variable depending on whether the target value is greater than or less than the middle element.\n",
    "\n",
    "If the loop terminates, then the target value was not found in the array. In this case, the code returns -1."
   ]
  },
  {
   "cell_type": "markdown",
   "metadata": {},
   "source": [
    "**Time complexity of binary search**\n",
    "\n",
    "The time complexity of binary search is O(log n), where n is the number of elements in the array. This is because the algorithm divides the array in half in each iteration of the loop. The number of iterations of the loop is log2 n, which is the logarithm of n base 2.\n",
    "\n",
    "**Space complexity of binary search**\n",
    "\n",
    "\n",
    "The space complexity of binary search is O(1), which means that it only takes a constant amount of space to run the algorithm. This is because the algorithm does not need to create any additional data structures.\n",
    "\n"
   ]
  },
  {
   "cell_type": "markdown",
   "metadata": {},
   "source": [
    "### Euclid's Algorithm"
   ]
  },
  {
   "cell_type": "markdown",
   "metadata": {},
   "source": [
    "**What is Euclid's algorithm?**\n",
    "\n",
    "Euclid's algorithm is an algorithm for finding the greatest common divisor (GCD) of two positive integers. It works by repeatedly subtracting the smaller integer from the larger integer until the remainder is 0. The GCD of the two integers is then the remainder.\n",
    "\n"
   ]
  },
  {
   "cell_type": "markdown",
   "metadata": {},
   "source": [
    "**How does Euclid's algorithm work?**\n",
    "\n",
    "Here is an example of how Euclid's algorithm works. Let's say we want to find the GCD of 15 and 12.\n",
    "\n",
    "15\n",
    "\n",
    "12\n",
    "\n",
    "  3\n"
   ]
  },
  {
   "cell_type": "markdown",
   "metadata": {},
   "source": [
    "*  The first step is to subtract the smaller integer (12) from the larger integer (15). The result is 3.\n",
    "*  The next step is to repeat the process, this time using 12 and 3. We subtract 3 from 12, and the result is 9.\n",
    "*  We continue this process until the remainder is 0. In this case, the remainder is 0 after the first iteration, so the GCD of 15 and 12 is 3."
   ]
  },
  {
   "cell_type": "markdown",
   "metadata": {},
   "source": [
    "**Python code for Euclid's algorithm**\n"
   ]
  },
  {
   "cell_type": "code",
   "execution_count": 15,
   "metadata": {},
   "outputs": [
    {
     "data": {
      "text/plain": [
       "3"
      ]
     },
     "execution_count": 15,
     "metadata": {},
     "output_type": "execute_result"
    }
   ],
   "source": [
    "3%6"
   ]
  },
  {
   "cell_type": "code",
   "execution_count": 1,
   "metadata": {},
   "outputs": [],
   "source": [
    "def gcd(a, b):\n",
    "  while b != 0:\n",
    "    a, b = b, a % b\n",
    "  return a"
   ]
  },
  {
   "cell_type": "markdown",
   "metadata": {},
   "source": [
    "5,10\n",
    "a=5, 10, 5\n",
    "b=10, 5, 0"
   ]
  },
  {
   "cell_type": "markdown",
   "metadata": {},
   "source": [
    "This code works by first initializing the variables a and b to the two positive integers whose GCD we want to find. Then, it enters a loop that continues as long as b is not 0.\n",
    "\n",
    "In each iteration of the loop, the code swaps the values of a and b so that a is the smaller integer and b is the larger integer. Then, the code divides a by b and updates a to the remainder.\n",
    "\n",
    "The loop terminates when b is 0. In this case, the value of a is the GCD of the two integers.\n",
    "\n"
   ]
  },
  {
   "cell_type": "code",
   "execution_count": 3,
   "metadata": {},
   "outputs": [
    {
     "data": {
      "text/plain": [
       "5"
      ]
     },
     "execution_count": 3,
     "metadata": {},
     "output_type": "execute_result"
    }
   ],
   "source": [
    "gcd(5,10)\n"
   ]
  },
  {
   "cell_type": "code",
   "execution_count": 170,
   "metadata": {},
   "outputs": [
    {
     "data": {
      "text/plain": [
       "0"
      ]
     },
     "execution_count": 170,
     "metadata": {},
     "output_type": "execute_result"
    }
   ],
   "source": [
    "2%1"
   ]
  },
  {
   "cell_type": "markdown",
   "metadata": {},
   "source": [
    "**Time complexity of Euclid's algorithm**\n",
    "\n",
    "The time complexity of Euclid's algorithm is O(log n), where n is the larger of the two integers. This is because the algorithm divides the larger integer by the smaller integer in each iteration of the loop. The number of iterations of the loop is log2 n, which is the logarithm of n base 2.\n",
    "\n"
   ]
  },
  {
   "cell_type": "markdown",
   "metadata": {},
   "source": [
    "**Space complexity of Euclid's algorithm**\n",
    "\n",
    "The space complexity of Euclid's algorithm is O(1), which means that it only takes a constant amount of space to run the algorithm. This is because the algorithm does not need to create any additional data structures.\n",
    "\n"
   ]
  },
  {
   "cell_type": "code",
   "execution_count": null,
   "metadata": {},
   "outputs": [],
   "source": [
    "# stuId subject score\n",
    "# 1 Math 100\n",
    "# 1 Eng  80\n",
    "# 2 Math 100\n",
    "# 2 Eng 85\n",
    "# 3 Math 100\n",
    "# 3 Eng 89"
   ]
  },
  {
   "cell_type": "markdown",
   "metadata": {},
   "source": [
    "GroupBy - Pivot  \n",
    "Subject avg_marks\n",
    "Math    100\n",
    "Eng     86"
   ]
  },
  {
   "cell_type": "code",
   "execution_count": null,
   "metadata": {},
   "outputs": [],
   "source": [
    "# Questions from Prakash\n",
    "# Recordings not up to date"
   ]
  }
 ],
 "metadata": {
  "kernelspec": {
   "display_name": "Python 3",
   "language": "python",
   "name": "python3"
  },
  "language_info": {
   "codemirror_mode": {
    "name": "ipython",
    "version": 3
   },
   "file_extension": ".py",
   "mimetype": "text/x-python",
   "name": "python",
   "nbconvert_exporter": "python",
   "pygments_lexer": "ipython3",
   "version": "3.11.5"
  },
  "orig_nbformat": 4
 },
 "nbformat": 4,
 "nbformat_minor": 2
}
