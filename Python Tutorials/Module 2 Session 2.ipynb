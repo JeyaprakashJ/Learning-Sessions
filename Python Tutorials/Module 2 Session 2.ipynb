{
 "cells": [
  {
   "cell_type": "markdown",
   "metadata": {},
   "source": [
    "## Agenda\n",
    "\n",
    "*  Regular Expressions\n",
    "*  Python PIP\n",
    "*  Python JSON\n",
    "*  Pickling"
   ]
  },
  {
   "cell_type": "markdown",
   "metadata": {},
   "source": [
    "## Regular Expressions Regex"
   ]
  },
  {
   "cell_type": "markdown",
   "metadata": {},
   "source": [
    "#### Why Regex?"
   ]
  },
  {
   "cell_type": "code",
   "execution_count": 160,
   "metadata": {},
   "outputs": [],
   "source": [
    "text = \"This is a string with some email addresses: johndoe@example.com, janedoenew@example.org\""
   ]
  },
  {
   "cell_type": "code",
   "execution_count": 230,
   "metadata": {},
   "outputs": [],
   "source": [
    "import re"
   ]
  },
  {
   "cell_type": "markdown",
   "metadata": {},
   "source": [
    "#### Introduction\n",
    "Regular expressions (regex) are a powerful tool for finding patterns in text. They can be used to extract information from text, to validate data, and to perform a variety of other tasks.\n",
    "\n",
    "In Python, regular expressions are implemented in the re module. The re module provides a number of functions and constants to work with regular expressions."
   ]
  },
  {
   "cell_type": "markdown",
   "metadata": {},
   "source": [
    "#### Basics of Regular Expressions\n",
    "A regular expression is a sequence of characters that defines a pattern. The pattern can be used to match a specific string or a set of strings.\n",
    "\n",
    "The basic components of a regular expression are:\n",
    "\n",
    "*  Characters: Any character can be used in a regular expression.\n",
    "*  Metacharacters: Metacharacters are special characters that have special meaning in regular expressions.\n",
    "*  Quantifiers: Quantifiers are used to specify the number of times a character or group of characters can occur in a pattern.\n"
   ]
  },
  {
   "cell_type": "markdown",
   "metadata": {},
   "source": [
    "##### Metacharacters\n",
    "The following are some of the most common metacharacters:\n",
    "\n",
    "*  .: Matches any character.\n",
    "*  +: Matches one or more occurrences of the preceding character or group of characters.\n",
    "*  ?: Matches zero or one occurrence of the preceding character or group of characters.\n",
    "*  [: Matches any character in the specified set.\n",
    "*  ]: Closes a set.\n",
    "*  \\: Escapes the next character, making it a literal character.\n"
   ]
  },
  {
   "cell_type": "markdown",
   "metadata": {},
   "source": [
    "##### Quantifiers\n",
    "The following are some of the most common quantifiers:\n",
    "\n",
    "*  {n}: Matches exactly n occurrences of the preceding character or group of characters.\n",
    "*  {n,m}: Matches n to m occurrences of the preceding character or group of characters.\n",
    "*  {n,}: Matches n or more occurrences of the preceding character or group of characters."
   ]
  },
  {
   "cell_type": "markdown",
   "metadata": {},
   "source": [
    "##### Examples\n",
    "\n",
    "Here are some examples of regular expressions:\n",
    "\n",
    "*  .*: Matches any string.\n",
    "*  [a-z]+: Matches any string of one or more lowercase letters.\n",
    "*  \\d: Matches any digit.\n",
    "*  \\w: Matches any alphanumeric character.\n",
    "*  \\s: Matches any whitespace character.\n",
    "*  ^: Matches the beginning of a string.\n",
    "*  $: Matches the end of a string.\n"
   ]
  },
  {
   "cell_type": "code",
   "execution_count": 259,
   "metadata": {},
   "outputs": [],
   "source": [
    "import re"
   ]
  },
  {
   "cell_type": "code",
   "execution_count": 289,
   "metadata": {},
   "outputs": [],
   "source": [
    "text = \"This is a string with some numbers: 12345\""
   ]
  },
  {
   "cell_type": "code",
   "execution_count": 290,
   "metadata": {},
   "outputs": [
    {
     "name": "stdout",
     "output_type": "stream",
     "text": [
      "['12345']\n"
     ]
    }
   ],
   "source": [
    "pattern = '\\d+'\n",
    "matches = re.findall(pattern, text)\n",
    "\n",
    "print(matches)\n"
   ]
  },
  {
   "cell_type": "code",
   "execution_count": 271,
   "metadata": {},
   "outputs": [
    {
     "name": "stdout",
     "output_type": "stream",
     "text": [
      "<re.Match object; span=(2, 4), match='is'>\n",
      "<class 're.Match'>\n",
      "2 4\n",
      "<re.Match object; span=(5, 7), match='is'>\n",
      "<class 're.Match'>\n",
      "5 7\n"
     ]
    }
   ],
   "source": [
    "pattern2= 'is'\n",
    "matches = re.finditer(pattern2,text)\n",
    "\n",
    "pattern = re.compile('is')\n",
    "matches = pattern.finditer(text)\n",
    "\n",
    "\n",
    "# print(matches)\n",
    "# print(type(matches))\n",
    "\n",
    "\n",
    "for match in matches:\n",
    "    print(match)\n",
    "    print(type(match))\n",
    "    print(match.start(),match.end())"
   ]
  },
  {
   "cell_type": "code",
   "execution_count": 258,
   "metadata": {},
   "outputs": [
    {
     "name": "stdout",
     "output_type": "stream",
     "text": [
      "<callable_iterator object at 0x116179460>\n",
      "<re.Match object; span=(22, 25), match='the'>\n",
      "22 25\n",
      "<re.Match object; span=(32, 35), match='the'>\n",
      "32 35\n"
     ]
    }
   ],
   "source": [
    "text = \"This is a string with the word 'the' in it.\"\n",
    "\n",
    "pattern = 'the'\n",
    "matches = re.finditer(pattern, text)\n",
    "print(matches)\n",
    "for match in matches:\n",
    "  print(match)\n",
    "  print(match.start(), match.end())\n"
   ]
  },
  {
   "cell_type": "code",
   "execution_count": 200,
   "metadata": {},
   "outputs": [
    {
     "name": "stdout",
     "output_type": "stream",
     "text": [
      "['T', 'h', 'i', 's', ' ', 'i', 's', ' ', 'a', ' ', 's', 't', 'r', 'i', 'n', 'g', ' ', 'w', 'i', 't', 'h', ' ', 's', 'o', 'm', 'e', ' ', 'p', 'u', 'n', 'c', 't', 'u', 'a', 't', 'i', 'o', 'n', '.']\n"
     ]
    }
   ],
   "source": [
    "text = \"This is a string with some punctuation.\"\n",
    "pattern = '.'\n",
    "matches = re.findall(pattern, text)\n",
    "\n",
    "print(matches)\n",
    "\n",
    "# . Matches any character.\n"
   ]
  },
  {
   "cell_type": "code",
   "execution_count": 295,
   "metadata": {},
   "outputs": [
    {
     "name": "stdout",
     "output_type": "stream",
     "text": [
      "\\n\n"
     ]
    }
   ],
   "source": [
    "print(r'\\n')"
   ]
  },
  {
   "cell_type": "code",
   "execution_count": 351,
   "metadata": {},
   "outputs": [
    {
     "name": "stdout",
     "output_type": "stream",
     "text": [
      "['is', 'is', 'is']\n"
     ]
    }
   ],
   "source": [
    "text = \"This is is a string with some punctuation.\"\n",
    "pattern = r'\\bis'\n",
    "matches = re.findall(pattern, text)\n",
    "print(matches)"
   ]
  },
  {
   "cell_type": "code",
   "execution_count": 304,
   "metadata": {},
   "outputs": [
    {
     "name": "stdout",
     "output_type": "stream",
     "text": [
      "['s', 's', 's', 's', 's']\n"
     ]
    }
   ],
   "source": [
    "text = \"This is a string with some punctuations\"\n",
    "pattern = 's+'\n",
    "matches = re.findall(pattern, text)\n",
    "print(matches)"
   ]
  },
  {
   "cell_type": "code",
   "execution_count": 306,
   "metadata": {},
   "outputs": [
    {
     "name": "stdout",
     "output_type": "stream",
     "text": [
      "['This', 'is', 'a', 'string', 'with', 'some', 'punctuation']\n"
     ]
    }
   ],
   "source": [
    "text = \"This is a string with some punctuation.\"\n",
    "pattern = '[a-z,A-Z]+'\n",
    "matches = re.findall(pattern, text)\n",
    "print(matches)"
   ]
  },
  {
   "cell_type": "code",
   "execution_count": 220,
   "metadata": {},
   "outputs": [
    {
     "name": "stdout",
     "output_type": "stream",
     "text": [
      "['.']\n"
     ]
    }
   ],
   "source": [
    "text = \"This is a string with some punctuation.\"\n",
    "pattern = '\\.'\n",
    "matches = re.findall(pattern, text)\n",
    "print(matches)"
   ]
  },
  {
   "cell_type": "code",
   "execution_count": 307,
   "metadata": {},
   "outputs": [
    {
     "name": "stdout",
     "output_type": "stream",
     "text": [
      "['This']\n"
     ]
    }
   ],
   "source": [
    "text = \"This is a string with some punctuation.\"\n",
    "pattern = '^This'\n",
    "matches = re.findall(pattern, text)\n",
    "print(matches)"
   ]
  },
  {
   "cell_type": "code",
   "execution_count": 371,
   "metadata": {},
   "outputs": [
    {
     "name": "stdout",
     "output_type": "stream",
     "text": [
      "['punctuation.']\n"
     ]
    }
   ],
   "source": [
    "text = \"This is a string with some punctuation.\"\n",
    "pattern = 'punctuation.$'\n",
    "matches = re.findall(pattern, text)\n",
    "print(matches)"
   ]
  },
  {
   "cell_type": "code",
   "execution_count": 383,
   "metadata": {},
   "outputs": [
    {
     "name": "stdout",
     "output_type": "stream",
     "text": [
      "['.']\n"
     ]
    }
   ],
   "source": [
    "# text = '''This is a string. with some punctuation.\n",
    "# This is a string with some punctuation'''\n",
    "text = 'This is. a string. with some punctuation.'\n",
    "# pattern = '.*(?!.)$'\n",
    "\n",
    "pattern = ''\n",
    "matches = re.findall(pattern, text)\n",
    "print(matches)"
   ]
  },
  {
   "cell_type": "code",
   "execution_count": 338,
   "metadata": {},
   "outputs": [
    {
     "name": "stdout",
     "output_type": "stream",
     "text": [
      "['jp@gmail.com', 'jp@gmail.net']\n"
     ]
    }
   ],
   "source": [
    "text = \" some email addresses: johndoe@example.com, janedoenew@example.org, jp@gmail.com,jp@gmail.net, jp@gmailnew.com\"\n",
    "pattern = '\\w+@\\w+\\.\\w+'\n",
    "emails = re.findall(pattern, text)\n",
    "\n",
    "g_pattern = '\\w+@gmail\\.[com|net]+'\n",
    "\n",
    "gmails = re.findall(g_pattern, text)\n",
    "print(gmails)\n",
    "# print(emails)"
   ]
  },
  {
   "cell_type": "code",
   "execution_count": 346,
   "metadata": {},
   "outputs": [
    {
     "name": "stdout",
     "output_type": "stream",
     "text": [
      "['+91-9025228001', '+91 9025228002']\n"
     ]
    }
   ],
   "source": [
    "text = '''555-444-2221\n",
    "+91*9025228000\n",
    "+91-9025228001\n",
    "+91 9025228002'''\n",
    "\n",
    "# pattern = '\\+\\d\\d.\\d\\d\\d\\d\\d\\d\\d\\d\\d\\d'\n",
    "# emails = re.findall(pattern, text)\n",
    "# print(emails)\n",
    "\n",
    "# pattern = '\\+\\d\\d.\\d+'\n",
    "# emails = re.findall(pattern, text)\n",
    "# print(emails)\n",
    "\n",
    "pattern = '\\+\\d\\d[\\s-]\\d+'\n",
    "emails = re.findall(pattern, text)\n",
    "print(emails)\n"
   ]
  },
  {
   "cell_type": "markdown",
   "metadata": {},
   "source": [
    "## Python PIP"
   ]
  },
  {
   "cell_type": "markdown",
   "metadata": {},
   "source": [
    "Pip is a package manager for Python. It is used to install, uninstall, and manage Python packages.\n",
    "\n"
   ]
  },
  {
   "cell_type": "code",
   "execution_count": 384,
   "metadata": {},
   "outputs": [
    {
     "name": "stdout",
     "output_type": "stream",
     "text": [
      "pip 23.2.1 from /Users/Z00CVY1/Library/Python/3.9/lib/python/site-packages/pip (python 3.9)\n",
      "Note: you may need to restart the kernel to use updated packages.\n"
     ]
    }
   ],
   "source": [
    "%pip --version"
   ]
  },
  {
   "cell_type": "code",
   "execution_count": 385,
   "metadata": {},
   "outputs": [
    {
     "name": "stdout",
     "output_type": "stream",
     "text": [
      "Package             Version\n",
      "------------------- -----------\n",
      "altgraph            0.17.2\n",
      "appnope             0.1.3\n",
      "asttokens           2.2.1\n",
      "backcall            0.2.0\n",
      "comm                0.1.4\n",
      "contourpy           1.1.0\n",
      "cycler              0.11.0\n",
      "DateTime            5.2\n",
      "debugpy             1.6.7.post1\n",
      "decorator           5.1.1\n",
      "executing           1.2.0\n",
      "fonttools           4.42.0\n",
      "future              0.18.2\n",
      "importlib-metadata  6.8.0\n",
      "importlib-resources 6.0.1\n",
      "ipykernel           6.25.1\n",
      "ipython             8.14.0\n",
      "jedi                0.19.0\n",
      "joblib              1.3.2\n",
      "jupyter_client      8.3.0\n",
      "jupyter_core        5.3.1\n",
      "kiwisolver          1.4.4\n",
      "macholib            1.15.2\n",
      "matplotlib          3.7.2\n",
      "matplotlib-inline   0.1.6\n",
      "nest-asyncio        1.5.7\n",
      "numpy               1.25.2\n",
      "packaging           23.1\n",
      "parso               0.8.3\n",
      "pexpect             4.8.0\n",
      "pickleshare         0.7.5\n",
      "Pillow              10.0.0\n",
      "pip                 23.2.1\n",
      "platformdirs        3.10.0\n",
      "prompt-toolkit      3.0.39\n",
      "psutil              5.9.5\n",
      "ptyprocess          0.7.0\n",
      "pure-eval           0.2.2\n",
      "Pygments            2.16.1\n",
      "pyparsing           3.0.9\n",
      "python-dateutil     2.8.2\n",
      "pytz                2023.3\n",
      "pyzmq               25.1.1\n",
      "scikit-learn        1.3.0\n",
      "scipy               1.11.1\n",
      "setuptools          58.0.4\n",
      "six                 1.15.0\n",
      "sklearn             0.0.post7\n",
      "stack-data          0.6.2\n",
      "threadpoolctl       3.2.0\n",
      "tornado             6.3.3\n",
      "traitlets           5.9.0\n",
      "typing_extensions   4.7.1\n",
      "wcwidth             0.2.6\n",
      "wheel               0.37.0\n",
      "zipp                3.16.2\n",
      "zope.interface      6.0\n",
      "Note: you may need to restart the kernel to use updated packages.\n"
     ]
    }
   ],
   "source": [
    "%pip list"
   ]
  },
  {
   "cell_type": "code",
   "execution_count": 2,
   "metadata": {},
   "outputs": [
    {
     "name": "stdout",
     "output_type": "stream",
     "text": [
      "Defaulting to user installation because normal site-packages is not writeable\n",
      "Requirement already satisfied: scikit-learn in /Users/Z00CVY1/Library/Python/3.9/lib/python/site-packages (1.3.0)\n",
      "Requirement already satisfied: numpy>=1.17.3 in /Users/Z00CVY1/Library/Python/3.9/lib/python/site-packages (from scikit-learn) (1.25.2)\n",
      "Requirement already satisfied: scipy>=1.5.0 in /Users/Z00CVY1/Library/Python/3.9/lib/python/site-packages (from scikit-learn) (1.11.1)\n",
      "Requirement already satisfied: joblib>=1.1.1 in /Users/Z00CVY1/Library/Python/3.9/lib/python/site-packages (from scikit-learn) (1.3.2)\n",
      "Requirement already satisfied: threadpoolctl>=2.0.0 in /Users/Z00CVY1/Library/Python/3.9/lib/python/site-packages (from scikit-learn) (3.2.0)\n",
      "Note: you may need to restart the kernel to use updated packages.\n"
     ]
    }
   ],
   "source": [
    "%pip install --user scikit-learn"
   ]
  },
  {
   "cell_type": "code",
   "execution_count": 70,
   "metadata": {},
   "outputs": [
    {
     "name": "stdout",
     "output_type": "stream",
     "text": [
      "Defaulting to user installation because normal site-packages is not writeable\n",
      "Requirement already satisfied: pip in /Library/Developer/CommandLineTools/Library/Frameworks/Python3.framework/Versions/3.9/lib/python3.9/site-packages (21.2.4)\n",
      "Collecting pip\n",
      "  Downloading pip-23.2.1-py3-none-any.whl (2.1 MB)\n",
      "\u001b[K     |████████████████████████████████| 2.1 MB 2.6 MB/s eta 0:00:01\n",
      "\u001b[?25hInstalling collected packages: pip\n",
      "Successfully installed pip-23.2.1\n",
      "\u001b[33mWARNING: You are using pip version 21.2.4; however, version 23.2.1 is available.\n",
      "You should consider upgrading via the '/Library/Developer/CommandLineTools/usr/bin/python3 -m pip install --upgrade pip' command.\u001b[0m\n",
      "Note: you may need to restart the kernel to use updated packages.\n"
     ]
    }
   ],
   "source": [
    "%pip install --upgrade pip"
   ]
  },
  {
   "cell_type": "code",
   "execution_count": 33,
   "metadata": {},
   "outputs": [
    {
     "name": "stdout",
     "output_type": "stream",
     "text": [
      "Defaulting to user installation because normal site-packages is not writeable\n",
      "Collecting package_name\n",
      "  Downloading package_name-0.1.tar.gz (782 bytes)\n",
      "  Preparing metadata (setup.py) ... \u001b[?25ldone\n",
      "\u001b[?25hBuilding wheels for collected packages: package_name\n",
      "  Building wheel for package_name (setup.py) ... \u001b[?25ldone\n",
      "\u001b[?25h  Created wheel for package_name: filename=package_name-0.1-py3-none-any.whl size=1254 sha256=a9f47ff4bdb4f3b513f4300459d7a85307b5ac1dbfb77be146e0b975d9a2fa9b\n",
      "  Stored in directory: /Users/Z00CVY1/Library/Caches/pip/wheels/67/e6/c3/cbfcab244d830378592564f5e46da23a8aad979c4a958b401a\n",
      "Successfully built package_name\n",
      "Installing collected packages: package_name\n",
      "Successfully installed package_name-0.1\n"
     ]
    }
   ],
   "source": [
    "%pip install package_name"
   ]
  },
  {
   "cell_type": "code",
   "execution_count": 4,
   "metadata": {},
   "outputs": [
    {
     "name": "stdout",
     "output_type": "stream",
     "text": [
      "Found existing installation: pandas 2.0.3\n",
      "Uninstalling pandas-2.0.3:\n",
      "  Would remove:\n",
      "    /Users/Z00CVY1/Library/Python/3.9/lib/python/site-packages/pandas-2.0.3.dist-info/*\n",
      "    /Users/Z00CVY1/Library/Python/3.9/lib/python/site-packages/pandas/*\n",
      "Proceed (Y/n)? ^C\n",
      "\u001b[31mERROR: Operation cancelled by user\u001b[0m\u001b[31m\n",
      "\u001b[0mNote: you may need to restart the kernel to use updated packages.\n"
     ]
    }
   ],
   "source": [
    "%pip uninstall pandas"
   ]
  },
  {
   "cell_type": "markdown",
   "metadata": {},
   "source": [
    "## JSON in Python"
   ]
  },
  {
   "cell_type": "markdown",
   "metadata": {},
   "source": [
    "JSON (JavaScript Object Notation) is a lightweight data-interchange format. It is often used to transmit data between a server and a client, or to store data in a file.\n",
    "\n",
    "JSON is a text-based format, which means that it can be easily read and written by humans. It is also easy to parse and manipulate using Python.\n",
    "\n",
    "##### Basics of JSON\n",
    "A JSON object is a collection of key-value pairs. The keys are strings, and the values can be strings, numbers, arrays, or objects.\n",
    "\n",
    "An array is a list of values. The values in an array can be of any type.\n",
    "\n",
    "An object is a collection of key-value pairs. The keys and values in an object can be of any type.\n",
    "\n",
    "Here is an example of a JSON object:\n",
    "\n",
    "\n"
   ]
  },
  {
   "cell_type": "code",
   "execution_count": 6,
   "metadata": {},
   "outputs": [],
   "source": [
    "import json"
   ]
  },
  {
   "cell_type": "code",
   "execution_count": 45,
   "metadata": {},
   "outputs": [
    {
     "name": "stdout",
     "output_type": "stream",
     "text": [
      "<class 'str'>\n"
     ]
    }
   ],
   "source": [
    "people = '''{\n",
    "  \"name\": \"John Doe\",\n",
    "  \"age\": 30,\n",
    "  \"address\": {\n",
    "    \"street\": \"123 Main Street\",\n",
    "    \"city\": \"Anytown\",\n",
    "    \"state\": \"CA\"\n",
    "  }\n",
    "}'''\n",
    "print(type(people))"
   ]
  },
  {
   "cell_type": "code",
   "execution_count": 47,
   "metadata": {},
   "outputs": [
    {
     "name": "stdout",
     "output_type": "stream",
     "text": [
      "<class 'dict'>\n",
      "{'name': 'John Doe', 'age': 30, 'address': {'street': '123 Main Street', 'city': 'Anytown', 'state': 'CA'}}\n"
     ]
    }
   ],
   "source": [
    "data = json.loads(people)\n",
    "\n",
    "print(type(data))\n",
    "print(data)\n"
   ]
  },
  {
   "cell_type": "code",
   "execution_count": 32,
   "metadata": {},
   "outputs": [
    {
     "name": "stdout",
     "output_type": "stream",
     "text": [
      "street : 123 Main Street\n",
      "city : Anytown\n",
      "state : CA\n"
     ]
    }
   ],
   "source": [
    "for i in data['address']:\n",
    "    print(i,':', data['address'][i])"
   ]
  },
  {
   "cell_type": "code",
   "execution_count": 19,
   "metadata": {},
   "outputs": [
    {
     "data": {
      "text/plain": [
       "'CA'"
      ]
     },
     "execution_count": 19,
     "metadata": {},
     "output_type": "execute_result"
    }
   ],
   "source": [
    "add = data['address']\n",
    "add['state']"
   ]
  },
  {
   "cell_type": "code",
   "execution_count": 76,
   "metadata": {},
   "outputs": [
    {
     "name": "stdout",
     "output_type": "stream",
     "text": [
      "<class 'str'>\n"
     ]
    },
    {
     "data": {
      "text/plain": [
       "'{\\n  \"name\": \"John Doe\",\\n  \"age\": 30,\\n  \"address\": {\\n    \"street\": \"123 Main Street\",\\n    \"city\": \"Anytown\",\\n    \"state\": \"CA\"\\n  }\\n}'"
      ]
     },
     "execution_count": 76,
     "metadata": {},
     "output_type": "execute_result"
    }
   ],
   "source": [
    "people_ = '''\n",
    "{\n",
    "  \"people_collection\":[\n",
    "  {\n",
    "    \"name\": \"John Doe\",\n",
    "    \"age\": 30,\n",
    "    \"email\": null,\n",
    "    \"address\": {\n",
    "      \"street\": \"123 Main Street\",\n",
    "      \"city\": \"Anytown\",\n",
    "      \"state\": \"CA\"\n",
    "    }\n",
    "  },\n",
    "  {\n",
    "    \"name\": \"Jack Snyder\",\n",
    "    \"age\": 43,\n",
    "    \"email\": null,\n",
    "    \"address\": {\n",
    "      \"street\": \"222 Main Street\",\n",
    "      \"city\": \"Newyork\",\n",
    "      \"state\": \"NY\"\n",
    "    }\n",
    "  }  \n",
    "]\n",
    "}\n",
    "'''\n",
    "print(type(people))\n",
    "people"
   ]
  },
  {
   "cell_type": "code",
   "execution_count": 77,
   "metadata": {},
   "outputs": [
    {
     "name": "stdout",
     "output_type": "stream",
     "text": [
      "<class 'dict'>\n",
      "{'people_collection': [{'name': 'John Doe', 'age': 30, 'email': None, 'address': {'street': '123 Main Street', 'city': 'Anytown', 'state': 'CA'}}, {'name': 'Jack Snyder', 'age': 43, 'email': None, 'address': {'street': '222 Main Street', 'city': 'Newyork', 'state': 'NY'}}]}\n"
     ]
    }
   ],
   "source": [
    "data = json.loads(people_)\n",
    "\n",
    "print(type(data))\n",
    "print(data)\n",
    "\n"
   ]
  },
  {
   "cell_type": "code",
   "execution_count": 62,
   "metadata": {},
   "outputs": [
    {
     "name": "stdout",
     "output_type": "stream",
     "text": [
      "<class 'list'>\n"
     ]
    },
    {
     "data": {
      "text/plain": [
       "'John Doe'"
      ]
     },
     "execution_count": 62,
     "metadata": {},
     "output_type": "execute_result"
    }
   ],
   "source": [
    "print(type(data['people_collection']))\n",
    "# data['people_collection']\n",
    "data['people_collection'][0]['name']\n",
    "\n"
   ]
  },
  {
   "cell_type": "code",
   "execution_count": 64,
   "metadata": {},
   "outputs": [
    {
     "name": "stdout",
     "output_type": "stream",
     "text": [
      "{'name': 'John Doe', 'age': 30, 'email': None, 'address': {'street': '123 Main Street', 'city': 'Anytown', 'state': 'CA'}}\n",
      "{'name': 'Jack Snyder', 'age': 43, 'email': None, 'address': {'street': '222 Main Street', 'city': 'Newyork', 'state': 'NY'}}\n"
     ]
    }
   ],
   "source": [
    "for person in data['people_collection']:\n",
    "    print(person)"
   ]
  },
  {
   "cell_type": "code",
   "execution_count": 72,
   "metadata": {},
   "outputs": [
    {
     "name": "stdout",
     "output_type": "stream",
     "text": [
      "John Doe  is from  Anytown\n",
      "Jack Snyder  is from  Newyork\n"
     ]
    }
   ],
   "source": [
    "for person in data['people_collection']:\n",
    "    print(person['name'], ' is from ', person['address']['city'])\n",
    "    \n"
   ]
  },
  {
   "cell_type": "code",
   "execution_count": 78,
   "metadata": {},
   "outputs": [
    {
     "name": "stdout",
     "output_type": "stream",
     "text": [
      "{'name': 'John Doe', 'age': 30, 'email': None, 'address': {'street': '123 Main Street', 'city': 'Anytown', 'state': 'CA'}}\n",
      "{'name': 'Jack Snyder', 'age': 43, 'email': None, 'address': {'street': '222 Main Street', 'city': 'Newyork', 'state': 'NY'}}\n"
     ]
    }
   ],
   "source": [
    "for person in data['people_collection']:\n",
    "    print(person)"
   ]
  },
  {
   "cell_type": "code",
   "execution_count": 79,
   "metadata": {},
   "outputs": [],
   "source": [
    "for person in data['people_collection']:\n",
    "    del person['email']"
   ]
  },
  {
   "cell_type": "code",
   "execution_count": 80,
   "metadata": {},
   "outputs": [
    {
     "name": "stdout",
     "output_type": "stream",
     "text": [
      "{'name': 'John Doe', 'age': 30, 'address': {'street': '123 Main Street', 'city': 'Anytown', 'state': 'CA'}}\n",
      "{'name': 'Jack Snyder', 'age': 43, 'address': {'street': '222 Main Street', 'city': 'Newyork', 'state': 'NY'}}\n"
     ]
    }
   ],
   "source": [
    "for person in data['people_collection']:\n",
    "    print(person)"
   ]
  },
  {
   "cell_type": "code",
   "execution_count": 87,
   "metadata": {},
   "outputs": [
    {
     "name": "stdout",
     "output_type": "stream",
     "text": [
      "<class 'str'>\n",
      "{\n",
      "  \"people_collection\": [\n",
      "    {\n",
      "      \"name\": \"John Doe\",\n",
      "      \"age\": 30,\n",
      "      \"address\": {\n",
      "        \"street\": \"123 Main Street\",\n",
      "        \"city\": \"Anytown\",\n",
      "        \"state\": \"CA\"\n",
      "      }\n",
      "    },\n",
      "    {\n",
      "      \"name\": \"Jack Snyder\",\n",
      "      \"age\": 43,\n",
      "      \"address\": {\n",
      "        \"street\": \"222 Main Street\",\n",
      "        \"city\": \"Newyork\",\n",
      "        \"state\": \"NY\"\n",
      "      }\n",
      "    }\n",
      "  ]\n",
      "}\n"
     ]
    }
   ],
   "source": [
    "jsbvskjbe = json.dumps(data,indent=2)\n",
    "\n",
    "print(type(jsbvskjbe))\n",
    "print(jsbvskjbe)\n"
   ]
  },
  {
   "cell_type": "code",
   "execution_count": 88,
   "metadata": {},
   "outputs": [],
   "source": [
    "with open('states.json') as f:\n",
    "    data = json.load(f)"
   ]
  },
  {
   "cell_type": "code",
   "execution_count": 89,
   "metadata": {},
   "outputs": [
    {
     "data": {
      "text/plain": [
       "{'states': [{'key': 'Andhra Pradesh', 'val': 'Hyderabad'},\n",
       "  {'key': 'Arunachal Pradesh', 'val': 'Itanagar'},\n",
       "  {'key': 'Assam', 'val': 'Dispur'},\n",
       "  {'key': 'Bihar', 'val': 'Patna'},\n",
       "  {'key': 'Chhattisgarh', 'val': 'Raipur'},\n",
       "  {'key': 'Goa', 'val': 'Panaji'},\n",
       "  {'key': 'Gujarat', 'val': 'Gandhinagar'},\n",
       "  {'key': 'Haryana', 'val': 'Chandigarh'},\n",
       "  {'key': 'Himachal Pradesh', 'val': 'Shimla'},\n",
       "  {'key': 'Jammu & Kashmir', 'val': 'Srinagar(Summer)/Jammu(Winter)'},\n",
       "  {'key': 'Jharkhand', 'val': 'Ranchi'},\n",
       "  {'key': 'Karnataka', 'val': 'Bengaluru'},\n",
       "  {'key': 'Kerala', 'val': 'Thiruvananthapuram'},\n",
       "  {'key': 'Madhya Pradesh', 'val': 'Bhopal'},\n",
       "  {'key': 'Maharashtra', 'val': 'Mumbai'},\n",
       "  {'key': 'Manipur', 'val': 'Imphal'},\n",
       "  {'key': 'Meghalaya', 'val': 'Shillong'},\n",
       "  {'key': 'Mizoram', 'val': 'Aizawl'},\n",
       "  {'key': 'Nagaland', 'val': 'Kohima'},\n",
       "  {'key': 'Odisha', 'val': 'Bhubaneswar'},\n",
       "  {'key': 'Punjab', 'val': 'Chandigarh'},\n",
       "  {'key': 'Rajasthan', 'val': 'Jaipur'},\n",
       "  {'key': 'Sikkim', 'val': 'Gangtok'},\n",
       "  {'key': 'Tamil Nadu', 'val': 'Chennai'},\n",
       "  {'key': 'Telangana', 'val': 'Hyderabad'},\n",
       "  {'key': 'Tripura', 'val': 'Agartala'},\n",
       "  {'key': 'Uttar Pradesh', 'val': 'Lucknow'},\n",
       "  {'key': 'Uttarakhand', 'val': 'Dehradun'},\n",
       "  {'key': 'West Bengal', 'val': 'Kolkata'},\n",
       "  {'key': 'Andaman & Nicobar Islands', 'val': 'Port Blair'},\n",
       "  {'key': 'Chandigarh', 'val': 'Chandigarh'},\n",
       "  {'key': 'Dadra & Nagar Haveli', 'val': 'Silvassa'},\n",
       "  {'key': 'Daman & Diu', 'val': 'Daman'},\n",
       "  {'key': 'Lakshadweep', 'val': 'Kavaratti'},\n",
       "  {'key': 'Puducherry', 'val': 'Puducherry'},\n",
       "  {'key': 'Delhi', 'val': 'New Delhi'}]}"
      ]
     },
     "execution_count": 89,
     "metadata": {},
     "output_type": "execute_result"
    }
   ],
   "source": [
    "data"
   ]
  },
  {
   "cell_type": "code",
   "execution_count": 94,
   "metadata": {},
   "outputs": [
    {
     "name": "stdout",
     "output_type": "stream",
     "text": [
      "Hyderabad  is the capital of  Andhra Pradesh\n",
      "Itanagar  is the capital of  Arunachal Pradesh\n",
      "Dispur  is the capital of  Assam\n",
      "Patna  is the capital of  Bihar\n",
      "Raipur  is the capital of  Chhattisgarh\n",
      "Panaji  is the capital of  Goa\n",
      "Gandhinagar  is the capital of  Gujarat\n",
      "Chandigarh  is the capital of  Haryana\n",
      "Shimla  is the capital of  Himachal Pradesh\n",
      "Srinagar(Summer)/Jammu(Winter)  is the capital of  Jammu & Kashmir\n",
      "Ranchi  is the capital of  Jharkhand\n",
      "Bengaluru  is the capital of  Karnataka\n",
      "Thiruvananthapuram  is the capital of  Kerala\n",
      "Bhopal  is the capital of  Madhya Pradesh\n",
      "Mumbai  is the capital of  Maharashtra\n",
      "Imphal  is the capital of  Manipur\n",
      "Shillong  is the capital of  Meghalaya\n",
      "Aizawl  is the capital of  Mizoram\n",
      "Kohima  is the capital of  Nagaland\n",
      "Bhubaneswar  is the capital of  Odisha\n",
      "Chandigarh  is the capital of  Punjab\n",
      "Jaipur  is the capital of  Rajasthan\n",
      "Gangtok  is the capital of  Sikkim\n",
      "Chennai  is the capital of  Tamil Nadu\n",
      "Hyderabad  is the capital of  Telangana\n",
      "Agartala  is the capital of  Tripura\n",
      "Lucknow  is the capital of  Uttar Pradesh\n",
      "Dehradun  is the capital of  Uttarakhand\n",
      "Kolkata  is the capital of  West Bengal\n",
      "Port Blair  is the capital of  Andaman & Nicobar Islands\n",
      "Chandigarh  is the capital of  Chandigarh\n",
      "Silvassa  is the capital of  Dadra & Nagar Haveli\n",
      "Daman  is the capital of  Daman & Diu\n",
      "Kavaratti  is the capital of  Lakshadweep\n",
      "Puducherry  is the capital of  Puducherry\n",
      "New Delhi  is the capital of  Delhi\n"
     ]
    }
   ],
   "source": [
    "for state in data['states']:\n",
    "    print(state['val'], ' is the capital of ', state['key'])"
   ]
  },
  {
   "cell_type": "markdown",
   "metadata": {},
   "source": [
    "## Pickling in Python"
   ]
  },
  {
   "cell_type": "markdown",
   "metadata": {},
   "source": [
    "Python pickle module is used for serializing and de-serializing a Python object structure. Any object in Python can be pickled so that it can be saved on disk. What Pickle does is it “serializes” the object first before writing it to a file. "
   ]
  },
  {
   "cell_type": "code",
   "execution_count": 99,
   "metadata": {},
   "outputs": [],
   "source": [
    "import pickle\n",
    "\n",
    "example_dict = {1:\"6\", 2:\"2\", 3:\"£\"}\n",
    "\n",
    "pickle_out = open (\"dict.pickle\", \"wb\")\n",
    "pickle.dump(example_dict,pickle_out)\n",
    "pickle_out.close()"
   ]
  },
  {
   "cell_type": "code",
   "execution_count": 96,
   "metadata": {},
   "outputs": [],
   "source": [
    "with open ('dict2.pickle','wb') as pickle_out:\n",
    "    pickle.dump(example_dict,pickle_out)\n"
   ]
  },
  {
   "cell_type": "code",
   "execution_count": 256,
   "metadata": {},
   "outputs": [
    {
     "name": "stdout",
     "output_type": "stream",
     "text": [
      "{1: '6', 2: '2', 3: '£'}\n"
     ]
    }
   ],
   "source": [
    "with open ('dict2.pickle','rb') as pic:\n",
    "    example_dict2 = pickle.load(pic)\n",
    "print(example_dict2)"
   ]
  }
 ],
 "metadata": {
  "kernelspec": {
   "display_name": "Python 3",
   "language": "python",
   "name": "python3"
  },
  "language_info": {
   "codemirror_mode": {
    "name": "ipython",
    "version": 3
   },
   "file_extension": ".py",
   "mimetype": "text/x-python",
   "name": "python",
   "nbconvert_exporter": "python",
   "pygments_lexer": "ipython3",
   "version": "3.9.6"
  },
  "orig_nbformat": 4
 },
 "nbformat": 4,
 "nbformat_minor": 2
}
