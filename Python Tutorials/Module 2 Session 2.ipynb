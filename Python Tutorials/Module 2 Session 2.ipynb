{
 "cells": [
  {
   "cell_type": "markdown",
   "metadata": {},
   "source": [
    "## Agenda\n",
    "\n",
    "*  Regular Expressions\n",
    "*  Python PIP\n",
    "*  Python JSON\n",
    "*  Pickling"
   ]
  },
  {
   "cell_type": "markdown",
   "metadata": {},
   "source": [
    "## Regular Expressions Regex"
   ]
  },
  {
   "cell_type": "markdown",
   "metadata": {},
   "source": [
    "#### Why Regex?"
   ]
  },
  {
   "cell_type": "code",
   "execution_count": 160,
   "metadata": {},
   "outputs": [],
   "source": [
    "text = \"This is a string with some email addresses: johndoe@example.com, janedoenew@example.org\""
   ]
  },
  {
   "cell_type": "code",
   "execution_count": 47,
   "metadata": {},
   "outputs": [],
   "source": [
    "import re"
   ]
  },
  {
   "cell_type": "markdown",
   "metadata": {},
   "source": [
    "#### Introduction\n",
    "Regular expressions (regex) are a powerful tool for finding patterns in text. They can be used to extract information from text, to validate data, and to perform a variety of other tasks.\n",
    "\n",
    "In Python, regular expressions are implemented in the re module. The re module provides a number of functions and constants to work with regular expressions."
   ]
  },
  {
   "cell_type": "markdown",
   "metadata": {},
   "source": [
    "#### Basics of Regular Expressions\n",
    "A regular expression is a sequence of characters that defines a pattern. The pattern can be used to match a specific string or a set of strings.\n",
    "\n",
    "The basic components of a regular expression are:\n",
    "\n",
    "*  Characters: Any character can be used in a regular expression.\n",
    "*  Metacharacters: Metacharacters are special characters that have special meaning in regular expressions.\n",
    "*  Quantifiers: Quantifiers are used to specify the number of times a character or group of characters can occur in a pattern.\n"
   ]
  },
  {
   "cell_type": "markdown",
   "metadata": {},
   "source": [
    "##### Metacharacters\n",
    "The following are some of the most common metacharacters:\n",
    "\n",
    "*  .: Matches any character.\n",
    "*  +: Matches one or more occurrences of the preceding character or group of characters.\n",
    "*  ?: Matches zero or one occurrence of the preceding character or group of characters.\n",
    "*  [: Matches any character in the specified set.\n",
    "*  ]: Closes a set.\n",
    "*  \\: Escapes the next character, making it a literal character.\n"
   ]
  },
  {
   "cell_type": "markdown",
   "metadata": {},
   "source": [
    "##### Quantifiers\n",
    "The following are some of the most common quantifiers:\n",
    "\n",
    "*  {n}: Matches exactly n occurrences of the preceding character or group of characters.\n",
    "*  {n,m}: Matches n to m occurrences of the preceding character or group of characters.\n",
    "*  {n,}: Matches n or more occurrences of the preceding character or group of characters."
   ]
  },
  {
   "cell_type": "markdown",
   "metadata": {},
   "source": [
    "##### Examples\n",
    "\n",
    "Here are some examples of regular expressions:\n",
    "\n",
    "*  .*: Matches any string.\n",
    "*  [a-z]+: Matches any string of one or more lowercase letters.\n",
    "*  \\d: Matches any digit.\n",
    "*  \\w: Matches any alphanumeric character.\n",
    "*  \\s: Matches any whitespace character.\n",
    "*  ^: Matches the beginning of a string.\n",
    "*  $: Matches the end of a string.\n"
   ]
  },
  {
   "cell_type": "code",
   "execution_count": 3,
   "metadata": {},
   "outputs": [],
   "source": [
    "import re"
   ]
  },
  {
   "cell_type": "code",
   "execution_count": 58,
   "metadata": {},
   "outputs": [
    {
     "name": "stdout",
     "output_type": "stream",
     "text": [
      "\n",
      "Hello\n"
     ]
    }
   ],
   "source": [
    "print(\"\\nHello\")"
   ]
  },
  {
   "cell_type": "code",
   "execution_count": 52,
   "metadata": {},
   "outputs": [],
   "source": [
    "text = \"This is a string with some numbers: 12345\""
   ]
  },
  {
   "cell_type": "code",
   "execution_count": 73,
   "metadata": {},
   "outputs": [
    {
     "name": "stdout",
     "output_type": "stream",
     "text": [
      "['1', '2', '3', '4', '5']\n"
     ]
    }
   ],
   "source": [
    "pattern = '\\d'\n",
    "matches = re.findall(pattern, text)\n",
    "# print(type(matches))\n",
    "print(matches)\n"
   ]
  },
  {
   "cell_type": "code",
   "execution_count": 76,
   "metadata": {},
   "outputs": [
    {
     "name": "stdout",
     "output_type": "stream",
     "text": [
      "<re.Match object; span=(36, 41), match='12345'>\n"
     ]
    }
   ],
   "source": [
    "# pattern2= 'is'\n",
    "# matches = re.finditer(pattern2,text)\n",
    "\n",
    "pattern = re.compile('\\d+')\n",
    "matches = pattern.finditer(text)\n",
    "\n",
    "# print(matches)\n",
    "# print(type(matches))\n",
    "\n",
    "for match in matches:\n",
    "    print(match)\n",
    "    # print(type(match))\n",
    "    # print(match.start(),match.end())"
   ]
  },
  {
   "cell_type": "code",
   "execution_count": 78,
   "metadata": {},
   "outputs": [
    {
     "name": "stdout",
     "output_type": "stream",
     "text": [
      "<re.Match object; span=(22, 25), match='the'>\n",
      "<re.Match object; span=(32, 35), match='the'>\n"
     ]
    }
   ],
   "source": [
    "text = \"This is a string with the word 'the' in it.\"\n",
    "\n",
    "pattern = 'the'\n",
    "matches = re.finditer(pattern, text)\n",
    "# print(matches)\n",
    "\n",
    "for match in matches:\n",
    "  print(match)\n",
    "  # print(match.start(), match.end())\n"
   ]
  },
  {
   "cell_type": "code",
   "execution_count": 79,
   "metadata": {},
   "outputs": [
    {
     "name": "stdout",
     "output_type": "stream",
     "text": [
      "['T', 'h', 'i', 's', ' ', 'i', 's', ' ', 'a', ' ', 's', 't', 'r', 'i', 'n', 'g', ' ', 'w', 'i', 't', 'h', ' ', 's', 'o', 'm', 'e', ' ', 'p', 'u', 'n', 'c', 't', 'u', 'a', 't', 'i', 'o', 'n', '.']\n"
     ]
    }
   ],
   "source": [
    "text = \"This is a string with some punctuation.\"\n",
    "pattern = '.'\n",
    "matches = re.findall(pattern, text)\n",
    "\n",
    "print(matches)\n",
    "\n",
    "# . Matches any character.\n"
   ]
  },
  {
   "cell_type": "code",
   "execution_count": 82,
   "metadata": {},
   "outputs": [
    {
     "name": "stdout",
     "output_type": "stream",
     "text": [
      "\\n\n"
     ]
    }
   ],
   "source": [
    "print(r'\\n')"
   ]
  },
  {
   "cell_type": "code",
   "execution_count": 92,
   "metadata": {},
   "outputs": [
    {
     "name": "stdout",
     "output_type": "stream",
     "text": [
      "['is', 'is', 'is']\n"
     ]
    }
   ],
   "source": [
    "text = \"is is is a string with some punctuation.\"\n",
    "pattern = r'\\bis'\n",
    "matches = re.findall(pattern, text)\n",
    "print(matches)"
   ]
  },
  {
   "cell_type": "code",
   "execution_count": 96,
   "metadata": {},
   "outputs": [
    {
     "name": "stdout",
     "output_type": "stream",
     "text": [
      "['s', 's', 's', 's', 's']\n"
     ]
    }
   ],
   "source": [
    "text = \"This is a string with some punctuations\"\n",
    "pattern = 's'\n",
    "matches = re.findall(pattern, text)\n",
    "print(matches)"
   ]
  },
  {
   "cell_type": "code",
   "execution_count": null,
   "metadata": {},
   "outputs": [
    {
     "name": "stdout",
     "output_type": "stream",
     "text": [
      "['This', 'is', 'a', 'string', 'with', 'some', 'punctuation']\n"
     ]
    }
   ],
   "source": [
    "text = \"This is a string with some punctuation 123.\"\n",
    "pattern = '[a-z,A-Z]+'\n",
    "matches = re.findall(pattern, text)\n",
    "print(matches)"
   ]
  },
  {
   "cell_type": "code",
   "execution_count": null,
   "metadata": {},
   "outputs": [
    {
     "name": "stdout",
     "output_type": "stream",
     "text": [
      "['This', 'is', 'a', 'string', 'with', 'some', 'punctuation', '123']\n"
     ]
    }
   ],
   "source": [
    "text = \"This is a string with some punctuation 123.\"\n",
    "pattern = '[a-z,A-Z,0-9]+'\n",
    "matches = re.findall(pattern, text)\n",
    "print(matches)"
   ]
  },
  {
   "cell_type": "code",
   "execution_count": 103,
   "metadata": {},
   "outputs": [
    {
     "name": "stdout",
     "output_type": "stream",
     "text": [
      "['.']\n",
      "<re.Match object; span=(38, 39), match='.'>\n"
     ]
    }
   ],
   "source": [
    "text = \"This is a string with some punctuation.\"\n",
    "pattern = '\\.'\n",
    "matches = re.findall(pattern, text)\n",
    "print(matches)\n",
    "\n",
    "\n",
    "pattern = '\\.'\n",
    "matches = re.finditer(pattern, text)\n",
    "\n",
    "for match in matches:\n",
    "  print(match)\n"
   ]
  },
  {
   "cell_type": "code",
   "execution_count": 109,
   "metadata": {},
   "outputs": [
    {
     "name": "stdout",
     "output_type": "stream",
     "text": [
      "<re.Match object; span=(0, 4), match='This'>\n"
     ]
    }
   ],
   "source": [
    "text = '''This is  an example of multi line text of datatype String\n",
    "1st line\n",
    "2nd line\n",
    "3rd line\n",
    "4th line\n",
    "conclusion'''\n",
    "\n",
    "# pattern = '^This'\n",
    "# matches = re.findall(pattern, text)\n",
    "# print(matches)\n",
    "\n",
    "pattern = '^This'\n",
    "matches = re.finditer(pattern, text)\n",
    "\n",
    "for match in matches:\n",
    "  print(match)"
   ]
  },
  {
   "cell_type": "markdown",
   "metadata": {},
   "source": [
    "#### Write regex code to fetch only those lines that is starting with a numeric value in the below multi line text string\n",
    "\n",
    "text = '''This is  an example of multi line text of datatype String\n",
    "\n",
    "1st line\n",
    "\n",
    "2nd line\n",
    "\n",
    "3rd line\n",
    "\n",
    "4th line\n",
    "\n",
    "conclusion'''\n",
    "\n",
    "Expected Output: \n",
    "\n",
    "1st line\n",
    "\n",
    "2nd line\n",
    "\n",
    "3rd line\n",
    "\n",
    "4th line\n",
    "\n",
    "\n",
    "Hint: Use a loop to consider one line (of this multi-line text string) at a time"
   ]
  },
  {
   "cell_type": "code",
   "execution_count": 117,
   "metadata": {},
   "outputs": [
    {
     "name": "stdout",
     "output_type": "stream",
     "text": [
      "<re.Match object; span=(27, 39), match='punctuation.'>\n"
     ]
    }
   ],
   "source": [
    "text = \"This is a string with some punctuation.\"\n",
    "# pattern = 'punctuation.$'\n",
    "# matches = re.findall(pattern, text)\n",
    "# print(matches)\n",
    "\n",
    "\n",
    "pattern = 'punctuation.$'\n",
    "matches = re.finditer(pattern, text)\n",
    "\n",
    "for match in matches:\n",
    "  print(match)"
   ]
  },
  {
   "cell_type": "code",
   "execution_count": 119,
   "metadata": {},
   "outputs": [
    {
     "name": "stdout",
     "output_type": "stream",
     "text": [
      "<re.Match object; span=(0, 0), match=''>\n",
      "<re.Match object; span=(1, 1), match=''>\n",
      "<re.Match object; span=(2, 2), match=''>\n",
      "<re.Match object; span=(3, 3), match=''>\n",
      "<re.Match object; span=(4, 4), match=''>\n",
      "<re.Match object; span=(5, 5), match=''>\n",
      "<re.Match object; span=(6, 6), match=''>\n",
      "<re.Match object; span=(7, 7), match=''>\n",
      "<re.Match object; span=(8, 8), match=''>\n",
      "<re.Match object; span=(9, 9), match=''>\n",
      "<re.Match object; span=(10, 10), match=''>\n",
      "<re.Match object; span=(11, 11), match=''>\n",
      "<re.Match object; span=(12, 12), match=''>\n",
      "<re.Match object; span=(13, 13), match=''>\n",
      "<re.Match object; span=(14, 14), match=''>\n",
      "<re.Match object; span=(15, 15), match=''>\n",
      "<re.Match object; span=(16, 16), match=''>\n",
      "<re.Match object; span=(17, 17), match=''>\n",
      "<re.Match object; span=(18, 18), match=''>\n",
      "<re.Match object; span=(19, 19), match=''>\n",
      "<re.Match object; span=(20, 20), match=''>\n",
      "<re.Match object; span=(21, 21), match=''>\n",
      "<re.Match object; span=(22, 22), match=''>\n",
      "<re.Match object; span=(23, 23), match=''>\n",
      "<re.Match object; span=(24, 24), match=''>\n",
      "<re.Match object; span=(25, 25), match=''>\n",
      "<re.Match object; span=(26, 26), match=''>\n",
      "<re.Match object; span=(27, 27), match=''>\n",
      "<re.Match object; span=(28, 28), match=''>\n",
      "<re.Match object; span=(29, 29), match=''>\n",
      "<re.Match object; span=(30, 30), match=''>\n",
      "<re.Match object; span=(31, 31), match=''>\n",
      "<re.Match object; span=(32, 32), match=''>\n",
      "<re.Match object; span=(33, 33), match=''>\n",
      "<re.Match object; span=(34, 34), match=''>\n",
      "<re.Match object; span=(35, 35), match=''>\n",
      "<re.Match object; span=(36, 36), match=''>\n",
      "<re.Match object; span=(37, 37), match=''>\n",
      "<re.Match object; span=(38, 38), match=''>\n",
      "<re.Match object; span=(39, 39), match=''>\n",
      "<re.Match object; span=(40, 40), match=''>\n",
      "<re.Match object; span=(41, 41), match=''>\n"
     ]
    }
   ],
   "source": [
    "# text = '''This is a string. with some punctuation.\n",
    "# This is a string with some punctuation'''\n",
    "text = 'This is. a string. with some punctuation.'\n",
    "# pattern = '.*(?!.)$'\n",
    "\n",
    "# pattern = ''\n",
    "# matches = re.findall(pattern, text)\n",
    "# print(matches)\n",
    "\n",
    "pattern = ''\n",
    "matches = re.finditer(pattern, text)\n",
    "\n",
    "for match in matches:\n",
    "  print(match)"
   ]
  },
  {
   "cell_type": "code",
   "execution_count": 137,
   "metadata": {},
   "outputs": [
    {
     "name": "stdout",
     "output_type": "stream",
     "text": [
      "<re.Match object; span=(69, 81), match='jp@gmail.com'>\n",
      "<re.Match object; span=(83, 95), match='jp@gmail.net'>\n",
      "<re.Match object; span=(97, 112), match='jp@gmailnew.com'>\n"
     ]
    }
   ],
   "source": [
    "text = '''some email addresses: johndoe@example.com, \n",
    "janedoenew@example.org, \n",
    "jp@gmail.com,\n",
    "jp@gmail.net,\n",
    "jp@gmailnew.com \n",
    "nice weather today'''\n",
    "\n",
    "# pattern = '\\w+@\\w+\\.\\w+'\n",
    "# emails = re.findall(pattern, text)\n",
    "\n",
    "# gmails = re.findall(g_pattern, text)\n",
    "# print(gmails)\n",
    "# print(emails)\n",
    "\n",
    "# Pattern: some 'alphanumeric/spl charater' + '@' + alphabets' + '.' + alphabets )2-3)\n",
    "\n",
    "# pattern = '\\w+@\\w+.\\w+'\n",
    "# matches = re.finditer(pattern, text)\n",
    "\n",
    "# for match in matches:\n",
    "#   print(match)\n",
    "\n",
    "\n",
    "gpattern = '\\w+@gmail.+\\w+'\n",
    "matches = re.finditer(gpattern, text)\n",
    "\n",
    "for match in matches:\n",
    "  print(match)"
   ]
  },
  {
   "cell_type": "code",
   "execution_count": 156,
   "metadata": {},
   "outputs": [
    {
     "name": "stdout",
     "output_type": "stream",
     "text": [
      "['priya@gmail.com', 'kpriya@gmailnew.com', 'hello@gmailx.com']\n"
     ]
    }
   ],
   "source": [
    "text = '''my name is priya@gmail.com\n",
    "kpriya@gmailnew.com\n",
    "hello@gmailx.com\n",
    "abc@gma.com'''\n",
    "\n",
    "pattern = '\\w+@gmail.+'\n",
    "match = re.findall(pattern,text)\n",
    "print (match)"
   ]
  },
  {
   "cell_type": "code",
   "execution_count": 141,
   "metadata": {},
   "outputs": [],
   "source": [
    "text = '''some email address:\n",
    "kowi.a@gmail.com,\n",
    "google.g@gmail.com , john_8\n",
    "@gmail.com'''\n",
    "\n",
    "pattern = '\\w+@\\w+\\.w+'\n",
    "matches = re.finditer(pattern,text)\n",
    "for match in matches:\n",
    "    print(match)"
   ]
  },
  {
   "cell_type": "code",
   "execution_count": 209,
   "metadata": {},
   "outputs": [
    {
     "name": "stdout",
     "output_type": "stream",
     "text": [
      "<re.Match object; span=(13, 27), match='+91*9025228000'>\n",
      "<re.Match object; span=(28, 42), match='+91-9025228001'>\n",
      "<re.Match object; span=(44, 58), match='+91 9025228002'>\n"
     ]
    }
   ],
   "source": [
    "text = '''555-444-2221\n",
    "+91*9025228000\n",
    "+91-90252280012\n",
    "+91 9025228002'''\n",
    "\n",
    "# pattern = '\\+\\d\\d.\\d\\d\\d\\d\\d\\d\\d\\d\\d\\d'\n",
    "# emails = re.findall(pattern, text)\n",
    "# print(emails)\n",
    "\n",
    "pattern = re.compile('\\+\\d+.\\d{10}')\n",
    "# pattern = '.{10}'\n",
    "matches = re.finditer(pattern,text)\n",
    "for match in matches:\n",
    "    print(match)\n",
    "\n",
    "# pattern = '\\+\\d\\d.\\d+'\n",
    "# emails = re.findall(pattern, text)\n",
    "# print(emails)\n",
    "\n",
    "# pattern = '\\+\\d\\d[\\s-]\\d+'\n",
    "# emails = re.findall(pattern, text)\n",
    "# print(emails)\n"
   ]
  },
  {
   "cell_type": "code",
   "execution_count": 183,
   "metadata": {},
   "outputs": [
    {
     "name": "stdout",
     "output_type": "stream",
     "text": [
      "<re.Match object; span=(0, 1), match='a'>\n",
      "<re.Match object; span=(1, 2), match='b'>\n",
      "<re.Match object; span=(2, 3), match='c'>\n",
      "<re.Match object; span=(8, 9), match='e'>\n",
      "<re.Match object; span=(9, 10), match='f'>\n",
      "<re.Match object; span=(10, 11), match='g'>\n"
     ]
    }
   ],
   "source": [
    "text = '''abc ABC\n",
    "efg'''\n",
    "\n",
    "\n",
    "pattern = '[a-z]'\n",
    "matches = re.finditer(pattern,text,re.A)\n",
    "for match in matches:\n",
    "    print(match)"
   ]
  },
  {
   "cell_type": "markdown",
   "metadata": {},
   "source": [
    "## Python PIP"
   ]
  },
  {
   "cell_type": "markdown",
   "metadata": {},
   "source": [
    "Pip is a package manager for Python. It is used to install, uninstall, and manage Python packages.\n",
    "\n"
   ]
  },
  {
   "cell_type": "code",
   "execution_count": 384,
   "metadata": {},
   "outputs": [
    {
     "name": "stdout",
     "output_type": "stream",
     "text": [
      "pip 23.2.1 from /Users/Z00CVY1/Library/Python/3.9/lib/python/site-packages/pip (python 3.9)\n",
      "Note: you may need to restart the kernel to use updated packages.\n"
     ]
    }
   ],
   "source": [
    "%pip --version"
   ]
  },
  {
   "cell_type": "code",
   "execution_count": 212,
   "metadata": {},
   "outputs": [
    {
     "name": "stdout",
     "output_type": "stream",
     "text": [
      "Package           Version\n",
      "----------------- ------------\n",
      "asttokens         2.4.0\n",
      "backcall          0.2.0\n",
      "colorama          0.4.6\n",
      "comm              0.1.4\n",
      "contourpy         1.1.1\n",
      "cycler            0.12.1\n",
      "debugpy           1.8.0\n",
      "decorator         5.1.1\n",
      "docutils          0.20.1\n",
      "executing         1.2.0\n",
      "fonttools         4.43.1\n",
      "ipykernel         6.25.2\n",
      "ipython           8.15.0\n",
      "jedi              0.19.0\n",
      "jupyter_client    8.3.1\n",
      "jupyter_core      5.3.1\n",
      "kiwisolver        1.4.5\n",
      "matplotlib        3.8.0\n",
      "matplotlib-inline 0.1.6\n",
      "nest-asyncio      1.5.8\n",
      "numpy             1.26.0\n",
      "packaging         23.1\n",
      "pandas            2.1.1\n",
      "parso             0.8.3\n",
      "patsy             0.5.3\n",
      "pickleshare       0.7.5\n",
      "Pillow            10.1.0\n",
      "pip               23.2.1\n",
      "platformdirs      3.10.0\n",
      "prompt-toolkit    3.0.39\n",
      "psutil            5.9.5\n",
      "psycopg2          2.9.7\n",
      "pure-eval         0.2.2\n",
      "Pygments          2.16.1\n",
      "pyparsing         3.1.1\n",
      "python-dateutil   2.8.2\n",
      "pytz              2023.3.post1\n",
      "pywin32           306\n",
      "pyzmq             25.1.1\n",
      "scipy             1.11.3\n",
      "seaborn           0.13.0\n",
      "setuptools        65.5.0\n",
      "six               1.16.0\n",
      "stack-data        0.6.2\n",
      "statistics        1.0.3.5\n",
      "statsmodels       0.14.0\n",
      "tornado           6.3.3\n",
      "traitlets         5.10.0\n",
      "tzdata            2023.3\n",
      "wcwidth           0.2.6\n",
      "Note: you may need to restart the kernel to use updated packages.\n"
     ]
    },
    {
     "name": "stderr",
     "output_type": "stream",
     "text": [
      "\n",
      "[notice] A new release of pip is available: 23.2.1 -> 23.3\n",
      "[notice] To update, run: python.exe -m pip install --upgrade pip\n"
     ]
    }
   ],
   "source": [
    "%pip install -r"
   ]
  },
  {
   "cell_type": "code",
   "execution_count": 2,
   "metadata": {},
   "outputs": [
    {
     "name": "stdout",
     "output_type": "stream",
     "text": [
      "Defaulting to user installation because normal site-packages is not writeable\n",
      "Requirement already satisfied: scikit-learn in /Users/Z00CVY1/Library/Python/3.9/lib/python/site-packages (1.3.0)\n",
      "Requirement already satisfied: numpy>=1.17.3 in /Users/Z00CVY1/Library/Python/3.9/lib/python/site-packages (from scikit-learn) (1.25.2)\n",
      "Requirement already satisfied: scipy>=1.5.0 in /Users/Z00CVY1/Library/Python/3.9/lib/python/site-packages (from scikit-learn) (1.11.1)\n",
      "Requirement already satisfied: joblib>=1.1.1 in /Users/Z00CVY1/Library/Python/3.9/lib/python/site-packages (from scikit-learn) (1.3.2)\n",
      "Requirement already satisfied: threadpoolctl>=2.0.0 in /Users/Z00CVY1/Library/Python/3.9/lib/python/site-packages (from scikit-learn) (3.2.0)\n",
      "Note: you may need to restart the kernel to use updated packages.\n"
     ]
    }
   ],
   "source": [
    "%pip install --user scikit-learn"
   ]
  },
  {
   "cell_type": "code",
   "execution_count": 70,
   "metadata": {},
   "outputs": [
    {
     "name": "stdout",
     "output_type": "stream",
     "text": [
      "Defaulting to user installation because normal site-packages is not writeable\n",
      "Requirement already satisfied: pip in /Library/Developer/CommandLineTools/Library/Frameworks/Python3.framework/Versions/3.9/lib/python3.9/site-packages (21.2.4)\n",
      "Collecting pip\n",
      "  Downloading pip-23.2.1-py3-none-any.whl (2.1 MB)\n",
      "\u001b[K     |████████████████████████████████| 2.1 MB 2.6 MB/s eta 0:00:01\n",
      "\u001b[?25hInstalling collected packages: pip\n",
      "Successfully installed pip-23.2.1\n",
      "\u001b[33mWARNING: You are using pip version 21.2.4; however, version 23.2.1 is available.\n",
      "You should consider upgrading via the '/Library/Developer/CommandLineTools/usr/bin/python3 -m pip install --upgrade pip' command.\u001b[0m\n",
      "Note: you may need to restart the kernel to use updated packages.\n"
     ]
    }
   ],
   "source": [
    "%pip install --upgrade pip"
   ]
  },
  {
   "cell_type": "code",
   "execution_count": 33,
   "metadata": {},
   "outputs": [
    {
     "name": "stdout",
     "output_type": "stream",
     "text": [
      "Defaulting to user installation because normal site-packages is not writeable\n",
      "Collecting package_name\n",
      "  Downloading package_name-0.1.tar.gz (782 bytes)\n",
      "  Preparing metadata (setup.py) ... \u001b[?25ldone\n",
      "\u001b[?25hBuilding wheels for collected packages: package_name\n",
      "  Building wheel for package_name (setup.py) ... \u001b[?25ldone\n",
      "\u001b[?25h  Created wheel for package_name: filename=package_name-0.1-py3-none-any.whl size=1254 sha256=a9f47ff4bdb4f3b513f4300459d7a85307b5ac1dbfb77be146e0b975d9a2fa9b\n",
      "  Stored in directory: /Users/Z00CVY1/Library/Caches/pip/wheels/67/e6/c3/cbfcab244d830378592564f5e46da23a8aad979c4a958b401a\n",
      "Successfully built package_name\n",
      "Installing collected packages: package_name\n",
      "Successfully installed package_name-0.1\n"
     ]
    }
   ],
   "source": [
    "%pip install package_name\n",
    "%pip install sklearn\n",
    "\n",
    "\n",
    "scikitlearn "
   ]
  },
  {
   "cell_type": "code",
   "execution_count": 4,
   "metadata": {},
   "outputs": [
    {
     "name": "stdout",
     "output_type": "stream",
     "text": [
      "Found existing installation: pandas 2.0.3\n",
      "Uninstalling pandas-2.0.3:\n",
      "  Would remove:\n",
      "    /Users/Z00CVY1/Library/Python/3.9/lib/python/site-packages/pandas-2.0.3.dist-info/*\n",
      "    /Users/Z00CVY1/Library/Python/3.9/lib/python/site-packages/pandas/*\n",
      "Proceed (Y/n)? ^C\n",
      "\u001b[31mERROR: Operation cancelled by user\u001b[0m\u001b[31m\n",
      "\u001b[0mNote: you may need to restart the kernel to use updated packages.\n"
     ]
    }
   ],
   "source": [
    "%pip uninstall pandas"
   ]
  },
  {
   "cell_type": "markdown",
   "metadata": {},
   "source": [
    "## JSON in Python"
   ]
  },
  {
   "cell_type": "markdown",
   "metadata": {},
   "source": [
    "JSON (JavaScript Object Notation) is a lightweight data-interchange format. It is often used to transmit data between a server and a client, or to store data in a file.\n",
    "\n",
    "JSON is a text-based format, which means that it can be easily read and written by humans. It is also easy to parse and manipulate using Python.\n",
    "\n",
    "##### Basics of JSON\n",
    "A JSON object is a collection of key-value pairs. The keys are strings, and the values can be strings, numbers, arrays, or objects.\n",
    "\n",
    "An array is a list of values. The values in an array can be of any type.\n",
    "\n",
    "An object is a collection of key-value pairs. The keys and values in an object can be of any type.\n",
    "\n",
    "Here is an example of a JSON object:\n",
    "\n",
    "\n"
   ]
  },
  {
   "cell_type": "code",
   "execution_count": 222,
   "metadata": {},
   "outputs": [],
   "source": [
    "import json"
   ]
  },
  {
   "cell_type": "code",
   "execution_count": 221,
   "metadata": {},
   "outputs": [
    {
     "name": "stdout",
     "output_type": "stream",
     "text": [
      "<class 'str'>\n"
     ]
    }
   ],
   "source": [
    "people = '''{\n",
    "  \"name\": \"John Doe\",\n",
    "  \"age\": 30}\n",
    "'''\n",
    "print(type(people))"
   ]
  },
  {
   "cell_type": "code",
   "execution_count": 224,
   "metadata": {},
   "outputs": [
    {
     "name": "stdout",
     "output_type": "stream",
     "text": [
      "<class 'str'>\n"
     ]
    }
   ],
   "source": [
    "people = '''{\n",
    "  \"name\": \"John Doe\",\n",
    "  \"age\": 30,\n",
    "  \"address\": {\n",
    "    \"street\": \"123 Main Street\",\n",
    "    \"city\": \"Anytown\",\n",
    "    \"state\": \"CA\"\n",
    "  }\n",
    "}'''\n",
    "print(type(people))"
   ]
  },
  {
   "cell_type": "code",
   "execution_count": 226,
   "metadata": {},
   "outputs": [
    {
     "name": "stdout",
     "output_type": "stream",
     "text": [
      "<class 'dict'>\n",
      "{'name': 'John Doe', 'age': 30, 'address': {'street': '123 Main Street', 'city': 'Anytown', 'state': 'CA'}}\n"
     ]
    }
   ],
   "source": [
    "data = json.loads(people)\n",
    "\n",
    "print(type(data))\n",
    "print(data)\n"
   ]
  },
  {
   "cell_type": "code",
   "execution_count": 227,
   "metadata": {},
   "outputs": [
    {
     "data": {
      "text/plain": [
       "'John Doe'"
      ]
     },
     "execution_count": 227,
     "metadata": {},
     "output_type": "execute_result"
    }
   ],
   "source": [
    "data['name']"
   ]
  },
  {
   "cell_type": "code",
   "execution_count": 233,
   "metadata": {},
   "outputs": [
    {
     "name": "stdout",
     "output_type": "stream",
     "text": [
      "30\n",
      "<class 'int'>\n"
     ]
    }
   ],
   "source": [
    "print(data['age'])\n",
    "print(type(data['age']))"
   ]
  },
  {
   "cell_type": "code",
   "execution_count": 236,
   "metadata": {},
   "outputs": [
    {
     "name": "stdout",
     "output_type": "stream",
     "text": [
      "{'street': '123 Main Street', 'city': 'Anytown', 'state': 'CA'}\n",
      "<class 'dict'>\n"
     ]
    }
   ],
   "source": [
    "print(data['address'])\n",
    "print(type(data['address']))"
   ]
  },
  {
   "cell_type": "code",
   "execution_count": null,
   "metadata": {},
   "outputs": [
    {
     "name": "stdout",
     "output_type": "stream",
     "text": [
      "<class 'str'>\n"
     ]
    }
   ],
   "source": [
    "\n",
    "people = '''{\n",
    "  \"name\": \"John Doe\",\n",
    "  \"age\": 30}\n",
    "'''\n",
    "print(type(people))"
   ]
  },
  {
   "cell_type": "code",
   "execution_count": 237,
   "metadata": {},
   "outputs": [
    {
     "name": "stdout",
     "output_type": "stream",
     "text": [
      "street : 123 Main Street\n",
      "city : Anytown\n",
      "state : CA\n"
     ]
    }
   ],
   "source": [
    "for i in data['address']:\n",
    "    print(i,':', data['address'][i])"
   ]
  },
  {
   "cell_type": "code",
   "execution_count": 241,
   "metadata": {},
   "outputs": [
    {
     "name": "stdout",
     "output_type": "stream",
     "text": [
      "<class 'dict'>\n",
      "<class 'str'>\n"
     ]
    }
   ],
   "source": [
    "add = data['address']\n",
    "print(type(add))\n",
    "print(type(add['state']))"
   ]
  },
  {
   "cell_type": "code",
   "execution_count": 242,
   "metadata": {},
   "outputs": [],
   "source": [
    "# people = ''' {pc : [{},{},{} ]  } '''"
   ]
  },
  {
   "cell_type": "code",
   "execution_count": 243,
   "metadata": {},
   "outputs": [
    {
     "name": "stdout",
     "output_type": "stream",
     "text": [
      "<class 'str'>\n"
     ]
    },
    {
     "data": {
      "text/plain": [
       "'\\n{\\n  \"people_collection\":[\\n  {\\n    \"name\": \"John Doe\",\\n    \"age\": 30,\\n    \"email\": null,\\n    \"address\": {\\n      \"street\": \"123 Main Street\",\\n      \"city\": \"Anytown\",\\n      \"state\": \"CA\"\\n    }\\n  },\\n  {\\n    \"name\": \"Jack Snyder\",\\n    \"age\": 43,\\n    \"email\": null,\\n    \"address\": {\\n      \"street\": \"222 Main Street\",\\n      \"city\": \"Newyork\",\\n      \"state\": \"NY\"\\n    }\\n  }  \\n]\\n}\\n'"
      ]
     },
     "execution_count": 243,
     "metadata": {},
     "output_type": "execute_result"
    }
   ],
   "source": [
    "people = '''\n",
    "{\n",
    "  \"people_collection\":[\n",
    "  {\n",
    "    \"name\": \"John Doe\",\n",
    "    \"age\": 30,\n",
    "    \"email\": null,\n",
    "    \"address\": {\n",
    "      \"street\": \"123 Main Street\",\n",
    "      \"city\": \"Anytown\",\n",
    "      \"state\": \"CA\"\n",
    "    }\n",
    "  },\n",
    "  {\n",
    "    \"name\": \"Jack Snyder\",\n",
    "    \"age\": 43,\n",
    "    \"email\": null,\n",
    "    \"address\": {\n",
    "      \"street\": \"222 Main Street\",\n",
    "      \"city\": \"Newyork\",\n",
    "      \"state\": \"NY\"\n",
    "    }\n",
    "  }  \n",
    "]\n",
    "}\n",
    "'''\n",
    "print(type(people))\n",
    "people"
   ]
  },
  {
   "cell_type": "code",
   "execution_count": 244,
   "metadata": {},
   "outputs": [
    {
     "name": "stdout",
     "output_type": "stream",
     "text": [
      "<class 'dict'>\n",
      "{'people_collection': [{'name': 'John Doe', 'age': 30, 'email': None, 'address': {'street': '123 Main Street', 'city': 'Anytown', 'state': 'CA'}}, {'name': 'Jack Snyder', 'age': 43, 'email': None, 'address': {'street': '222 Main Street', 'city': 'Newyork', 'state': 'NY'}}]}\n"
     ]
    }
   ],
   "source": [
    "data = json.loads(people)\n",
    "\n",
    "print(type(data))\n",
    "print(data)\n",
    "\n"
   ]
  },
  {
   "cell_type": "code",
   "execution_count": 247,
   "metadata": {},
   "outputs": [
    {
     "name": "stdout",
     "output_type": "stream",
     "text": [
      "<class 'list'>\n"
     ]
    },
    {
     "data": {
      "text/plain": [
       "'John Doe'"
      ]
     },
     "execution_count": 247,
     "metadata": {},
     "output_type": "execute_result"
    }
   ],
   "source": [
    "print(type(data['people_collection']))\n",
    "# data['people_collection']\n",
    "\n",
    "data['people_collection'][0]['name']\n",
    "\n"
   ]
  },
  {
   "cell_type": "code",
   "execution_count": 250,
   "metadata": {},
   "outputs": [
    {
     "name": "stdout",
     "output_type": "stream",
     "text": [
      "name  :  John Doe\n",
      "age  :  30\n",
      "email  :  None\n",
      "address  :  {'street': '123 Main Street', 'city': 'Anytown', 'state': 'CA'}\n",
      "name  :  Jack Snyder\n",
      "age  :  43\n",
      "email  :  None\n",
      "address  :  {'street': '222 Main Street', 'city': 'Newyork', 'state': 'NY'}\n"
     ]
    }
   ],
   "source": [
    "for person in data['people_collection']:\n",
    "    for person_details in person:\n",
    "        print(person_details, \" : \", person[person_details])"
   ]
  },
  {
   "cell_type": "code",
   "execution_count": 72,
   "metadata": {},
   "outputs": [
    {
     "name": "stdout",
     "output_type": "stream",
     "text": [
      "John Doe  is from  Anytown\n",
      "Jack Snyder  is from  Newyork\n"
     ]
    }
   ],
   "source": [
    "for person in data['people_collection']:\n",
    "    print(person['name'], ' is from ', person['address']['city'])\n",
    "    \n"
   ]
  },
  {
   "cell_type": "code",
   "execution_count": 78,
   "metadata": {},
   "outputs": [
    {
     "name": "stdout",
     "output_type": "stream",
     "text": [
      "{'name': 'John Doe', 'age': 30, 'email': None, 'address': {'street': '123 Main Street', 'city': 'Anytown', 'state': 'CA'}}\n",
      "{'name': 'Jack Snyder', 'age': 43, 'email': None, 'address': {'street': '222 Main Street', 'city': 'Newyork', 'state': 'NY'}}\n"
     ]
    }
   ],
   "source": [
    "for person in data['people_collection']:\n",
    "    print(person)"
   ]
  },
  {
   "cell_type": "code",
   "execution_count": 79,
   "metadata": {},
   "outputs": [],
   "source": [
    "for person in data['people_collection']:\n",
    "    del person['email']"
   ]
  },
  {
   "cell_type": "code",
   "execution_count": 80,
   "metadata": {},
   "outputs": [
    {
     "name": "stdout",
     "output_type": "stream",
     "text": [
      "{'name': 'John Doe', 'age': 30, 'address': {'street': '123 Main Street', 'city': 'Anytown', 'state': 'CA'}}\n",
      "{'name': 'Jack Snyder', 'age': 43, 'address': {'street': '222 Main Street', 'city': 'Newyork', 'state': 'NY'}}\n"
     ]
    }
   ],
   "source": [
    "for person in data['people_collection']:\n",
    "    print(person)"
   ]
  },
  {
   "cell_type": "code",
   "execution_count": 255,
   "metadata": {},
   "outputs": [
    {
     "name": "stdout",
     "output_type": "stream",
     "text": [
      "<class 'str'>\n",
      "{\n",
      "    \"people_collection\": [\n",
      "        {\n",
      "            \"name\": \"John Doe\",\n",
      "            \"age\": 30,\n",
      "            \"email\": null,\n",
      "            \"address\": {\n",
      "                \"street\": \"123 Main Street\",\n",
      "                \"city\": \"Anytown\",\n",
      "                \"state\": \"CA\"\n",
      "            }\n",
      "        },\n",
      "        {\n",
      "            \"name\": \"Jack Snyder\",\n",
      "            \"age\": 43,\n",
      "            \"email\": null,\n",
      "            \"address\": {\n",
      "                \"street\": \"222 Main Street\",\n",
      "                \"city\": \"Newyork\",\n",
      "                \"state\": \"NY\"\n",
      "            }\n",
      "        }\n",
      "    ]\n",
      "}\n"
     ]
    }
   ],
   "source": [
    "jsbvskjbe = json.dumps(data,indent=4)\n",
    "\n",
    "print(type(jsbvskjbe))\n",
    "print(jsbvskjbe)\n"
   ]
  },
  {
   "cell_type": "code",
   "execution_count": 262,
   "metadata": {},
   "outputs": [],
   "source": [
    "with open('demo files/states.txt', 'r') as f:\n",
    "    data = json.load(f)"
   ]
  },
  {
   "cell_type": "code",
   "execution_count": 263,
   "metadata": {},
   "outputs": [
    {
     "data": {
      "text/plain": [
       "{'states': [{'state_name': 'Andhra Pradesh', 'capital': 'Hyderabad'},\n",
       "  {'state_name': 'Arunachal Pradesh', 'capital': 'Itanagar'},\n",
       "  {'state_name': 'Assam', 'capital': 'Dispur'},\n",
       "  {'state_name': 'Bihar', 'capital': 'Patna'},\n",
       "  {'state_name': 'Chhattisgarh', 'capital': 'Raipur'},\n",
       "  {'state_name': 'Goa', 'capital': 'Panaji'},\n",
       "  {'state_name': 'Gujarat', 'capital': 'Gandhinagar'},\n",
       "  {'state_name': 'Haryana', 'capital': 'Chandigarh'},\n",
       "  {'state_name': 'Himachal Pradesh', 'capital': 'Shimla'},\n",
       "  {'state_name': 'Jammu & Kashmir',\n",
       "   'capital': 'Srinagar(Summer)/Jammu(Winter)'},\n",
       "  {'state_name': 'Jharkhand', 'capital': 'Ranchi'},\n",
       "  {'state_name': 'Karnataka', 'capital': 'Bengaluru'},\n",
       "  {'state_name': 'Kerala', 'capital': 'Thiruvananthapuram'},\n",
       "  {'state_name': 'Madhya Pradesh', 'capital': 'Bhopal'},\n",
       "  {'state_name': 'Maharashtra', 'capital': 'Mumbai'},\n",
       "  {'state_name': 'Manipur', 'capital': 'Imphal'},\n",
       "  {'state_name': 'Meghalaya', 'capital': 'Shillong'},\n",
       "  {'state_name': 'Mizoram', 'capital': 'Aizawl'},\n",
       "  {'state_name': 'Nagaland', 'capital': 'Kohima'},\n",
       "  {'state_name': 'Odisha', 'capital': 'Bhubaneswar'},\n",
       "  {'state_name': 'Punjab', 'capital': 'Chandigarh'},\n",
       "  {'state_name': 'Rajasthan', 'capital': 'Jaipur'},\n",
       "  {'state_name': 'Sikkim', 'capital': 'Gangtok'},\n",
       "  {'state_name': 'Tamil Nadu', 'capital': 'Chennai'},\n",
       "  {'state_name': 'Telangana', 'capital': 'Hyderabad'},\n",
       "  {'state_name': 'Tripura', 'capital': 'Agartala'},\n",
       "  {'state_name': 'Uttar Pradesh', 'capital': 'Lucknow'},\n",
       "  {'state_name': 'Uttarakhand', 'capital': 'Dehradun'},\n",
       "  {'state_name': 'West Bengal', 'capital': 'Kolkata'},\n",
       "  {'state_name': 'Andaman & Nicobar Islands', 'capital': 'Port Blair'},\n",
       "  {'state_name': 'Chandigarh', 'capital': 'Chandigarh'},\n",
       "  {'state_name': 'Dadra & Nagar Haveli', 'capital': 'Silvassa'},\n",
       "  {'state_name': 'Daman & Diu', 'capital': 'Daman'},\n",
       "  {'state_name': 'Lakshadweep', 'capital': 'Kavaratti'},\n",
       "  {'state_name': 'Puducherry', 'capital': 'Puducherry'},\n",
       "  {'state_name': 'Delhi', 'capital': 'New Delhi'}]}"
      ]
     },
     "execution_count": 263,
     "metadata": {},
     "output_type": "execute_result"
    }
   ],
   "source": [
    "data"
   ]
  },
  {
   "cell_type": "code",
   "execution_count": 264,
   "metadata": {},
   "outputs": [
    {
     "name": "stdout",
     "output_type": "stream",
     "text": [
      "Hyderabad  is the capital of  Andhra Pradesh\n",
      "Itanagar  is the capital of  Arunachal Pradesh\n",
      "Dispur  is the capital of  Assam\n",
      "Patna  is the capital of  Bihar\n",
      "Raipur  is the capital of  Chhattisgarh\n",
      "Panaji  is the capital of  Goa\n",
      "Gandhinagar  is the capital of  Gujarat\n",
      "Chandigarh  is the capital of  Haryana\n",
      "Shimla  is the capital of  Himachal Pradesh\n",
      "Srinagar(Summer)/Jammu(Winter)  is the capital of  Jammu & Kashmir\n",
      "Ranchi  is the capital of  Jharkhand\n",
      "Bengaluru  is the capital of  Karnataka\n",
      "Thiruvananthapuram  is the capital of  Kerala\n",
      "Bhopal  is the capital of  Madhya Pradesh\n",
      "Mumbai  is the capital of  Maharashtra\n",
      "Imphal  is the capital of  Manipur\n",
      "Shillong  is the capital of  Meghalaya\n",
      "Aizawl  is the capital of  Mizoram\n",
      "Kohima  is the capital of  Nagaland\n",
      "Bhubaneswar  is the capital of  Odisha\n",
      "Chandigarh  is the capital of  Punjab\n",
      "Jaipur  is the capital of  Rajasthan\n",
      "Gangtok  is the capital of  Sikkim\n",
      "Chennai  is the capital of  Tamil Nadu\n",
      "Hyderabad  is the capital of  Telangana\n",
      "Agartala  is the capital of  Tripura\n",
      "Lucknow  is the capital of  Uttar Pradesh\n",
      "Dehradun  is the capital of  Uttarakhand\n",
      "Kolkata  is the capital of  West Bengal\n",
      "Port Blair  is the capital of  Andaman & Nicobar Islands\n",
      "Chandigarh  is the capital of  Chandigarh\n",
      "Silvassa  is the capital of  Dadra & Nagar Haveli\n",
      "Daman  is the capital of  Daman & Diu\n",
      "Kavaratti  is the capital of  Lakshadweep\n",
      "Puducherry  is the capital of  Puducherry\n",
      "New Delhi  is the capital of  Delhi\n"
     ]
    }
   ],
   "source": [
    "for state in data['states']:\n",
    "    print(state['capital'], ' is the capital of ', state['state_name'])"
   ]
  },
  {
   "cell_type": "markdown",
   "metadata": {},
   "source": [
    "## Pickling in Python"
   ]
  },
  {
   "cell_type": "markdown",
   "metadata": {},
   "source": [
    "Python pickle module is used for serializing and de-serializing a Python object structure. Any object in Python can be pickled so that it can be saved on disk. What Pickle does is it “serializes” the object first before writing it to a file. "
   ]
  },
  {
   "cell_type": "code",
   "execution_count": 265,
   "metadata": {},
   "outputs": [],
   "source": [
    "import pickle\n",
    "\n",
    "example_dict = {1:\"6\", 2:\"2\", 3:\"£\"}\n",
    "\n",
    "pickle_out = open (\"dict.pickle\", \"wb\")\n",
    "pickle.dump(example_dict,pickle_out)\n",
    "pickle_out.close()"
   ]
  },
  {
   "cell_type": "code",
   "execution_count": 96,
   "metadata": {},
   "outputs": [],
   "source": [
    "with open ('dict2.pickle','wb') as pickle_out:\n",
    "    pickle.dump(example_dict,pickle_out)\n"
   ]
  },
  {
   "cell_type": "code",
   "execution_count": 267,
   "metadata": {},
   "outputs": [
    {
     "name": "stdout",
     "output_type": "stream",
     "text": [
      "{1: '6', 2: '2', 3: '£'}\n"
     ]
    }
   ],
   "source": [
    "with open ('dict.pickle','rb') as pic:\n",
    "    example_dict = pickle.load(pic)\n",
    "print(example_dict)"
   ]
  }
 ],
 "metadata": {
  "kernelspec": {
   "display_name": "Python 3",
   "language": "python",
   "name": "python3"
  },
  "language_info": {
   "codemirror_mode": {
    "name": "ipython",
    "version": 3
   },
   "file_extension": ".py",
   "mimetype": "text/x-python",
   "name": "python",
   "nbconvert_exporter": "python",
   "pygments_lexer": "ipython3",
   "version": "3.11.5"
  },
  "orig_nbformat": 4
 },
 "nbformat": 4,
 "nbformat_minor": 2
}
