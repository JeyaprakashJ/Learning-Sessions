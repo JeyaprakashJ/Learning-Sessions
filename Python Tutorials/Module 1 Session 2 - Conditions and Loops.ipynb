{
 "cells": [
  {
   "attachments": {},
   "cell_type": "markdown",
   "metadata": {},
   "source": [
    "## Agenda\n",
    "\n",
    "*   Conditional Statements\n",
    "*   For and While Loop\n",
    "*   Functions, Lambda Functions, Recursive Functions\n",
    "*   Number and Math Functions \n",
    "\n",
    "\n",
    "## Control Flow\n",
    "\n",
    "A program’s control flow is the order in which the program’s code executes. The control flow of a Python program is regulated by conditional statements, loops, and function calls. This section covers the if statement and for and while loops; functions are covered in the next class.\n",
    "\n",
    "![](https://www.researchgate.net/profile/Kay_Smarsly/publication/322509045/figure/fig1/AS:583153716215809@1516046088625/Control-flow-of-elementary-control-structures.png)"
   ]
  },
  {
   "attachments": {},
   "cell_type": "markdown",
   "metadata": {},
   "source": [
    "\n",
    "## if:"
   ]
  },
  {
   "cell_type": "code",
   "execution_count": null,
   "metadata": {},
   "outputs": [],
   "source": [
    "x=30\n",
    "y=20"
   ]
  },
  {
   "attachments": {},
   "cell_type": "markdown",
   "metadata": {},
   "source": [
    "##### Condition is -- I need check whther x is greater than y \n"
   ]
  },
  {
   "attachments": {},
   "cell_type": "markdown",
   "metadata": {},
   "source": [
    "##### syntax\n",
    "\n",
    ">* if (condition):\n",
    "    statement1\n",
    "    statement2\n"
   ]
  },
  {
   "cell_type": "code",
   "execution_count": null,
   "metadata": {},
   "outputs": [],
   "source": [
    "if(x>y):\n",
    "    print(\"x is greater than y\")\n",
    "    print(\"Data science class\")"
   ]
  },
  {
   "cell_type": "code",
   "execution_count": null,
   "metadata": {},
   "outputs": [],
   "source": [
    "if(x<y):\n",
    "    print(\"x is lesser than y\")\n",
    "    print(\"Data science class\")"
   ]
  },
  {
   "attachments": {},
   "cell_type": "markdown",
   "metadata": {},
   "source": [
    "## if else:"
   ]
  },
  {
   "attachments": {},
   "cell_type": "markdown",
   "metadata": {},
   "source": [
    "\n",
    ">* if (condition):\n",
    "    * statement1\n",
    "    *  statement2\n",
    ">* else:\n",
    "    * Statement4"
   ]
  },
  {
   "cell_type": "code",
   "execution_count": null,
   "metadata": {},
   "outputs": [],
   "source": [
    "x=10\n",
    "y=20\n",
    "if(x>y):\n",
    "    print('In if Block')\n",
    "    print(\"x is greater than y\")\n",
    "else:\n",
    "    print(\"entering into else block\")\n",
    "    print(\"x is lessthan y\")"
   ]
  },
  {
   "cell_type": "code",
   "execution_count": null,
   "metadata": {},
   "outputs": [],
   "source": [
    "x=100\n",
    "y=20\n",
    "if(x>y):\n",
    "    print(\"x is greater than y\")\n",
    "else:\n",
    "    print(\"enetering into else block\")\n",
    "    print(\"x is lessthan y\")\n"
   ]
  },
  {
   "cell_type": "code",
   "execution_count": null,
   "metadata": {},
   "outputs": [],
   "source": [
    "x=1\n",
    "y=20\n",
    "\n",
    "if(x>y):\n",
    "    print(\"x is greater than y\")\n",
    "else:\n",
    "    print(\"enetering into else block\")\n",
    "    print(\"x is lessthan y\")\n",
    "\n",
    "\n",
    "\n",
    "print(\"This is not part of if else statement. This will always be executed\")"
   ]
  },
  {
   "cell_type": "code",
   "execution_count": null,
   "metadata": {},
   "outputs": [],
   "source": [
    "x=100\n",
    "y=20\n",
    "if(x>y):\n",
    "    print(\"x is greater than y\")\n",
    "else:\n",
    "    print(\"enetering into else block\")\n",
    "    print(\"x is lessthan y\")\n",
    "    print(\"outside if\")"
   ]
  },
  {
   "attachments": {},
   "cell_type": "markdown",
   "metadata": {},
   "source": [
    "## if elif else"
   ]
  },
  {
   "cell_type": "code",
   "execution_count": null,
   "metadata": {},
   "outputs": [],
   "source": [
    "marks=20"
   ]
  },
  {
   "cell_type": "code",
   "execution_count": null,
   "metadata": {},
   "outputs": [],
   "source": [
    "if marks>=90:\n",
    "    print(\"Distinction\")\n",
    "elif marks>80:\n",
    "    print(\"Grade A\")\n",
    "elif marks>70:\n",
    "    print(\"Grade B\")\n",
    "elif marks>60:\n",
    "    print(\"Grade C\")\n",
    "else:\n",
    "    print(\"Fail\")\n",
    "    \n",
    "    "
   ]
  },
  {
   "cell_type": "code",
   "execution_count": null,
   "metadata": {},
   "outputs": [],
   "source": [
    "x=100\n",
    "y=20"
   ]
  },
  {
   "cell_type": "code",
   "execution_count": null,
   "metadata": {},
   "outputs": [],
   "source": [
    "if(x>20):\n",
    "    if(y>10):\n",
    "        print(\"second if\")\n",
    "    print(\"first if\")\n",
    "print(\"outside if\")"
   ]
  },
  {
   "cell_type": "code",
   "execution_count": null,
   "metadata": {},
   "outputs": [],
   "source": [
    "if(x>20):\n",
    "    if(y>10):\n",
    "        print(\"second if\")\n",
    "        if True:\n",
    "            if True: \n",
    "                if True:\n",
    "                    print('Works. But whhy?')\n",
    "\n",
    "    else:\n",
    "        print(\"inside else of inner if\")\n",
    "    print(\"first if\")\n",
    "print(\"outside if\")"
   ]
  },
  {
   "cell_type": "code",
   "execution_count": null,
   "metadata": {},
   "outputs": [],
   "source": [
    "l1 = 1,2,3\n",
    "# print(type(l1))\n",
    "a = 1\n",
    "if a in l1:\n",
    "    print(\"a  in list\") \n",
    "else:\n",
    "    print(\"a not in list\") "
   ]
  },
  {
   "cell_type": "code",
   "execution_count": null,
   "metadata": {},
   "outputs": [],
   "source": [
    "print(1)\n",
    "print(2)\n",
    "print(3)"
   ]
  },
  {
   "attachments": {},
   "cell_type": "markdown",
   "metadata": {},
   "source": [
    "## Loops"
   ]
  },
  {
   "attachments": {},
   "cell_type": "markdown",
   "metadata": {},
   "source": [
    " >* While Loop\n",
    ">* for Loop"
   ]
  },
  {
   "attachments": {},
   "cell_type": "markdown",
   "metadata": {},
   "source": [
    "## The while Statement\n",
    "\n",
    "The while statement in Python supports repeated execution of a statement or block of statements that is controlled by a conditional expression. \n",
    "\n",
    "    count = 0\n",
    "    while x > 0:\n",
    "      x = x / 2            \n",
    "      count += 1\n",
    "  \n",
    "    \n",
    "First, expression, which is known as the loop condition, is evaluated. If the condition is false, the while statement ends. If the loop condition is satisfied, the statement or statements that comprise the loop body are executed. When the loop body finishes executing, the loop condition is evaluated again, to see if another iteration should be performed. This process continues until the loop condition is false, at which point the while statement ends.\n",
    "\n",
    "The loop body should contain code that eventually makes the loop condition false, or the loop will never end unless an exception is raised or the loop body executes a break statement. A loop that is in a function’s body also ends if a return statement executes in the loop body, as the whole function ends in this case."
   ]
  },
  {
   "attachments": {},
   "cell_type": "markdown",
   "metadata": {},
   "source": [
    "### syntax:\n",
    " >* while(condition):\n",
    "      * Statements\n",
    "    "
   ]
  },
  {
   "cell_type": "code",
   "execution_count": null,
   "metadata": {},
   "outputs": [],
   "source": [
    "x=20\n",
    "y=10"
   ]
  },
  {
   "cell_type": "code",
   "execution_count": null,
   "metadata": {
    "scrolled": false
   },
   "outputs": [],
   "source": [
    "# Infinite Loop \n",
    "\"\"\"while(x>y):\n",
    "    print(\"x is greater than y \")\n",
    "\"\"\""
   ]
  },
  {
   "cell_type": "code",
   "execution_count": null,
   "metadata": {},
   "outputs": [],
   "source": [
    "x=20\n",
    "y=10"
   ]
  },
  {
   "cell_type": "code",
   "execution_count": 6,
   "metadata": {},
   "outputs": [
    {
     "name": "stdout",
     "output_type": "stream",
     "text": [
      "3\n"
     ]
    },
    {
     "ename": "KeyboardInterrupt",
     "evalue": "",
     "output_type": "error",
     "traceback": [
      "\u001b[0;31m---------------------------------------------------------------------------\u001b[0m",
      "\u001b[0;31mKeyboardInterrupt\u001b[0m                         Traceback (most recent call last)",
      "Cell \u001b[0;32mIn[6], line 3\u001b[0m\n\u001b[1;32m      1\u001b[0m x \u001b[39m=\u001b[39m \u001b[39m3\u001b[39m\n\u001b[1;32m      2\u001b[0m \u001b[39mwhile\u001b[39;00m x\u001b[39m>\u001b[39m\u001b[39m=\u001b[39m\u001b[39m1\u001b[39m:\n\u001b[0;32m----> 3\u001b[0m     \u001b[39mif\u001b[39;00m x \u001b[39m==\u001b[39m \u001b[39m2\u001b[39m:\n\u001b[1;32m      4\u001b[0m         \u001b[39mcontinue\u001b[39;00m\n\u001b[1;32m      5\u001b[0m     \u001b[39mprint\u001b[39m(x)\n",
      "\u001b[0;31mKeyboardInterrupt\u001b[0m: "
     ]
    }
   ],
   "source": [
    "x = 3\n",
    "while x>=1:\n",
    "    if x == 2:\n",
    "        continue\n",
    "    print(x)\n",
    "    x= x - 1\n",
    "\n"
   ]
  },
  {
   "cell_type": "code",
   "execution_count": 7,
   "metadata": {},
   "outputs": [
    {
     "name": "stdout",
     "output_type": "stream",
     "text": [
      "9\n",
      "8\n",
      "7\n",
      "6\n",
      "4\n",
      "3\n",
      "2\n",
      "1\n",
      "0\n"
     ]
    }
   ],
   "source": [
    "x = 10\n",
    "while x>=1:\n",
    "    x= x - 1\n",
    "    if x == 5:\n",
    "        continue\n",
    "    else:\n",
    "        print(x)\n",
    "    \n"
   ]
  },
  {
   "cell_type": "code",
   "execution_count": null,
   "metadata": {
    "scrolled": false
   },
   "outputs": [],
   "source": [
    "\n",
    "while(x>y):\n",
    "    print(\"x is greater than y \")\n",
    "    x=x-2\n",
    "    print(x)"
   ]
  },
  {
   "attachments": {},
   "cell_type": "markdown",
   "metadata": {},
   "source": [
    "### Break:\n",
    "\n",
    "* Terminates the execution of current loop\n",
    "\n",
    "### Continue:\n",
    "\n",
    "* Returns the control to the beginning of the loop."
   ]
  },
  {
   "cell_type": "code",
   "execution_count": 3,
   "metadata": {},
   "outputs": [
    {
     "name": "stdout",
     "output_type": "stream",
     "text": [
      "x is greater than y \n"
     ]
    }
   ],
   "source": [
    "x=20\n",
    "y=10\n",
    "if (x>y):\n",
    "    print(\"x is greater than y \")"
   ]
  },
  {
   "cell_type": "code",
   "execution_count": null,
   "metadata": {},
   "outputs": [],
   "source": [
    "x=20\n",
    "y=10\n",
    "while(x>y):\n",
    "    print(\"x is greater than y \")\n",
    "    break\n"
   ]
  },
  {
   "cell_type": "code",
   "execution_count": null,
   "metadata": {},
   "outputs": [],
   "source": [
    "x=20\n",
    "y=10\n",
    "while(x>y):\n",
    "    print(\"x is greater than y \")\n",
    "    print(\"before break\")\n",
    "    break\n",
    "    print(\"after break\")\n"
   ]
  },
  {
   "attachments": {},
   "cell_type": "markdown",
   "metadata": {},
   "source": [
    "### continue "
   ]
  },
  {
   "cell_type": "code",
   "execution_count": null,
   "metadata": {},
   "outputs": [],
   "source": [
    "x=20\n",
    "y=10\n",
    "while(x>y):\n",
    "    print(\"x is greater than y \")\n",
    "    x=x-2\n",
    "    continue\n",
    "    print(x)"
   ]
  },
  {
   "attachments": {},
   "cell_type": "markdown",
   "metadata": {},
   "source": [
    "## For Loop\n",
    "\n",
    "The for statement in Python supports repeated execution of a statement or block of statements that is controlled by an iterable expression.\n",
    "\n",
    "    for target in iterable:\n",
    "      statement(s)\n",
    "      \n",
    "Note that the in keyword is part of the syntax of the for statement and is functionally unrelated to the in operator used for membership testing.      \n",
    "\n",
    "iterable may be any Python expression suitable as an argument to built-in function iter, which returns an iterator object (explained in detail in the next section). target is normally an identifier that names the control variable of the loop; the for statement successively rebinds this variable to each item of the iterator, in order. The statement or statements that comprise the loop body execute once for each item in iterable (unless the loop ends because an exception is raised or a break or return statement is executed)."
   ]
  },
  {
   "attachments": {},
   "cell_type": "markdown",
   "metadata": {},
   "source": [
    "### syntax\n",
    ">* for i in variable:\n",
    "    * stmnts"
   ]
  },
  {
   "cell_type": "code",
   "execution_count": 8,
   "metadata": {},
   "outputs": [],
   "source": [
    "l=[1,2,3,4,5,6]"
   ]
  },
  {
   "cell_type": "code",
   "execution_count": 9,
   "metadata": {},
   "outputs": [
    {
     "name": "stdout",
     "output_type": "stream",
     "text": [
      "[1, 2, 3, 4, 5, 6]\n"
     ]
    }
   ],
   "source": [
    "print(l)"
   ]
  },
  {
   "cell_type": "code",
   "execution_count": null,
   "metadata": {},
   "outputs": [],
   "source": [
    "type(l)"
   ]
  },
  {
   "cell_type": "code",
   "execution_count": 10,
   "metadata": {
    "scrolled": true
   },
   "outputs": [
    {
     "name": "stdout",
     "output_type": "stream",
     "text": [
      "1\n",
      "2\n",
      "3\n",
      "4\n"
     ]
    }
   ],
   "source": [
    "print(l[0])\n",
    "print(l[1])\n",
    "print(l[2])\n",
    "print(l[3])"
   ]
  },
  {
   "cell_type": "code",
   "execution_count": null,
   "metadata": {},
   "outputs": [],
   "source": [
    "print(l)"
   ]
  },
  {
   "cell_type": "code",
   "execution_count": 11,
   "metadata": {
    "scrolled": true
   },
   "outputs": [
    {
     "name": "stdout",
     "output_type": "stream",
     "text": [
      "1\n",
      "2\n",
      "3\n",
      "4\n",
      "5\n",
      "6\n"
     ]
    }
   ],
   "source": [
    "for  i in l:\n",
    "    print(i)"
   ]
  },
  {
   "cell_type": "code",
   "execution_count": null,
   "metadata": {},
   "outputs": [],
   "source": [
    "len(l)"
   ]
  },
  {
   "cell_type": "code",
   "execution_count": 15,
   "metadata": {},
   "outputs": [
    {
     "name": "stdout",
     "output_type": "stream",
     "text": [
      "1\n",
      "2\n",
      "3\n",
      "4\n",
      "5\n",
      "6\n"
     ]
    }
   ],
   "source": [
    "for i in range(0,6):\n",
    "    print(l[i])"
   ]
  },
  {
   "attachments": {},
   "cell_type": "markdown",
   "metadata": {},
   "source": [
    "### range() function\n",
    "\n",
    "Looping over a sequence of integers is a common task, so Python provides built-in functions range and xrange to generate and return integer sequences. The simplest, most idiomatic way to loop n times in Python is:\n",
    "\n",
    "\n",
    "    for i in range(n):\n",
    "      statement(s)\n",
    "      \n",
    "range( x ) returns a list whose items are consecutive integers from 0 (included) up to x (excluded). range( x,y ) returns a list whose items are consecutive integers from x (included) up to y (excluded). The result is the empty list if x is greater than or equal to y. range( x,y,step ) returns a list of integers from x (included) up to y (excluded), such that the difference between each two adjacent items in the list is step.   "
   ]
  },
  {
   "cell_type": "code",
   "execution_count": 24,
   "metadata": {},
   "outputs": [
    {
     "name": "stdout",
     "output_type": "stream",
     "text": [
      "range(10, 30)\n",
      "[10, 11, 12, 13, 14, 15, 16, 17, 18, 19, 20, 21, 22, 23, 24, 25, 26, 27, 28, 29]\n"
     ]
    }
   ],
   "source": [
    "range(10, 30, 1)\n",
    "print(range(10, 30, 1))\n",
    "print(list(range(10, 30, 1)))\n"
   ]
  },
  {
   "cell_type": "code",
   "execution_count": 46,
   "metadata": {},
   "outputs": [
    {
     "ename": "SyntaxError",
     "evalue": "invalid syntax (3931937505.py, line 1)",
     "output_type": "error",
     "traceback": [
      "\u001b[0;36m  Cell \u001b[0;32mIn[46], line 1\u001b[0;36m\u001b[0m\n\u001b[0;31m    print(list(range(3,,-1)))\u001b[0m\n\u001b[0m                       ^\u001b[0m\n\u001b[0;31mSyntaxError\u001b[0m\u001b[0;31m:\u001b[0m invalid syntax\n"
     ]
    }
   ],
   "source": [
    "print(list(range(3,,-1)))"
   ]
  },
  {
   "cell_type": "code",
   "execution_count": 25,
   "metadata": {
    "scrolled": true
   },
   "outputs": [
    {
     "name": "stdout",
     "output_type": "stream",
     "text": [
      "0\n",
      "1\n",
      "2\n"
     ]
    }
   ],
   "source": [
    "for i in range(3):\n",
    "    print (i)"
   ]
  },
  {
   "cell_type": "code",
   "execution_count": 37,
   "metadata": {},
   "outputs": [
    {
     "name": "stdout",
     "output_type": "stream",
     "text": [
      "* \n",
      "* * \n",
      "* * * \n",
      "* * * * \n",
      "* * * * * \n"
     ]
    }
   ],
   "source": [
    "for i in range(5):\n",
    "    for j in range(i+1):\n",
    "        print('*', end = ' ')\n",
    "    print()\n",
    "\n",
    "\n",
    "# i= 0,1,2\n",
    "# j= 0,0,1,0,1,2\n",
    "\n",
    "\n",
    "# O/p:\n",
    "# *,**,***\n",
    "\n"
   ]
  },
  {
   "cell_type": "code",
   "execution_count": null,
   "metadata": {},
   "outputs": [],
   "source": [
    "*\n",
    "**\n",
    "***\n",
    "****\n",
    "*****\n",
    "****\n",
    "***\n",
    "**\n",
    "*"
   ]
  },
  {
   "attachments": {},
   "cell_type": "markdown",
   "metadata": {},
   "source": [
    "### List Comprehensions\n",
    "\n",
    "A common use of a for loop is to inspect each item in a sequence and build a new list by appending the results of an expression computed on some or all of the items inspected. The expression form, called a list comprehension, lets you code this common idiom concisely and directly. Since a list comprehension is an expression (rather than a block of statements), you can use it directly wherever you need an expression (e.g., as an actual argument in a function call, in a return statement, or as a subexpression for some other expression)."
   ]
  },
  {
   "cell_type": "code",
   "execution_count": 41,
   "metadata": {},
   "outputs": [
    {
     "name": "stdout",
     "output_type": "stream",
     "text": [
      "Deepega\n",
      "2\n",
      "Deepega\n"
     ]
    }
   ],
   "source": [
    "str = 'Deepega'\n",
    "print(str)\n",
    "if 'd' in str:\n",
    "    print(1)\n",
    "if 'D' in str.upper():\n",
    "    print(2) \n",
    "print(str)"
   ]
  },
  {
   "cell_type": "code",
   "execution_count": null,
   "metadata": {},
   "outputs": [],
   "source": [
    "nameList = [\"Harish\",\"Deepega\",\"Aasif\"]"
   ]
  },
  {
   "cell_type": "code",
   "execution_count": 39,
   "metadata": {},
   "outputs": [],
   "source": [
    "dNameList=[]\n",
    "for x in nameList:\n",
    "    if 'd' in x.lower():\n",
    "       dNameList.append(x)"
   ]
  },
  {
   "cell_type": "code",
   "execution_count": 40,
   "metadata": {},
   "outputs": [
    {
     "name": "stdout",
     "output_type": "stream",
     "text": [
      "['Deepega']\n"
     ]
    }
   ],
   "source": [
    "print(dNameList)"
   ]
  },
  {
   "cell_type": "code",
   "execution_count": null,
   "metadata": {},
   "outputs": [],
   "source": [
    "[x for x in dNameList if 'd' in x.lower()]"
   ]
  },
  {
   "cell_type": "code",
   "execution_count": 42,
   "metadata": {},
   "outputs": [
    {
     "name": "stdout",
     "output_type": "stream",
     "text": [
      "[10, 20, 30]\n"
     ]
    }
   ],
   "source": [
    "list1 = [1,2,3]\n",
    "list2 = []\n",
    "for x in list1:\n",
    "    list2.append(x*10)\n",
    "print(list2)"
   ]
  },
  {
   "cell_type": "code",
   "execution_count": 44,
   "metadata": {},
   "outputs": [
    {
     "name": "stdout",
     "output_type": "stream",
     "text": [
      "[10, 20, 30]\n"
     ]
    }
   ],
   "source": [
    "list2 = [x*10 for x in list1 ]\n",
    "print(list2)\n"
   ]
  },
  {
   "cell_type": "code",
   "execution_count": 45,
   "metadata": {},
   "outputs": [
    {
     "name": "stdout",
     "output_type": "stream",
     "text": [
      "<generator object <genexpr> at 0x10cebe0b0>\n"
     ]
    }
   ],
   "source": [
    "print(x*10 for x in list1 )"
   ]
  },
  {
   "attachments": {},
   "cell_type": "markdown",
   "metadata": {},
   "source": []
  },
  {
   "attachments": {},
   "cell_type": "markdown",
   "metadata": {},
   "source": []
  },
  {
   "attachments": {},
   "cell_type": "markdown",
   "metadata": {},
   "source": [
    "## Functions\n",
    "\n",
    "A function is a block of organized, reusable code that is used to perform a single, related action. ... Different programming languages name them differently, for example, functions, methods, sub-routines, procedures, etc.\n",
    "\n",
    "\n",
    "## Advantages:\n",
    "\n",
    "- Makes your code more organized and manageable.\n",
    "- Brings code reusability.\n",
    "\n",
    "## Function Syantax:\n",
    "```\n",
    "def <function name>([parameters]):\n",
    "    '''Doc string'''\n",
    "    Logic/statements\n",
    "    ...\n",
    "    ...\n",
    "    return value/print(value)\n",
    "```\n",
    "**def** - marks the start of the function header.\\\n",
    "**function name** - a unique name to idenfity the function, this naming follows the same checklist we learnt in variable naming.\\\n",
    "**parameters/arguments** - used to pass a value to the function while calling. These are optional.\\\n",
    "**Doc String** - a short description about the function. This is optional.\\\n",
    "**Logic/statements** - one or more valid python statements to perform the required task.\\\n",
    "**retrun** - this will return a value from the funxtion. Optional.\\\n",
    "**print** - to display a value from the fucntion. Optional.\n"
   ]
  },
  {
   "cell_type": "code",
   "execution_count": null,
   "metadata": {},
   "outputs": [],
   "source": [
    "print()"
   ]
  },
  {
   "cell_type": "code",
   "execution_count": 71,
   "metadata": {},
   "outputs": [],
   "source": [
    "# defining a fuction\n",
    "def summ(a=5,b=5):\n",
    "    c=a+b\n",
    "    # print(c)\n",
    "    return(c)"
   ]
  },
  {
   "cell_type": "code",
   "execution_count": 72,
   "metadata": {},
   "outputs": [
    {
     "ename": "NameError",
     "evalue": "name 'a' is not defined",
     "output_type": "error",
     "traceback": [
      "\u001b[0;31m---------------------------------------------------------------------------\u001b[0m",
      "\u001b[0;31mNameError\u001b[0m                                 Traceback (most recent call last)",
      "Cell \u001b[0;32mIn[72], line 1\u001b[0m\n\u001b[0;32m----> 1\u001b[0m \u001b[39mprint\u001b[39m(a)\n",
      "\u001b[0;31mNameError\u001b[0m: name 'a' is not defined"
     ]
    }
   ],
   "source": []
  },
  {
   "cell_type": "code",
   "execution_count": 73,
   "metadata": {},
   "outputs": [
    {
     "name": "stdout",
     "output_type": "stream",
     "text": [
      "10\n"
     ]
    }
   ],
   "source": [
    "# Calling a function\n",
    "abc = summ()\n",
    "print(abc)"
   ]
  },
  {
   "cell_type": "code",
   "execution_count": null,
   "metadata": {},
   "outputs": [],
   "source": [
    "result=summ(10,20)\n",
    "print(result)"
   ]
  },
  {
   "attachments": {},
   "cell_type": "markdown",
   "metadata": {},
   "source": [
    "##### function Arguments\n",
    "1. Required Arguments  \n",
    "2. Keyword Arguments \n",
    "3. Default Arguments \n",
    "4. Variable length Arguments \n"
   ]
  },
  {
   "cell_type": "code",
   "execution_count": null,
   "metadata": {},
   "outputs": [],
   "source": [
    "# Required Arguments \n",
    "summ(10,20)"
   ]
  },
  {
   "cell_type": "code",
   "execution_count": 69,
   "metadata": {},
   "outputs": [],
   "source": [
    "# defining a fuction\n",
    "def summ(a,b):\n",
    "    c=a+b\n",
    "    # print(c)\n",
    "    return(c)"
   ]
  },
  {
   "cell_type": "code",
   "execution_count": null,
   "metadata": {},
   "outputs": [],
   "source": [
    "# keyword Arguments\n",
    "summ(b=10,a=20)"
   ]
  },
  {
   "cell_type": "code",
   "execution_count": null,
   "metadata": {},
   "outputs": [],
   "source": [
    "# Default Arguments\n",
    "def printinfo( name,age = 35 ):\n",
    "   #\"This prints a passed info into this function\"\n",
    "    print (\"Name: \", name)\n",
    "    print (\"Age \", age)\n",
    "    return;"
   ]
  },
  {
   "cell_type": "code",
   "execution_count": null,
   "metadata": {},
   "outputs": [],
   "source": [
    "printinfo(\"Data Science\")\n"
   ]
  },
  {
   "cell_type": "code",
   "execution_count": null,
   "metadata": {},
   "outputs": [],
   "source": [
    "printinfo(\"Data Science\",50)\n"
   ]
  },
  {
   "cell_type": "code",
   "execution_count": null,
   "metadata": {},
   "outputs": [],
   "source": [
    "printinfo(\"Data Science\") # Age is assumed to  be a default Argument  "
   ]
  },
  {
   "cell_type": "code",
   "execution_count": 91,
   "metadata": {},
   "outputs": [],
   "source": [
    "# Variable Length Arguments\n",
    "def varlen( arg1,arg2, *vartuple ):\n",
    "      print (\"arg1 is:\",arg1)\n",
    "      print (\"arg2 is:\",arg2)\n",
    "      \n",
    "      print(\"vartuple is:\",vartuple)\n",
    "      \n",
    "      for var in vartuple:\n",
    "            print(\"Var tuple is:\",var)\n",
    "      return  vartuple\n",
    "   "
   ]
  },
  {
   "cell_type": "code",
   "execution_count": 92,
   "metadata": {},
   "outputs": [
    {
     "name": "stdout",
     "output_type": "stream",
     "text": [
      "arg1 is: 1\n",
      "arg2 is: 2\n",
      "vartuple is: (3, 4, 5, 10)\n"
     ]
    },
    {
     "data": {
      "text/plain": [
       "(3, 4, 5, 10)"
      ]
     },
     "execution_count": 92,
     "metadata": {},
     "output_type": "execute_result"
    }
   ],
   "source": [
    "varlen(1,2,3,4,5,10)"
   ]
  },
  {
   "attachments": {},
   "cell_type": "markdown",
   "metadata": {},
   "source": [
    "##### Keyword Arguments - kwarg"
   ]
  },
  {
   "cell_type": "code",
   "execution_count": 93,
   "metadata": {},
   "outputs": [],
   "source": [
    "def func(var, **kwarg):\n",
    "    print (var)\n",
    "    print (kwarg)\n",
    "    print (type(kwarg))\n"
   ]
  },
  {
   "cell_type": "code",
   "execution_count": 94,
   "metadata": {},
   "outputs": [
    {
     "name": "stdout",
     "output_type": "stream",
     "text": [
      "var value\n",
      "{'a': 1, 'b': 2}\n",
      "<class 'dict'>\n"
     ]
    }
   ],
   "source": [
    "# func()\n",
    "func('var value', a=1,b=2)"
   ]
  },
  {
   "attachments": {},
   "cell_type": "markdown",
   "metadata": {},
   "source": [
    "#### Lambda Fucntion(Anonymous)\n",
    "Lambda functions are used when you need a function for a short period of time. This is commonly used when you want to pass a function as an argument to higher-order functions, that is, functions that take other functions as their arguments.\n",
    "* Syntax: lambda [arg1 [,arg2,.....argn]]:expression"
   ]
  },
  {
   "cell_type": "code",
   "execution_count": 95,
   "metadata": {},
   "outputs": [
    {
     "data": {
      "text/plain": [
       "30"
      ]
     },
     "execution_count": 95,
     "metadata": {},
     "output_type": "execute_result"
    }
   ],
   "source": [
    "def add(x, y):\n",
    "    return x + y\n",
    "\n",
    "add(10,20)"
   ]
  },
  {
   "cell_type": "code",
   "execution_count": 96,
   "metadata": {},
   "outputs": [
    {
     "name": "stdout",
     "output_type": "stream",
     "text": [
      "30\n"
     ]
    }
   ],
   "source": [
    "summm = (lambda x, y: x + y)(10, 20)\n",
    "print(summm)"
   ]
  },
  {
   "attachments": {},
   "cell_type": "markdown",
   "metadata": {},
   "source": [
    "#### Recursive Function\n",
    "* Function Calling a function itself"
   ]
  },
  {
   "cell_type": "code",
   "execution_count": 98,
   "metadata": {},
   "outputs": [],
   "source": [
    "# Normal function to calculate factorial\n",
    "#n=1\n",
    "def fact(n):\n",
    "    if(n<0):\n",
    "        return(\"enter valid n value\")\n",
    "    if(n==1 or n==0 ):    \n",
    "        return 1\n",
    "    else:\n",
    "        for  i  in range(1,n):     \n",
    "            n=n*i\n",
    "    return(n)\n",
    "\n",
    "\n",
    "    # n = 4,8,24"
   ]
  },
  {
   "cell_type": "code",
   "execution_count": 99,
   "metadata": {},
   "outputs": [
    {
     "data": {
      "text/plain": [
       "24"
      ]
     },
     "execution_count": 99,
     "metadata": {},
     "output_type": "execute_result"
    }
   ],
   "source": [
    "fact(4)"
   ]
  },
  {
   "cell_type": "code",
   "execution_count": 100,
   "metadata": {},
   "outputs": [],
   "source": [
    "# Recursive function to calculate Factorial ofthe number\n",
    "def rec_fact(n):\n",
    "    if(n==1 & n==0):\n",
    "        return 1\n",
    "    else:\n",
    "        fact=n*rec_fact(n-1)\n",
    "           \n",
    "    return(fact)"
   ]
  },
  {
   "cell_type": "code",
   "execution_count": 101,
   "metadata": {},
   "outputs": [
    {
     "data": {
      "text/plain": [
       "6"
      ]
     },
     "execution_count": 101,
     "metadata": {},
     "output_type": "execute_result"
    }
   ],
   "source": [
    "rec_fact(3)"
   ]
  },
  {
   "attachments": {},
   "cell_type": "markdown",
   "metadata": {},
   "source": [
    "# Scope of variables\n",
    "* Global Variable\n",
    "* Local Variable"
   ]
  },
  {
   "cell_type": "code",
   "execution_count": 113,
   "metadata": {},
   "outputs": [],
   "source": [
    "# Local Variable and Global Variable\n",
    "#print(global_var)\n",
    "global_var=100 # Global Variable\n",
    "\n",
    "def Function(a):\n",
    "    loc_var=10  # Local Varaible\n",
    "    print(\"Local Varible\",loc_var)\n",
    "    print(\"Gloabal Varible\",global_var)\n"
   ]
  },
  {
   "cell_type": "code",
   "execution_count": null,
   "metadata": {},
   "outputs": [],
   "source": []
  },
  {
   "cell_type": "code",
   "execution_count": 104,
   "metadata": {},
   "outputs": [
    {
     "data": {
      "text/plain": [
       "100"
      ]
     },
     "execution_count": 104,
     "metadata": {},
     "output_type": "execute_result"
    }
   ],
   "source": [
    "global_var"
   ]
  },
  {
   "cell_type": "code",
   "execution_count": 105,
   "metadata": {},
   "outputs": [
    {
     "name": "stdout",
     "output_type": "stream",
     "text": [
      "Local Varible 10\n",
      "Gloabal Varible 100\n"
     ]
    }
   ],
   "source": [
    "Function(10)"
   ]
  },
  {
   "cell_type": "code",
   "execution_count": null,
   "metadata": {},
   "outputs": [],
   "source": [
    "\n",
    "print(global_var)"
   ]
  },
  {
   "cell_type": "code",
   "execution_count": null,
   "metadata": {},
   "outputs": [],
   "source": [
    "print(loc_var) # Scope of this varaible is within  fuction only"
   ]
  },
  {
   "cell_type": "code",
   "execution_count": null,
   "metadata": {},
   "outputs": [],
   "source": [
    "print(global_var) # Scope of this is  outside the function also"
   ]
  },
  {
   "cell_type": "code",
   "execution_count": 111,
   "metadata": {},
   "outputs": [],
   "source": [
    "\n",
    "def function():\n",
    "    global local_variable # Make a local variable as gloabl\n",
    "    local_variable=10\n",
    "    print(local_variable)\n"
   ]
  },
  {
   "cell_type": "code",
   "execution_count": 108,
   "metadata": {},
   "outputs": [
    {
     "name": "stdout",
     "output_type": "stream",
     "text": [
      "10\n"
     ]
    }
   ],
   "source": [
    "function()"
   ]
  },
  {
   "cell_type": "code",
   "execution_count": 112,
   "metadata": {},
   "outputs": [
    {
     "name": "stdout",
     "output_type": "stream",
     "text": [
      "10\n"
     ]
    }
   ],
   "source": [
    "print(local_variable)"
   ]
  },
  {
   "attachments": {},
   "cell_type": "markdown",
   "metadata": {},
   "source": []
  },
  {
   "attachments": {},
   "cell_type": "markdown",
   "metadata": {},
   "source": [
    "## Math Functions"
   ]
  },
  {
   "cell_type": "code",
   "execution_count": null,
   "metadata": {},
   "outputs": [],
   "source": [
    "import math# u can also import like that import import math as m."
   ]
  },
  {
   "cell_type": "code",
   "execution_count": null,
   "metadata": {},
   "outputs": [],
   "source": [
    "x = math.sqrt(25)\n",
    "x"
   ]
  },
  {
   "cell_type": "code",
   "execution_count": null,
   "metadata": {},
   "outputs": [],
   "source": [
    "y = math.floor(2.4) # round off  the value in least integer\n",
    "y "
   ]
  },
  {
   "cell_type": "code",
   "execution_count": null,
   "metadata": {},
   "outputs": [],
   "source": [
    "z = math.ceil(2.4)# round off the value in highest integer\n",
    "z"
   ]
  },
  {
   "cell_type": "code",
   "execution_count": null,
   "metadata": {},
   "outputs": [],
   "source": [
    "a = math.pow(3,2) # power function here 2 is power of 3\n",
    "a"
   ]
  },
  {
   "cell_type": "code",
   "execution_count": null,
   "metadata": {},
   "outputs": [],
   "source": [
    "print(math.pi) # constant pi value"
   ]
  },
  {
   "cell_type": "code",
   "execution_count": null,
   "metadata": {},
   "outputs": [],
   "source": [
    "print(math.e)"
   ]
  },
  {
   "cell_type": "code",
   "execution_count": null,
   "metadata": {},
   "outputs": [],
   "source": [
    "print(math.fabs(-6.4)) # absolute value of the float"
   ]
  },
  {
   "cell_type": "code",
   "execution_count": null,
   "metadata": {},
   "outputs": [],
   "source": [
    "print(math.factorial(5)) "
   ]
  },
  {
   "cell_type": "code",
   "execution_count": null,
   "metadata": {},
   "outputs": [],
   "source": [
    "print(math.fmod(3,3)) # x % y "
   ]
  },
  {
   "cell_type": "code",
   "execution_count": null,
   "metadata": {},
   "outputs": [],
   "source": [
    "print(math.gcd(3,6))"
   ]
  },
  {
   "attachments": {},
   "cell_type": "markdown",
   "metadata": {},
   "source": []
  },
  {
   "attachments": {},
   "cell_type": "markdown",
   "metadata": {},
   "source": []
  },
  {
   "attachments": {},
   "cell_type": "markdown",
   "metadata": {},
   "source": [
    "## Some Fun Stuff"
   ]
  },
  {
   "attachments": {},
   "cell_type": "markdown",
   "metadata": {},
   "source": [
    "##### Treasure hunt game example"
   ]
  },
  {
   "attachments": {},
   "cell_type": "markdown",
   "metadata": {},
   "source": [
    "##### Tresure Hunt\n",
    "\n",
    "X -- is my treasure \n",
    "1. If X index is found -- print he is the winner \n",
    "2. if the guess is index of E - He is dead \n",
    "3. if he guess other index(except E and X) # select other index \n",
    "\n"
   ]
  },
  {
   "cell_type": "code",
   "execution_count": null,
   "metadata": {},
   "outputs": [],
   "source": [
    "guess=int(input(\"Enter the number:::::\"))\n",
    "game_zone = ['','','','X','','','','E','','','','','','']\n",
    "\n",
    "success='X'\n",
    "failure='E'\n",
    "\n",
    "while(guess >= 0):\n",
    "    if(guess <= len(game_zone)-1):\n",
    "        if (guess == game_zone.index(success)):\n",
    "            print(\"Congrats you are the winner\")\n",
    "            break\n",
    "        elif(guess == game_zone.index(failure)):\n",
    "            print(\"Sorry you lose!!! Better luck next time\")\n",
    "            break\n",
    "        elif(guess < game_zone.index(success)):\n",
    "            print(\"Good try again. One clue is move towards right to win the game\")\n",
    "            break\n",
    "        elif((guess > game_zone.index(success))):\n",
    "            print(\"Good try again. One clue is move towards left to win the game\")\n",
    "            break\n",
    "    else:\n",
    "        print(\"Better try from {f} to {l}\".format(f=0,l=len(game_zone)-1))\n",
    "        break\n",
    "             "
   ]
  },
  {
   "attachments": {},
   "cell_type": "markdown",
   "metadata": {},
   "source": [
    "##### Wordcount\n",
    "\n",
    "Given a sentence, find how many times each word occured\n",
    "\n",
    "1. Convert everything to lowercase\n",
    "1. Remove extra character (.)\n",
    "1. Chunk into individual words\n",
    "1. Read word by word and find the count, and store\n",
    "1. Print"
   ]
  },
  {
   "cell_type": "code",
   "execution_count": null,
   "metadata": {},
   "outputs": [],
   "source": [
    "sentence = \"\"\"Hello everybody I am learning Data Science. \n",
    "    I am learning about how to crunch large amount of data.\n",
    "    This helps us understand the past and predict the future\"\"\"\n",
    "\n",
    "# {'hello':1, 'data':2, 'i':2,.....}"
   ]
  },
  {
   "cell_type": "code",
   "execution_count": null,
   "metadata": {},
   "outputs": [],
   "source": [
    "sentence = \"\"\"Hello everybody I am learning Data Science. \n",
    "    I am learning about how to crunch large amount of data.\n",
    "    This helps us understand the past and predict the future\"\"\"\n",
    "\n",
    "sentence = sentence.lower()\n",
    "sentence = sentence.replace('.','')\n",
    "sentence = sentence.replace('\\n','')\n",
    "sentence_list = sentence.split(' ')\n",
    "sentence_set = set(sentence_list)\n",
    "\n",
    "word_count = dict()\n",
    "\n",
    "for word in sentence_set:\n",
    "    if word == '':\n",
    "        continue\n",
    "    word_count[word] = sentence_list.count(word)\n",
    "word_count"
   ]
  },
  {
   "attachments": {},
   "cell_type": "markdown",
   "metadata": {},
   "source": [
    "##### Count Elements in a List without using inbuilt function\n",
    "\n",
    "Given a list of integers, and a number num, find how many times num is present in integers"
   ]
  },
  {
   "cell_type": "code",
   "execution_count": null,
   "metadata": {},
   "outputs": [],
   "source": [
    "lst = [3,4,6,5,7,5,4,5,6,7,5,4]\n",
    "\n",
    "num = int(input('Enter number to be searched: '))  \n",
    "\n",
    "counter = 0\n",
    "for item in lst:\n",
    "    if num == item:\n",
    "        counter += 1\n",
    "print (\"number of times number\",counter)"
   ]
  },
  {
   "cell_type": "code",
   "execution_count": 122,
   "metadata": {},
   "outputs": [],
   "source": [
    "l1 = [1,2,3]\n",
    "\n",
    "l2 = l1\n"
   ]
  },
  {
   "cell_type": "code",
   "execution_count": 119,
   "metadata": {},
   "outputs": [
    {
     "name": "stdout",
     "output_type": "stream",
     "text": [
      "[1, 'a', 3]\n",
      "[1, 'a', 3]\n",
      "After change\n",
      "4512718400 [1, 'a', 3]\n",
      "4512718400 [1, 'a', 3]\n"
     ]
    }
   ],
   "source": [
    "print(l1)\n",
    "print(l2)\n",
    "l2[1]='a'\n",
    "print('After change')\n",
    "print(id(l1),l1)\n",
    "print(id(l2),l2)"
   ]
  },
  {
   "cell_type": "code",
   "execution_count": 123,
   "metadata": {},
   "outputs": [],
   "source": [
    "l1 = [1,2,3]"
   ]
  },
  {
   "cell_type": "code",
   "execution_count": 124,
   "metadata": {},
   "outputs": [],
   "source": [
    "import copy\n",
    "l3 = copy.copy(l1)"
   ]
  },
  {
   "cell_type": "code",
   "execution_count": 125,
   "metadata": {},
   "outputs": [
    {
     "name": "stdout",
     "output_type": "stream",
     "text": [
      "[1, 2, 3]\n",
      "[1, 2, 3]\n",
      "After change\n",
      "4512718400 [1, 2, 3]\n",
      "4512820992 [1, 'a', 3]\n"
     ]
    }
   ],
   "source": [
    "print(l1)\n",
    "print(l3)\n",
    "l3[1]='a'\n",
    "print('After change')\n",
    "print(id(l1),l1)\n",
    "print(id(l3),l3)"
   ]
  },
  {
   "cell_type": "code",
   "execution_count": 10,
   "metadata": {},
   "outputs": [],
   "source": [
    "l4 = [[1,2,3],[4,5,6]]"
   ]
  },
  {
   "cell_type": "code",
   "execution_count": 11,
   "metadata": {},
   "outputs": [],
   "source": [
    "import copy\n",
    "l5 = copy.deepcopy(l4)"
   ]
  },
  {
   "cell_type": "code",
   "execution_count": 12,
   "metadata": {},
   "outputs": [
    {
     "name": "stdout",
     "output_type": "stream",
     "text": [
      "[[1, 2, 3], [4, 5, 6]]\n",
      "[[1, 2, 3], [4, 5, 6]]\n",
      "After change\n",
      "4545621824 [[1, 2, 3], [4, 5, 6]]\n",
      "4545224512 [[1, 2, 3], ['*', 5, 6]]\n"
     ]
    }
   ],
   "source": [
    "print(l4)\n",
    "print(l5)\n",
    "l5[1][0]='*'\n",
    "print('After change')\n",
    "print(id(l4),l4)\n",
    "print(id(l5),l5)"
   ]
  }
 ],
 "metadata": {
  "kernelspec": {
   "display_name": "Python 3 (ipykernel)",
   "language": "python",
   "name": "python3"
  },
  "language_info": {
   "codemirror_mode": {
    "name": "ipython",
    "version": 3
   },
   "file_extension": ".py",
   "mimetype": "text/x-python",
   "name": "python",
   "nbconvert_exporter": "python",
   "pygments_lexer": "ipython3",
   "version": "3.9.6"
  }
 },
 "nbformat": 4,
 "nbformat_minor": 2
}
