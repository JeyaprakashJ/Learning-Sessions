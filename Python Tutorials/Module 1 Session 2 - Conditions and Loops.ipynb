{
 "cells": [
  {
   "attachments": {},
   "cell_type": "markdown",
   "metadata": {},
   "source": [
    "## Agenda\n",
    "\n",
    "*   Conditional Statements\n",
    "*   For and While Loop\n",
    "*   Functions, Lambda Functions, Recursive Functions\n",
    "*   Number and Math Functions \n",
    "\n",
    "\n",
    "## Control Flow\n",
    "\n",
    "A program’s control flow is the order in which the program’s code executes. The control flow of a Python program is regulated by conditional statements, loops, and function calls. This section covers the if statement and for and while loops; functions are covered in the next class.\n",
    "\n",
    "![](https://www.researchgate.net/profile/Kay_Smarsly/publication/322509045/figure/fig1/AS:583153716215809@1516046088625/Control-flow-of-elementary-control-structures.png)"
   ]
  },
  {
   "attachments": {},
   "cell_type": "markdown",
   "metadata": {},
   "source": [
    "\n",
    "## if:"
   ]
  },
  {
   "cell_type": "code",
   "execution_count": 3,
   "metadata": {},
   "outputs": [],
   "source": [
    "eng=80\n",
    "math=85\n",
    "tot = eng+math\n",
    "\n",
    "\n",
    "# strange pass criteria: For a student to be tagged \"Pass\" they need to score 100marks total"
   ]
  },
  {
   "attachments": {},
   "cell_type": "markdown",
   "metadata": {},
   "source": [
    "##### Condition is -- I need check whther x is greater than y \n"
   ]
  },
  {
   "attachments": {},
   "cell_type": "markdown",
   "metadata": {},
   "source": [
    "##### syntax\n",
    "\n",
    ">* if (condition):\n",
    "    statement1\n",
    "    statement2\n"
   ]
  },
  {
   "cell_type": "code",
   "execution_count": 5,
   "metadata": {},
   "outputs": [],
   "source": [
    "eng=10\n",
    "math=85\n",
    "tot = eng+math\n",
    "\n",
    "\n",
    "# strange pass criteria: For a student to be tagged \"Pass\" they need to score 100marks total\n",
    "total > 120\n",
    "math > 70\n",
    "or \n",
    "\n",
    "if tot > 150 -> even if math <70 student is pass\n"
   ]
  },
  {
   "cell_type": "code",
   "execution_count": 9,
   "metadata": {},
   "outputs": [
    {
     "name": "stdout",
     "output_type": "stream",
     "text": [
      "Fail\n"
     ]
    }
   ],
   "source": [
    "if ((tot>=120 and math>=70)or(tot>150)):\n",
    "    print(\"Pass\")\n",
    "    print(\"line 2\")\n",
    "else:\n",
    "    print(\"Fail\")"
   ]
  },
  {
   "cell_type": "code",
   "execution_count": null,
   "metadata": {},
   "outputs": [],
   "source": [
    "if ():\n",
    "    line 1"
   ]
  },
  {
   "cell_type": "code",
   "execution_count": null,
   "metadata": {},
   "outputs": [],
   "source": [
    "if(x>y):\n",
    "    print(\"x is greater than y\")\n",
    "    print(\"Data science class\")"
   ]
  },
  {
   "cell_type": "code",
   "execution_count": null,
   "metadata": {},
   "outputs": [],
   "source": [
    "if(x<y):\n",
    "    print(\"x is lesser than y\")\n",
    "    print(\"Data science class\")"
   ]
  },
  {
   "attachments": {},
   "cell_type": "markdown",
   "metadata": {},
   "source": [
    "## if else:"
   ]
  },
  {
   "attachments": {},
   "cell_type": "markdown",
   "metadata": {},
   "source": [
    "\n",
    ">* if (condition):\n",
    "    * statement1\n",
    "    *  statement2\n",
    ">* else:\n",
    "    * Statement4"
   ]
  },
  {
   "cell_type": "code",
   "execution_count": null,
   "metadata": {},
   "outputs": [],
   "source": [
    "x=10\n",
    "y=20\n",
    "if(x>y or 10>20 ):\n",
    "    print('In if Block')\n",
    "    print(\"x is greater than y\")\n",
    "else:\n",
    "    print(\"entering into else block\")\n",
    "    print(\"x is lessthan y\")"
   ]
  },
  {
   "cell_type": "code",
   "execution_count": null,
   "metadata": {},
   "outputs": [],
   "source": [
    "x=100\n",
    "y=20\n",
    "if(x>y):\n",
    "    print(\"x is greater than y\")\n",
    "else:\n",
    "    print(\"enetering into else block\")\n",
    "    print(\"x is lessthan y\")\n"
   ]
  },
  {
   "cell_type": "code",
   "execution_count": null,
   "metadata": {},
   "outputs": [],
   "source": [
    "x=1\n",
    "y=20\n",
    "\n",
    "if(x>y):\n",
    "    print(\"x is greater than y\")\n",
    "else:\n",
    "    print(\"enetering into else block\")\n",
    "    print(\"x is lessthan y\")\n",
    "\n",
    "\n",
    "\n",
    "print(\"This is not part of if else statement. This will always be executed\")"
   ]
  },
  {
   "cell_type": "code",
   "execution_count": null,
   "metadata": {},
   "outputs": [],
   "source": [
    "x=100\n",
    "y=20\n",
    "if(x>y):\n",
    "    print(\"x is greater than y\")\n",
    "else:\n",
    "    print(\"enetering into else block\")\n",
    "    print(\"x is lessthan y\")\n",
    "    print(\"outside if\")"
   ]
  },
  {
   "attachments": {},
   "cell_type": "markdown",
   "metadata": {},
   "source": [
    "## if elif else"
   ]
  },
  {
   "cell_type": "code",
   "execution_count": 11,
   "metadata": {},
   "outputs": [],
   "source": [
    "marks=90"
   ]
  },
  {
   "cell_type": "code",
   "execution_count": 12,
   "metadata": {},
   "outputs": [
    {
     "name": "stdout",
     "output_type": "stream",
     "text": [
      "Distinction\n"
     ]
    }
   ],
   "source": [
    "if marks>=90:\n",
    "    print(\"Distinction\")\n",
    "elif marks>80:\n",
    "    print(\"Grade A\")\n",
    "elif marks>70:\n",
    "    print(\"Grade B\")\n",
    "elif marks>60:\n",
    "    print(\"Grade C\")\n",
    "else:\n",
    "    print(\"Fail\")\n",
    "\n",
    "    "
   ]
  },
  {
   "cell_type": "code",
   "execution_count": 21,
   "metadata": {},
   "outputs": [],
   "source": [
    "level1 = 76\n",
    "level2 = 76\n",
    "\n"
   ]
  },
  {
   "cell_type": "code",
   "execution_count": 22,
   "metadata": {},
   "outputs": [
    {
     "name": "stdout",
     "output_type": "stream",
     "text": [
      "Congrats you passed both levels\n"
     ]
    }
   ],
   "source": [
    "if(level1>75):\n",
    "    if(level2>75):\n",
    "        print(\"Congrats you passed both levels\")\n",
    "    else:\n",
    "        print(\"sorry. You failed in level 2\")\n",
    "else:\n",
    "    if True:\n",
    "        print(\"something\")\n",
    "    else:\n",
    "        print(\"nothing\")\n",
    "    print(\"failed level 1 itself\")\n",
    "# print(\"outside if\")"
   ]
  },
  {
   "cell_type": "code",
   "execution_count": 23,
   "metadata": {},
   "outputs": [
    {
     "name": "stdout",
     "output_type": "stream",
     "text": [
      "second if\n",
      "Works. But whhy?\n",
      "first if\n",
      "outside if\n"
     ]
    }
   ],
   "source": [
    "if(x>20):\n",
    "    if(y>10):\n",
    "        print(\"second if\")\n",
    "        if True:\n",
    "            if True: \n",
    "                if True:\n",
    "                    print('Works. But whhy?')\n",
    "\n",
    "    else:\n",
    "        print(\"inside else of inner if\")\n",
    "    print(\"first if\")\n",
    "print(\"outside if\")"
   ]
  },
  {
   "cell_type": "code",
   "execution_count": null,
   "metadata": {},
   "outputs": [],
   "source": [
    "l1 = 1,2,3\n",
    "# print(type(l1))\n",
    "a = 1\n",
    "if a in l1:\n",
    "    print(\"a  in list\") \n",
    "else:\n",
    "    print(\"a not in list\") "
   ]
  },
  {
   "cell_type": "code",
   "execution_count": null,
   "metadata": {},
   "outputs": [],
   "source": [
    "print(1)\n",
    "print(2)\n",
    "print(3)"
   ]
  },
  {
   "cell_type": "code",
   "execution_count": null,
   "metadata": {},
   "outputs": [],
   "source": [
    "\n",
    "# Case not in python\n",
    "# case \n",
    "# when a>b:  \n",
    "#     execute this line\n",
    "# when a<b:\n",
    "#     execute this"
   ]
  },
  {
   "cell_type": "markdown",
   "metadata": {},
   "source": [
    "\n",
    "# Looping\n",
    "# Repetitive which will start printing from 1 and increment by 1 unit and stop when the number the user has given is attained\n",
    "\n",
    "1. get the input n from user\n",
    "2. Assign 1 to a variable i\n",
    "3. Print the value in 1\n",
    "4. Increment value of i by 1\n",
    "5. Check if the user input number is reached \n",
    "6. if not print i"
   ]
  },
  {
   "cell_type": "code",
   "execution_count": 25,
   "metadata": {},
   "outputs": [
    {
     "ename": "SyntaxError",
     "evalue": "invalid syntax (11598326.py, line 14)",
     "output_type": "error",
     "traceback": [
      "\u001b[1;36m  Cell \u001b[1;32mIn[25], line 14\u001b[1;36m\u001b[0m\n\u001b[1;33m    1. get the input n from user\u001b[0m\n\u001b[1;37m       ^\u001b[0m\n\u001b[1;31mSyntaxError\u001b[0m\u001b[1;31m:\u001b[0m invalid syntax\n"
     ]
    }
   ],
   "source": [
    "# print n integer starting from 1\n",
    "1\n",
    "2\n",
    "3\n",
    "4\n",
    "n = int(input('Enter the number'))\n",
    "print(1)\n",
    "print(2)\n",
    "print(3)\n"
   ]
  },
  {
   "attachments": {},
   "cell_type": "markdown",
   "metadata": {},
   "source": [
    "## Loops"
   ]
  },
  {
   "attachments": {},
   "cell_type": "markdown",
   "metadata": {},
   "source": [
    " >* While Loop\n",
    ">* for Loop"
   ]
  },
  {
   "attachments": {},
   "cell_type": "markdown",
   "metadata": {},
   "source": [
    "## The while Statement\n",
    "\n",
    "The while statement in Python supports repeated execution of a statement or block of statements that is controlled by a conditional expression. \n",
    "\n",
    "    count = 0\n",
    "    while x > 0:\n",
    "      x = x / 2            \n",
    "      count += 1\n",
    "  \n",
    "    \n",
    "First, expression, which is known as the loop condition, is evaluated. If the condition is false, the while statement ends. If the loop condition is satisfied, the statement or statements that comprise the loop body are executed. When the loop body finishes executing, the loop condition is evaluated again, to see if another iteration should be performed. This process continues until the loop condition is false, at which point the while statement ends.\n",
    "\n",
    "The loop body should contain code that eventually makes the loop condition false, or the loop will never end unless an exception is raised or the loop body executes a break statement. A loop that is in a function’s body also ends if a return statement executes in the loop body, as the whole function ends in this case."
   ]
  },
  {
   "attachments": {},
   "cell_type": "markdown",
   "metadata": {},
   "source": [
    "### syntax:\n",
    " >* while(condition):\n",
    "      * Statements\n",
    "    "
   ]
  },
  {
   "cell_type": "markdown",
   "metadata": {},
   "source": [
    "1. get the input n from user\n",
    "2. Assign 1 to a variable i\n",
    "3. Print the value in 1\n",
    "4. Increment value of i by 1\n",
    "5. Check if the user input number is reached \n",
    "6. if not print i"
   ]
  },
  {
   "cell_type": "code",
   "execution_count": null,
   "metadata": {},
   "outputs": [],
   "source": [
    "n = int(input('enter number'))"
   ]
  },
  {
   "cell_type": "code",
   "execution_count": 45,
   "metadata": {},
   "outputs": [
    {
     "name": "stdout",
     "output_type": "stream",
     "text": [
      "0\n",
      "0 0\n",
      "0 1\n",
      "0 2\n",
      "0 3\n",
      "0 4\n",
      "1\n",
      "1 0\n",
      "1 1\n",
      "1 2\n",
      "1 3\n",
      "1 4\n",
      "2\n",
      "2 0\n",
      "2 1\n",
      "2 2\n",
      "2 3\n",
      "2 4\n",
      "3\n",
      "3 0\n",
      "3 1\n",
      "3 2\n",
      "3 3\n",
      "3 4\n",
      "4\n",
      "4 0\n",
      "4 1\n",
      "4 2\n",
      "4 3\n",
      "4 4\n"
     ]
    }
   ],
   "source": [
    "n =10\n",
    "i = 0\n",
    "\n",
    "\n",
    "while i<5:\n",
    "    j=0\n",
    "    print(i)\n",
    "    while j<5:\n",
    "        print(i,j)\n",
    "        j = j+1\n",
    "    i=i+1 "
   ]
  },
  {
   "cell_type": "code",
   "execution_count": null,
   "metadata": {},
   "outputs": [],
   "source": [
    "x=20\n",
    "y=10"
   ]
  },
  {
   "cell_type": "code",
   "execution_count": null,
   "metadata": {
    "scrolled": false
   },
   "outputs": [],
   "source": [
    "# Infinite Loop \n",
    "\"\"\"while(x>y):\n",
    "    print(\"x is greater than y \")\n",
    "\"\"\""
   ]
  },
  {
   "cell_type": "code",
   "execution_count": null,
   "metadata": {},
   "outputs": [],
   "source": [
    "x=20\n",
    "y=10"
   ]
  },
  {
   "cell_type": "code",
   "execution_count": 6,
   "metadata": {},
   "outputs": [
    {
     "name": "stdout",
     "output_type": "stream",
     "text": [
      "3\n"
     ]
    },
    {
     "ename": "KeyboardInterrupt",
     "evalue": "",
     "output_type": "error",
     "traceback": [
      "\u001b[0;31m---------------------------------------------------------------------------\u001b[0m",
      "\u001b[0;31mKeyboardInterrupt\u001b[0m                         Traceback (most recent call last)",
      "Cell \u001b[0;32mIn[6], line 3\u001b[0m\n\u001b[1;32m      1\u001b[0m x \u001b[39m=\u001b[39m \u001b[39m3\u001b[39m\n\u001b[1;32m      2\u001b[0m \u001b[39mwhile\u001b[39;00m x\u001b[39m>\u001b[39m\u001b[39m=\u001b[39m\u001b[39m1\u001b[39m:\n\u001b[0;32m----> 3\u001b[0m     \u001b[39mif\u001b[39;00m x \u001b[39m==\u001b[39m \u001b[39m2\u001b[39m:\n\u001b[1;32m      4\u001b[0m         \u001b[39mcontinue\u001b[39;00m\n\u001b[1;32m      5\u001b[0m     \u001b[39mprint\u001b[39m(x)\n",
      "\u001b[0;31mKeyboardInterrupt\u001b[0m: "
     ]
    }
   ],
   "source": [
    "x = 3\n",
    "while x>=1:\n",
    "    if x == 2:\n",
    "        continue\n",
    "    print(x)\n",
    "    x= x - 1\n",
    "\n"
   ]
  },
  {
   "cell_type": "code",
   "execution_count": 7,
   "metadata": {},
   "outputs": [
    {
     "name": "stdout",
     "output_type": "stream",
     "text": [
      "9\n",
      "8\n",
      "7\n",
      "6\n",
      "4\n",
      "3\n",
      "2\n",
      "1\n",
      "0\n"
     ]
    }
   ],
   "source": [
    "x = 10\n",
    "while x>=1:\n",
    "    x= x - 1\n",
    "    if x == 5:\n",
    "        continue\n",
    "    else:\n",
    "        print(x)\n",
    "    \n"
   ]
  },
  {
   "cell_type": "code",
   "execution_count": null,
   "metadata": {
    "scrolled": false
   },
   "outputs": [],
   "source": [
    "\n",
    "while(x>y):\n",
    "    print(\"x is greater than y \")\n",
    "    x=x-2\n",
    "    print(x)"
   ]
  },
  {
   "attachments": {},
   "cell_type": "markdown",
   "metadata": {},
   "source": [
    "### Break:\n",
    "\n",
    "* Terminates the execution of current loop\n",
    "\n",
    "### Continue:\n",
    "\n",
    "* Returns the control to the beginning of the loop."
   ]
  },
  {
   "cell_type": "code",
   "execution_count": 3,
   "metadata": {},
   "outputs": [
    {
     "name": "stdout",
     "output_type": "stream",
     "text": [
      "x is greater than y \n"
     ]
    }
   ],
   "source": [
    "x=20\n",
    "y=10\n",
    "if (x>y):\n",
    "    print(\"x is greater than y \")"
   ]
  },
  {
   "cell_type": "code",
   "execution_count": null,
   "metadata": {},
   "outputs": [],
   "source": [
    "x=20\n",
    "y=10\n",
    "while(x>y):\n",
    "    print(\"x is greater than y \")\n",
    "    break\n"
   ]
  },
  {
   "cell_type": "code",
   "execution_count": null,
   "metadata": {},
   "outputs": [],
   "source": [
    "x=20\n",
    "y=10\n",
    "while(x>y):\n",
    "    print(\"x is greater than y \")\n",
    "    print(\"before break\")\n",
    "    break\n",
    "    print(\"after break\")\n"
   ]
  },
  {
   "attachments": {},
   "cell_type": "markdown",
   "metadata": {},
   "source": [
    "### continue "
   ]
  },
  {
   "cell_type": "code",
   "execution_count": null,
   "metadata": {},
   "outputs": [],
   "source": [
    "x=20\n",
    "y=10\n",
    "while(x>y):\n",
    "    print(\"x is greater than y \")\n",
    "    x=x-2\n",
    "    continue\n",
    "    print(x)"
   ]
  },
  {
   "attachments": {},
   "cell_type": "markdown",
   "metadata": {},
   "source": [
    "## For Loop\n",
    "\n",
    "The for statement in Python supports repeated execution of a statement or block of statements that is controlled by an iterable expression.\n",
    "\n",
    "    for target in iterable:\n",
    "      statement(s)\n",
    "      \n",
    "Note that the in keyword is part of the syntax of the for statement and is functionally unrelated to the in operator used for membership testing.      \n",
    "\n",
    "iterable may be any Python expression suitable as an argument to built-in function iter, which returns an iterator object (explained in detail in the next section). target is normally an identifier that names the control variable of the loop; the for statement successively rebinds this variable to each item of the iterator, in order. The statement or statements that comprise the loop body execute once for each item in iterable (unless the loop ends because an exception is raised or a break or return statement is executed)."
   ]
  },
  {
   "attachments": {},
   "cell_type": "markdown",
   "metadata": {},
   "source": [
    "### syntax\n",
    ">* for i in variable:\n",
    "    * stmnts"
   ]
  },
  {
   "cell_type": "code",
   "execution_count": 8,
   "metadata": {},
   "outputs": [],
   "source": [
    "l=[1,2,3,4,5,6]"
   ]
  },
  {
   "cell_type": "code",
   "execution_count": 48,
   "metadata": {},
   "outputs": [
    {
     "name": "stdout",
     "output_type": "stream",
     "text": [
      "1\n",
      "2\n",
      "3\n",
      "4\n",
      "5\n",
      "6\n",
      "7\n",
      "8\n",
      "9\n",
      "10\n"
     ]
    }
   ],
   "source": [
    "x=1\n",
    "while(x<=10):\n",
    "    print(x)\n",
    "    x=x+1"
   ]
  },
  {
   "cell_type": "code",
   "execution_count": 61,
   "metadata": {},
   "outputs": [
    {
     "name": "stdout",
     "output_type": "stream",
     "text": [
      "1\n",
      "2\n",
      "3\n",
      "4\n",
      "6\n",
      "7\n",
      "8\n",
      "9\n",
      "10\n"
     ]
    }
   ],
   "source": [
    "for x in range(1,11):\n",
    "    if x==5 or x==8:\n",
    "        continue\n",
    "    print(x)"
   ]
  },
  {
   "cell_type": "code",
   "execution_count": 64,
   "metadata": {},
   "outputs": [
    {
     "name": "stdout",
     "output_type": "stream",
     "text": [
      "5\n",
      "10\n",
      "15\n",
      "20\n",
      "25\n",
      "30\n",
      "35\n",
      "40\n",
      "45\n",
      "50\n"
     ]
    }
   ],
   "source": [
    "i = 5\n",
    "for i in range(1,11):\n",
    "    print(i*5)"
   ]
  },
  {
   "cell_type": "code",
   "execution_count": 51,
   "metadata": {},
   "outputs": [
    {
     "name": "stdout",
     "output_type": "stream",
     "text": [
      "[1, 2, 3, 4, 5, 6]\n"
     ]
    }
   ],
   "source": [
    "l=[1,2,3,4,5,6]\n",
    "print(l)"
   ]
  },
  {
   "cell_type": "code",
   "execution_count": null,
   "metadata": {},
   "outputs": [],
   "source": [
    "type(l)"
   ]
  },
  {
   "cell_type": "code",
   "execution_count": 10,
   "metadata": {
    "scrolled": true
   },
   "outputs": [
    {
     "name": "stdout",
     "output_type": "stream",
     "text": [
      "1\n",
      "2\n",
      "3\n",
      "4\n"
     ]
    }
   ],
   "source": [
    "print(l[0])\n",
    "print(l[1])\n",
    "print(l[2])\n",
    "print(l[3])"
   ]
  },
  {
   "cell_type": "code",
   "execution_count": null,
   "metadata": {},
   "outputs": [],
   "source": [
    "print(l)"
   ]
  },
  {
   "cell_type": "code",
   "execution_count": 52,
   "metadata": {
    "scrolled": true
   },
   "outputs": [
    {
     "name": "stdout",
     "output_type": "stream",
     "text": [
      "1\n",
      "2\n",
      "3\n",
      "4\n",
      "5\n",
      "6\n"
     ]
    }
   ],
   "source": [
    "for i in l:\n",
    "    print(i)"
   ]
  },
  {
   "cell_type": "code",
   "execution_count": 53,
   "metadata": {},
   "outputs": [
    {
     "data": {
      "text/plain": [
       "6"
      ]
     },
     "execution_count": 53,
     "metadata": {},
     "output_type": "execute_result"
    }
   ],
   "source": [
    "len(l)"
   ]
  },
  {
   "cell_type": "code",
   "execution_count": 54,
   "metadata": {},
   "outputs": [
    {
     "name": "stdout",
     "output_type": "stream",
     "text": [
      "0 1\n",
      "1 2\n",
      "2 3\n",
      "3 4\n",
      "4 5\n",
      "5 6\n"
     ]
    }
   ],
   "source": [
    "for i in range(0,len(l)):\n",
    "    print(i,l[i])"
   ]
  },
  {
   "cell_type": "markdown",
   "metadata": {},
   "source": [
    "[[1],[2,3],[4,5,6],[7,8,9,10],[11,12,13,14,15],[16,17,18,19,20,21]]"
   ]
  },
  {
   "attachments": {},
   "cell_type": "markdown",
   "metadata": {},
   "source": [
    "### range() function\n",
    "\n",
    "Looping over a sequence of integers is a common task, so Python provides built-in functions range and xrange to generate and return integer sequences. The simplest, most idiomatic way to loop n times in Python is:\n",
    "\n",
    "\n",
    "    for i in range(n):\n",
    "      statement(s)\n",
    "      \n",
    "range( x ) returns a list whose items are consecutive integers from 0 (included) up to x (excluded). range( x,y ) returns a list whose items are consecutive integers from x (included) up to y (excluded). The result is the empty list if x is greater than or equal to y. range( x,y,step ) returns a list of integers from x (included) up to y (excluded), such that the difference between each two adjacent items in the list is step.   "
   ]
  },
  {
   "cell_type": "code",
   "execution_count": 24,
   "metadata": {},
   "outputs": [
    {
     "name": "stdout",
     "output_type": "stream",
     "text": [
      "range(10, 30)\n",
      "[10, 11, 12, 13, 14, 15, 16, 17, 18, 19, 20, 21, 22, 23, 24, 25, 26, 27, 28, 29]\n"
     ]
    }
   ],
   "source": [
    "range(10, 30, 1)\n",
    "print(range(10, 30, 1))\n",
    "print(list(range(10, 30, 1)))\n"
   ]
  },
  {
   "cell_type": "code",
   "execution_count": 33,
   "metadata": {},
   "outputs": [
    {
     "name": "stdout",
     "output_type": "stream",
     "text": [
      "[[1], [2, 3], [4, 5, 6], [7, 8, 9, 10], [11, 12, 13, 14, 15]]\n"
     ]
    }
   ],
   "source": [
    "lst2=[]\n",
    "elem = 1\n",
    "num = int(input(\"Enter the number\"))\n",
    "\n",
    "\n",
    "if (num != 0):\n",
    "    for i in range(0,num):\n",
    "        lst1=[]\n",
    "        for j in range(0,i+1):\n",
    "            lst1.append(elem)\n",
    "            elem+=1\n",
    "        lst2.append(lst1)\n",
    "print(lst2)"
   ]
  },
  {
   "cell_type": "code",
   "execution_count": 1,
   "metadata": {},
   "outputs": [
    {
     "ename": "SyntaxError",
     "evalue": "invalid syntax (3931937505.py, line 1)",
     "output_type": "error",
     "traceback": [
      "\u001b[1;36m  Cell \u001b[1;32mIn[1], line 1\u001b[1;36m\u001b[0m\n\u001b[1;33m    print(list(range(3,,-1)))\u001b[0m\n\u001b[1;37m                       ^\u001b[0m\n\u001b[1;31mSyntaxError\u001b[0m\u001b[1;31m:\u001b[0m invalid syntax\n"
     ]
    }
   ],
   "source": [
    "print(list(range(3,,-1)))"
   ]
  },
  {
   "cell_type": "code",
   "execution_count": 2,
   "metadata": {
    "scrolled": true
   },
   "outputs": [
    {
     "name": "stdout",
     "output_type": "stream",
     "text": [
      "0\n",
      "1\n",
      "2\n"
     ]
    }
   ],
   "source": [
    "for i in range(3):\n",
    "    print (i)"
   ]
  },
  {
   "cell_type": "code",
   "execution_count": 37,
   "metadata": {},
   "outputs": [
    {
     "name": "stdout",
     "output_type": "stream",
     "text": [
      "* \n",
      "* * \n",
      "* * * \n",
      "* * * * \n",
      "* * * * * \n"
     ]
    }
   ],
   "source": [
    "for i in range(5):\n",
    "    for j in range(i+1):\n",
    "        print('*', end = ' ')\n",
    "    print()\n",
    "\n",
    "\n",
    "# i= 0,1,2\n",
    "# j= 0,0,1,0,1,2\n",
    "\n",
    "\n",
    "# O/p:\n",
    "# *,**,***\n",
    "\n"
   ]
  },
  {
   "cell_type": "code",
   "execution_count": null,
   "metadata": {},
   "outputs": [],
   "source": [
    "*\n",
    "**\n",
    "***\n",
    "****\n",
    "*****\n",
    "****\n",
    "***\n",
    "**\n",
    "*"
   ]
  },
  {
   "attachments": {},
   "cell_type": "markdown",
   "metadata": {},
   "source": [
    "### List Comprehensions\n",
    "\n",
    "A common use of a for loop is to inspect each item in a sequence and build a new list by appending the results of an expression computed on some or all of the items inspected. The expression form, called a list comprehension, lets you code this common idiom concisely and directly. Since a list comprehension is an expression (rather than a block of statements), you can use it directly wherever you need an expression (e.g., as an actual argument in a function call, in a return statement, or as a subexpression for some other expression)."
   ]
  },
  {
   "cell_type": "code",
   "execution_count": 41,
   "metadata": {},
   "outputs": [
    {
     "name": "stdout",
     "output_type": "stream",
     "text": [
      "Deepega\n",
      "2\n",
      "Deepega\n"
     ]
    }
   ],
   "source": [
    "str = 'Deepega'\n",
    "print(str)\n",
    "if 'd' in str:\n",
    "    print(1)\n",
    "if 'D' in str.upper():\n",
    "    print(2) \n",
    "print(str)"
   ]
  },
  {
   "cell_type": "code",
   "execution_count": 1,
   "metadata": {},
   "outputs": [],
   "source": [
    "nameList = [\"Harish\",\"Deepega\",\"Aasif\",\"Arun\",\"Ajay\"]"
   ]
  },
  {
   "cell_type": "code",
   "execution_count": 38,
   "metadata": {},
   "outputs": [
    {
     "data": {
      "text/plain": [
       "['Deepega']"
      ]
     },
     "execution_count": 38,
     "metadata": {},
     "output_type": "execute_result"
    }
   ],
   "source": [
    "dNameList=[]\n",
    "for name in nameList:\n",
    "    if 'D' in name.upper():\n",
    "       dNameList.append(name)\n",
    "dNameList\n",
    "       "
   ]
  },
  {
   "cell_type": "code",
   "execution_count": 35,
   "metadata": {},
   "outputs": [
    {
     "name": "stdout",
     "output_type": "stream",
     "text": [
      "['Deepega']\n"
     ]
    }
   ],
   "source": [
    "print(dNameList)"
   ]
  },
  {
   "cell_type": "code",
   "execution_count": 39,
   "metadata": {},
   "outputs": [
    {
     "data": {
      "text/plain": [
       "['Deepega']"
      ]
     },
     "execution_count": 39,
     "metadata": {},
     "output_type": "execute_result"
    }
   ],
   "source": [
    "[name for name in nameList if 'd' in name.lower()]\n",
    "\n",
    "# name for name in nameList if 'd' in name.lower()"
   ]
  },
  {
   "cell_type": "code",
   "execution_count": 40,
   "metadata": {},
   "outputs": [
    {
     "name": "stdout",
     "output_type": "stream",
     "text": [
      "[10, 20, 30]\n"
     ]
    }
   ],
   "source": [
    "list1 = [1,2,3]\n",
    "list2 = []\n",
    "for x in list1:\n",
    "    list2.append(x*10)\n",
    "print(list2)"
   ]
  },
  {
   "cell_type": "code",
   "execution_count": 6,
   "metadata": {},
   "outputs": [
    {
     "name": "stdout",
     "output_type": "stream",
     "text": [
      "[10, 20, 30]\n"
     ]
    }
   ],
   "source": [
    "list2 = [x*10 for x in list1 ]\n",
    "print(list2)\n"
   ]
  },
  {
   "cell_type": "code",
   "execution_count": 44,
   "metadata": {},
   "outputs": [
    {
     "name": "stdout",
     "output_type": "stream",
     "text": [
      "[10, 20, 30]\n"
     ]
    }
   ],
   "source": [
    "print([x*10 for x in list1])"
   ]
  },
  {
   "attachments": {},
   "cell_type": "markdown",
   "metadata": {},
   "source": []
  },
  {
   "attachments": {},
   "cell_type": "markdown",
   "metadata": {},
   "source": []
  },
  {
   "attachments": {},
   "cell_type": "markdown",
   "metadata": {},
   "source": [
    "## Functions\n",
    "\n",
    "A function is a block of organized, reusable code that is used to perform a single, related action. ... Different programming languages name them differently, for example, functions, methods, sub-routines, procedures, etc.\n",
    "\n",
    "\n",
    "## Advantages:\n",
    "\n",
    "- Makes your code more organized and manageable.\n",
    "- Brings code reusability.\n",
    "\n",
    "## Function Syantax:\n",
    "```\n",
    "def <function name>([parameters]):\n",
    "    '''Doc string'''\n",
    "    Logic/statements\n",
    "    ...\n",
    "    ...\n",
    "    return value/print(value)\n",
    "```\n",
    "**def** - marks the start of the function header.\\\n",
    "**function name** - a unique name to idenfity the function, this naming follows the same checklist we learnt in variable naming.\\\n",
    "**parameters/arguments** - used to pass a value to the function while calling. These are optional.\\\n",
    "**Doc String** - a short description about the function. This is optional.\\\n",
    "**Logic/statements** - one or more valid python statements to perform the required task.\\\n",
    "**retrun** - this will return a value from the funxtion. Optional.\\\n",
    "**print** - to display a value from the fucntion. Optional.\n"
   ]
  },
  {
   "cell_type": "markdown",
   "metadata": {},
   "source": [
    "100 lines\n",
    "\n",
    "10 line: add two number, Check whether number is odd/even\n",
    "15 line : add two number\n",
    "70 line: add two nunmbers\n",
    "100 : add two number\n",
    "\n",
    "a+b\n",
    "c+d\n",
    "a+d\n",
    "a+a\n",
    "\n",
    "\n"
   ]
  },
  {
   "cell_type": "code",
   "execution_count": 45,
   "metadata": {},
   "outputs": [
    {
     "name": "stdout",
     "output_type": "stream",
     "text": [
      "apple\n"
     ]
    }
   ],
   "source": [
    "print()"
   ]
  },
  {
   "cell_type": "code",
   "execution_count": 52,
   "metadata": {},
   "outputs": [],
   "source": [
    "# defining a fuction\n",
    "def summ(a,b):\n",
    "    print(a)\n",
    "    print(b)\n",
    "    c=a+b\n",
    "    print(c)\n",
    "    # return(c)"
   ]
  },
  {
   "cell_type": "code",
   "execution_count": 55,
   "metadata": {},
   "outputs": [
    {
     "ename": "TypeError",
     "evalue": "summ() takes 2 positional arguments but 3 were given",
     "output_type": "error",
     "traceback": [
      "\u001b[1;31m---------------------------------------------------------------------------\u001b[0m",
      "\u001b[1;31mTypeError\u001b[0m                                 Traceback (most recent call last)",
      "\u001b[1;32mc:\\Users\\Jeyaprakash\\Documents\\GitHub\\Learning-Sessions\\Python Tutorials\\Module 1 Session 2 - Conditions and Loops.ipynb Cell 83\u001b[0m line \u001b[0;36m1\n\u001b[1;32m----> <a href='vscode-notebook-cell:/c%3A/Users/Jeyaprakash/Documents/GitHub/Learning-Sessions/Python%20Tutorials/Module%201%20Session%202%20-%20Conditions%20and%20Loops.ipynb#Y143sZmlsZQ%3D%3D?line=0'>1</a>\u001b[0m summ(\u001b[39m1\u001b[39;49m,\u001b[39m2\u001b[39;49m,\u001b[39m3\u001b[39;49m)\n\u001b[0;32m      <a href='vscode-notebook-cell:/c%3A/Users/Jeyaprakash/Documents/GitHub/Learning-Sessions/Python%20Tutorials/Module%201%20Session%202%20-%20Conditions%20and%20Loops.ipynb#Y143sZmlsZQ%3D%3D?line=1'>2</a>\u001b[0m \u001b[39m# result = summ(1,2)\u001b[39;00m\n\u001b[0;32m      <a href='vscode-notebook-cell:/c%3A/Users/Jeyaprakash/Documents/GitHub/Learning-Sessions/Python%20Tutorials/Module%201%20Session%202%20-%20Conditions%20and%20Loops.ipynb#Y143sZmlsZQ%3D%3D?line=2'>3</a>\u001b[0m \u001b[39m# print(result)\u001b[39;00m\n\u001b[0;32m      <a href='vscode-notebook-cell:/c%3A/Users/Jeyaprakash/Documents/GitHub/Learning-Sessions/Python%20Tutorials/Module%201%20Session%202%20-%20Conditions%20and%20Loops.ipynb#Y143sZmlsZQ%3D%3D?line=3'>4</a>\u001b[0m \n\u001b[0;32m      <a href='vscode-notebook-cell:/c%3A/Users/Jeyaprakash/Documents/GitHub/Learning-Sessions/Python%20Tutorials/Module%201%20Session%202%20-%20Conditions%20and%20Loops.ipynb#Y143sZmlsZQ%3D%3D?line=4'>5</a>\u001b[0m \u001b[39m# list.append(a,a)\u001b[39;00m\n",
      "\u001b[1;31mTypeError\u001b[0m: summ() takes 2 positional arguments but 3 were given"
     ]
    }
   ],
   "source": [
    "summ(1,2)\n",
    "# result = summ(1,2)\n",
    "# print(result)\n",
    "\n",
    "# list.append(a,a)"
   ]
  },
  {
   "cell_type": "code",
   "execution_count": 73,
   "metadata": {},
   "outputs": [
    {
     "name": "stdout",
     "output_type": "stream",
     "text": [
      "10\n"
     ]
    }
   ],
   "source": [
    "# Calling a function\n",
    "abc = summ()\n",
    "print(abc)"
   ]
  },
  {
   "cell_type": "code",
   "execution_count": null,
   "metadata": {},
   "outputs": [],
   "source": [
    "result=summ(10,20)\n",
    "print(result)"
   ]
  },
  {
   "attachments": {},
   "cell_type": "markdown",
   "metadata": {},
   "source": [
    "##### function Arguments\n",
    "1. Required Arguments  \n",
    "2. Default Arguments \n",
    "3. Variable length Arguments \n",
    "4. Keyword Variable length Arguments Arguments "
   ]
  },
  {
   "cell_type": "code",
   "execution_count": null,
   "metadata": {},
   "outputs": [],
   "source": [
    "# Required Arguments \n",
    "summ(10,20)"
   ]
  },
  {
   "cell_type": "code",
   "execution_count": 69,
   "metadata": {},
   "outputs": [],
   "source": [
    "# defining a fuction\n",
    "def summ(a,b):\n",
    "    c=a+b\n",
    "    # print(c)\n",
    "    return(c)"
   ]
  },
  {
   "cell_type": "code",
   "execution_count": null,
   "metadata": {},
   "outputs": [],
   "source": [
    "# # keyword Arguments\n",
    "# summ(b=10,a=20)"
   ]
  },
  {
   "cell_type": "code",
   "execution_count": 61,
   "metadata": {},
   "outputs": [],
   "source": [
    "# Default Arguments\n",
    "def printinfo( name,age = 35 ):\n",
    "   #\"This prints a passed info into this function\"\n",
    "    print (\"Name: \", name)\n",
    "    print (\"Age \", age)\n",
    "    return;"
   ]
  },
  {
   "cell_type": "code",
   "execution_count": 62,
   "metadata": {},
   "outputs": [
    {
     "name": "stdout",
     "output_type": "stream",
     "text": [
      "Name:  Data Science\n",
      "Age  35\n"
     ]
    }
   ],
   "source": [
    "printinfo(\"Data Science\")\n"
   ]
  },
  {
   "cell_type": "code",
   "execution_count": 63,
   "metadata": {},
   "outputs": [
    {
     "name": "stdout",
     "output_type": "stream",
     "text": [
      "Name:  Data Science\n",
      "Age  50\n"
     ]
    }
   ],
   "source": [
    "printinfo(\"Data Science\",50)\n"
   ]
  },
  {
   "cell_type": "code",
   "execution_count": 64,
   "metadata": {},
   "outputs": [
    {
     "name": "stdout",
     "output_type": "stream",
     "text": [
      "<class 'tuple'>\n",
      "Hello\n",
      "Welcome\n",
      "to\n",
      "GeeksforGeeks\n"
     ]
    }
   ],
   "source": [
    "def myFun(*argv):\n",
    "\tprint(type(argv))\n",
    "\tfor arg in argv:\n",
    "\t\tprint(arg)\n",
    "\n",
    "\n",
    "myFun('Hello', 'Welcome', 'to', 'GeeksforGeeks')\n"
   ]
  },
  {
   "cell_type": "code",
   "execution_count": null,
   "metadata": {},
   "outputs": [],
   "source": [
    "printinfo(\"Data Science\") # Age is assumed to  be a default Argument  "
   ]
  },
  {
   "cell_type": "code",
   "execution_count": 79,
   "metadata": {},
   "outputs": [],
   "source": [
    "# Variable Length Arguments\n",
    "def varlen( arg1,arg2, *var ):\n",
    "      print (\"arg1 is:\",arg1)\n",
    "      print (\"arg2 is:\",arg2)\n",
    "      \n",
    "      print(\"var is:\",var)\n",
    "      \n",
    "      for v in var:\n",
    "            print(\"Var:\",v)\n",
    "      return  None\n",
    "   "
   ]
  },
  {
   "cell_type": "code",
   "execution_count": 81,
   "metadata": {},
   "outputs": [
    {
     "name": "stdout",
     "output_type": "stream",
     "text": [
      "arg1 is: 1\n",
      "arg2 is: 2\n",
      "var is: (3, 4, 5, 10)\n",
      "Var: 3\n",
      "Var: 4\n",
      "Var: 5\n",
      "Var: 10\n",
      "arg1 is: 1\n",
      "arg2 is: 2\n",
      "var is: ()\n"
     ]
    }
   ],
   "source": [
    "varlen(1,2,3,4,5,10)\n",
    "varlen(1,2)"
   ]
  },
  {
   "attachments": {},
   "cell_type": "markdown",
   "metadata": {},
   "source": [
    "##### Keyword Arguments - kwarg"
   ]
  },
  {
   "cell_type": "markdown",
   "metadata": {},
   "source": [
    "Var len Arguments\n",
    "1. Normal / Non-Keyword var en args: *\n",
    "2. Keyword var en args: **"
   ]
  },
  {
   "cell_type": "code",
   "execution_count": 76,
   "metadata": {},
   "outputs": [],
   "source": [
    "def func(var, **kwarg):\n",
    "    print (var)\n",
    "    print (kwarg)\n",
    "    print(kwarg.keys())\n",
    "    print (type(kwarg))\n"
   ]
  },
  {
   "cell_type": "code",
   "execution_count": null,
   "metadata": {},
   "outputs": [],
   "source": [
    "print(sep=\" \",end='')"
   ]
  },
  {
   "cell_type": "code",
   "execution_count": 85,
   "metadata": {},
   "outputs": [
    {
     "name": "stdout",
     "output_type": "stream",
     "text": [
      "var value\n",
      "{'a': 1, 'b': 2}\n",
      "dict_keys(['a', 'b'])\n",
      "<class 'dict'>\n",
      "var v\n",
      "{}\n",
      "dict_keys([])\n",
      "<class 'dict'>\n"
     ]
    }
   ],
   "source": [
    "# func()\n",
    "func('var value', a=1,b=2)\n",
    "func('var v')"
   ]
  },
  {
   "attachments": {},
   "cell_type": "markdown",
   "metadata": {},
   "source": [
    "#### Lambda Function(Anonymous)\n",
    "Lambda functions are used when you need a function for a short period of time. This is commonly used when you want to pass a function as an argument to higher-order functions, that is, functions that take other functions as their arguments.\n",
    "* Syntax: lambda [arg1 [,arg2,.....argn]]:expression"
   ]
  },
  {
   "cell_type": "code",
   "execution_count": 90,
   "metadata": {},
   "outputs": [
    {
     "data": {
      "text/plain": [
       "30"
      ]
     },
     "execution_count": 90,
     "metadata": {},
     "output_type": "execute_result"
    }
   ],
   "source": [
    "def add(x, y):\n",
    "    return x + y\n",
    "\n",
    "add(10,20)"
   ]
  },
  {
   "cell_type": "code",
   "execution_count": 91,
   "metadata": {},
   "outputs": [],
   "source": [
    "def add_add(x,y):\n",
    "    z= add(x,y)\n",
    "    return z"
   ]
  },
  {
   "cell_type": "code",
   "execution_count": 92,
   "metadata": {},
   "outputs": [
    {
     "data": {
      "text/plain": [
       "3"
      ]
     },
     "execution_count": 92,
     "metadata": {},
     "output_type": "execute_result"
    }
   ],
   "source": [
    "add_add(1,2)"
   ]
  },
  {
   "cell_type": "code",
   "execution_count": 87,
   "metadata": {},
   "outputs": [
    {
     "name": "stdout",
     "output_type": "stream",
     "text": [
      "30\n"
     ]
    }
   ],
   "source": [
    "summm = (lambda x, y: x + y)(10, 20)\n",
    "# summ = 10+20\n",
    "# summ = add(10,20)\n",
    "print(summm)"
   ]
  },
  {
   "attachments": {},
   "cell_type": "markdown",
   "metadata": {},
   "source": [
    "#### Recursive Function\n",
    "* Function Calling a function itself"
   ]
  },
  {
   "cell_type": "code",
   "execution_count": 98,
   "metadata": {},
   "outputs": [],
   "source": [
    "# Normal function to calculate factorial\n",
    "#n=1\n",
    "def fact(n):\n",
    "    if(n<0):\n",
    "        return(\"enter valid n value\")\n",
    "    if(n==1 or n==0 ):    \n",
    "        return 1\n",
    "    else:\n",
    "        for i in range(1,n):     \n",
    "            n=n*i\n",
    "    return(n)\n",
    "\n",
    "n=4,4,8,24\n",
    "i=1,2,3\n",
    "\n",
    "    # n = 4,8,24"
   ]
  },
  {
   "cell_type": "code",
   "execution_count": 99,
   "metadata": {},
   "outputs": [
    {
     "data": {
      "text/plain": [
       "24"
      ]
     },
     "execution_count": 99,
     "metadata": {},
     "output_type": "execute_result"
    }
   ],
   "source": [
    "fact(4)"
   ]
  },
  {
   "cell_type": "code",
   "execution_count": 93,
   "metadata": {},
   "outputs": [],
   "source": [
    "# Recursive function to calculate Factorial ofthe number\n",
    "def fn(n):\n",
    "    if(n==1 & n==0):\n",
    "        return 1\n",
    "    \n",
    "    else:\n",
    "        fact=n*fn(n-1)\n",
    "           \n",
    "    return(fact)\n",
    "\n",
    "n=3\n",
    "fact = 3*fn(2)\n",
    "fact = 3*2*fn(n-1)\n",
    "fact = 3*2*fn(1)\n",
    "fact = 3*2*1\n",
    "\n",
    "n=4\n",
    "fact=4*fn(4-1)\n",
    "fact=4*fn(3)\n",
    "fact=4*3*fn(3-1)\n",
    "fact=4*3*fn(2)\n",
    "fact=4*3*2*fn(2-1)\n",
    "fact=4*3*2*fn(1)\n",
    "fact=4*3*2*1\n",
    "\n"
   ]
  },
  {
   "cell_type": "code",
   "execution_count": 94,
   "metadata": {},
   "outputs": [
    {
     "data": {
      "text/plain": [
       "24"
      ]
     },
     "execution_count": 94,
     "metadata": {},
     "output_type": "execute_result"
    }
   ],
   "source": [
    "fn(4)"
   ]
  },
  {
   "attachments": {},
   "cell_type": "markdown",
   "metadata": {},
   "source": [
    "# Scope of variables\n",
    "* Global Variable\n",
    "* Local Variable"
   ]
  },
  {
   "cell_type": "code",
   "execution_count": 105,
   "metadata": {},
   "outputs": [],
   "source": [
    "# Local Variable and Global Variable\n",
    "#print(global_var)\n",
    "\n",
    "g = 100 # Global Variable\n",
    "\n",
    "def Function():\n",
    "    a=10  # Local Varaible\n",
    "    print(\"Local Varible\",a)\n",
    "    print(\"Gloabal Varible\",g)\n"
   ]
  },
  {
   "cell_type": "code",
   "execution_count": 107,
   "metadata": {},
   "outputs": [
    {
     "ename": "NameError",
     "evalue": "name 'a' is not defined",
     "output_type": "error",
     "traceback": [
      "\u001b[1;31m---------------------------------------------------------------------------\u001b[0m",
      "\u001b[1;31mNameError\u001b[0m                                 Traceback (most recent call last)",
      "\u001b[1;32mc:\\Users\\Jeyaprakash\\Documents\\GitHub\\Learning-Sessions\\Python Tutorials\\Module 1 Session 2 - Conditions and Loops.ipynb Cell 114\u001b[0m line \u001b[0;36m1\n\u001b[1;32m----> <a href='vscode-notebook-cell:/c%3A/Users/Jeyaprakash/Documents/GitHub/Learning-Sessions/Python%20Tutorials/Module%201%20Session%202%20-%20Conditions%20and%20Loops.ipynb#Y312sZmlsZQ%3D%3D?line=0'>1</a>\u001b[0m a\n",
      "\u001b[1;31mNameError\u001b[0m: name 'a' is not defined"
     ]
    }
   ],
   "source": [
    "a"
   ]
  },
  {
   "cell_type": "code",
   "execution_count": 95,
   "metadata": {},
   "outputs": [],
   "source": [
    "a_var = 5"
   ]
  },
  {
   "cell_type": "code",
   "execution_count": 104,
   "metadata": {},
   "outputs": [
    {
     "ename": "NameError",
     "evalue": "name 'loc_var' is not defined",
     "output_type": "error",
     "traceback": [
      "\u001b[1;31m---------------------------------------------------------------------------\u001b[0m",
      "\u001b[1;31mNameError\u001b[0m                                 Traceback (most recent call last)",
      "\u001b[1;32mc:\\Users\\Jeyaprakash\\Documents\\GitHub\\Learning-Sessions\\Python Tutorials\\Module 1 Session 2 - Conditions and Loops.ipynb Cell 116\u001b[0m line \u001b[0;36m1\n\u001b[1;32m----> <a href='vscode-notebook-cell:/c%3A/Users/Jeyaprakash/Documents/GitHub/Learning-Sessions/Python%20Tutorials/Module%201%20Session%202%20-%20Conditions%20and%20Loops.ipynb#Y311sZmlsZQ%3D%3D?line=0'>1</a>\u001b[0m loc_var\n",
      "\u001b[1;31mNameError\u001b[0m: name 'loc_var' is not defined"
     ]
    }
   ],
   "source": [
    "loc_var"
   ]
  },
  {
   "cell_type": "code",
   "execution_count": 104,
   "metadata": {},
   "outputs": [
    {
     "data": {
      "text/plain": [
       "100"
      ]
     },
     "execution_count": 104,
     "metadata": {},
     "output_type": "execute_result"
    }
   ],
   "source": [
    "global_var"
   ]
  },
  {
   "cell_type": "code",
   "execution_count": 105,
   "metadata": {},
   "outputs": [
    {
     "name": "stdout",
     "output_type": "stream",
     "text": [
      "Local Varible 10\n",
      "Gloabal Varible 100\n"
     ]
    }
   ],
   "source": [
    "Function(10)"
   ]
  },
  {
   "cell_type": "code",
   "execution_count": null,
   "metadata": {},
   "outputs": [],
   "source": [
    "\n",
    "print(global_var)"
   ]
  },
  {
   "cell_type": "code",
   "execution_count": null,
   "metadata": {},
   "outputs": [],
   "source": [
    "print(loc_var) # Scope of this varaible is within  fuction only"
   ]
  },
  {
   "cell_type": "code",
   "execution_count": null,
   "metadata": {},
   "outputs": [],
   "source": [
    "print(global_var) # Scope of this is  outside the function also"
   ]
  },
  {
   "cell_type": "code",
   "execution_count": 115,
   "metadata": {},
   "outputs": [],
   "source": [
    "g=10\n",
    "def function():\n",
    "    global l # Make a local variable as gloabl\n",
    "    l=10\n",
    "    ll=10\n",
    "    print(l)\n"
   ]
  },
  {
   "cell_type": "code",
   "execution_count": 112,
   "metadata": {},
   "outputs": [
    {
     "name": "stdout",
     "output_type": "stream",
     "text": [
      "10\n"
     ]
    }
   ],
   "source": [
    "function()"
   ]
  },
  {
   "cell_type": "code",
   "execution_count": 114,
   "metadata": {},
   "outputs": [
    {
     "ename": "NameError",
     "evalue": "name 'll' is not defined",
     "output_type": "error",
     "traceback": [
      "\u001b[1;31m---------------------------------------------------------------------------\u001b[0m",
      "\u001b[1;31mNameError\u001b[0m                                 Traceback (most recent call last)",
      "\u001b[1;32mc:\\Users\\Jeyaprakash\\Documents\\GitHub\\Learning-Sessions\\Python Tutorials\\Module 1 Session 2 - Conditions and Loops.ipynb Cell 124\u001b[0m line \u001b[0;36m1\n\u001b[1;32m----> <a href='vscode-notebook-cell:/c%3A/Users/Jeyaprakash/Documents/GitHub/Learning-Sessions/Python%20Tutorials/Module%201%20Session%202%20-%20Conditions%20and%20Loops.ipynb#Y222sZmlsZQ%3D%3D?line=0'>1</a>\u001b[0m \u001b[39mprint\u001b[39m(ll)\n",
      "\u001b[1;31mNameError\u001b[0m: name 'll' is not defined"
     ]
    }
   ],
   "source": [
    "print(ll)"
   ]
  },
  {
   "attachments": {},
   "cell_type": "markdown",
   "metadata": {},
   "source": []
  },
  {
   "attachments": {},
   "cell_type": "markdown",
   "metadata": {},
   "source": [
    "## Math Functions"
   ]
  },
  {
   "cell_type": "code",
   "execution_count": 122,
   "metadata": {},
   "outputs": [],
   "source": [
    "import math as m\n",
    "# u can also import like that import import math as m.\n",
    "# import pandas\n"
   ]
  },
  {
   "cell_type": "code",
   "execution_count": 118,
   "metadata": {},
   "outputs": [],
   "source": [
    "# !pip install pandas\n",
    "# %pip install pandas"
   ]
  },
  {
   "cell_type": "code",
   "execution_count": null,
   "metadata": {},
   "outputs": [],
   "source": [
    "# print() - default python\n",
    "# sqrt() - deafult in math - Comes presintalled along with python\n",
    "# head() - deafult func pandas - Does not come presintalled along with python"
   ]
  },
  {
   "cell_type": "code",
   "execution_count": 123,
   "metadata": {},
   "outputs": [
    {
     "data": {
      "text/plain": [
       "5.0"
      ]
     },
     "execution_count": 123,
     "metadata": {},
     "output_type": "execute_result"
    }
   ],
   "source": [
    "x = m.sqrt(25)\n",
    "x"
   ]
  },
  {
   "cell_type": "code",
   "execution_count": 124,
   "metadata": {},
   "outputs": [
    {
     "data": {
      "text/plain": [
       "2"
      ]
     },
     "execution_count": 124,
     "metadata": {},
     "output_type": "execute_result"
    }
   ],
   "source": [
    "y = m.floor(2.4) # round off  the value in least integer\n",
    "y "
   ]
  },
  {
   "cell_type": "code",
   "execution_count": 125,
   "metadata": {},
   "outputs": [
    {
     "data": {
      "text/plain": [
       "3"
      ]
     },
     "execution_count": 125,
     "metadata": {},
     "output_type": "execute_result"
    }
   ],
   "source": [
    "z = m.ceil(2.4)# round off the value in highest integer\n",
    "z"
   ]
  },
  {
   "cell_type": "code",
   "execution_count": 127,
   "metadata": {},
   "outputs": [
    {
     "data": {
      "text/plain": [
       "27.0"
      ]
     },
     "execution_count": 127,
     "metadata": {},
     "output_type": "execute_result"
    }
   ],
   "source": [
    "a = m.pow(3,3) # power function here 2 is power of 3\n",
    "a"
   ]
  },
  {
   "cell_type": "code",
   "execution_count": 128,
   "metadata": {},
   "outputs": [
    {
     "name": "stdout",
     "output_type": "stream",
     "text": [
      "3.141592653589793\n"
     ]
    }
   ],
   "source": [
    "print(m.pi) # constant pi value"
   ]
  },
  {
   "cell_type": "code",
   "execution_count": 129,
   "metadata": {},
   "outputs": [
    {
     "name": "stdout",
     "output_type": "stream",
     "text": [
      "2.718281828459045\n"
     ]
    }
   ],
   "source": [
    "print(m.e)"
   ]
  },
  {
   "cell_type": "code",
   "execution_count": 130,
   "metadata": {},
   "outputs": [
    {
     "name": "stdout",
     "output_type": "stream",
     "text": [
      "6.4\n"
     ]
    }
   ],
   "source": [
    "print(m.fabs(-6.4)) # absolute value of the float"
   ]
  },
  {
   "cell_type": "code",
   "execution_count": 131,
   "metadata": {},
   "outputs": [
    {
     "name": "stdout",
     "output_type": "stream",
     "text": [
      "120\n"
     ]
    }
   ],
   "source": [
    "print(m.factorial(5)) "
   ]
  },
  {
   "cell_type": "code",
   "execution_count": 133,
   "metadata": {},
   "outputs": [
    {
     "name": "stdout",
     "output_type": "stream",
     "text": [
      "1.0\n"
     ]
    }
   ],
   "source": [
    "print(m.fmod(4,3)) # x % y "
   ]
  },
  {
   "cell_type": "code",
   "execution_count": 143,
   "metadata": {},
   "outputs": [
    {
     "name": "stdout",
     "output_type": "stream",
     "text": [
      "8\n"
     ]
    }
   ],
   "source": [
    "# print(m.gcd(3,6))\n",
    "print(m.lcm(4,8))"
   ]
  },
  {
   "attachments": {},
   "cell_type": "markdown",
   "metadata": {},
   "source": []
  },
  {
   "attachments": {},
   "cell_type": "markdown",
   "metadata": {},
   "source": []
  },
  {
   "attachments": {},
   "cell_type": "markdown",
   "metadata": {},
   "source": [
    "## Some Fun Stuff"
   ]
  },
  {
   "attachments": {},
   "cell_type": "markdown",
   "metadata": {},
   "source": [
    "##### Treasure hunt game example"
   ]
  },
  {
   "attachments": {},
   "cell_type": "markdown",
   "metadata": {},
   "source": [
    "##### Tresure Hunt\n",
    "\n",
    "X -- is my treasure \n",
    "1. If X index is found -- print he is the winner \n",
    "2. if the guess is index of E - He is dead \n",
    "3. if he guess other index(except E and X) # select other index \n",
    "\n"
   ]
  },
  {
   "cell_type": "code",
   "execution_count": null,
   "metadata": {},
   "outputs": [],
   "source": [
    "guess=int(input(\"Enter the number:::::\"))\n",
    "game_zone = ['','','','X','','','','E','','','','','','']\n",
    "\n",
    "success='X'\n",
    "failure='E'\n",
    "\n",
    "while(guess >= 0):\n",
    "    if(guess <= len(game_zone)-1):\n",
    "        if (guess == game_zone.index(success)):\n",
    "            print(\"Congrats you are the winner\")\n",
    "            break\n",
    "        elif(guess == game_zone.index(failure)):\n",
    "            print(\"Sorry you lose!!! Better luck next time\")\n",
    "            break\n",
    "        elif(guess < game_zone.index(success)):\n",
    "            print(\"Good try again. One clue is move towards right to win the game\")\n",
    "            break\n",
    "        elif((guess > game_zone.index(success))):\n",
    "            print(\"Good try again. One clue is move towards left to win the game\")\n",
    "            break\n",
    "    else:\n",
    "        print(\"Better try from {f} to {l}\".format(f=0,l=len(game_zone)-1))\n",
    "        break\n",
    "             "
   ]
  },
  {
   "attachments": {},
   "cell_type": "markdown",
   "metadata": {},
   "source": [
    "##### Wordcount\n",
    "\n",
    "Given a sentence, find how many times each word occured\n",
    "\n",
    "1. Convert everything to lowercase\n",
    "1. Remove extra character (.)\n",
    "1. Chunk into individual words\n",
    "1. Read word by word and find the count, and store\n",
    "1. Print"
   ]
  },
  {
   "cell_type": "code",
   "execution_count": null,
   "metadata": {},
   "outputs": [],
   "source": [
    "sentence = \"\"\"Hello everybody I am learning Data Science. \n",
    "    I am learning about how to crunch large amount of data.\n",
    "    This helps us understand the past and predict the future\"\"\"\n",
    "\n",
    "# {'hello':1, 'data':2, 'i':2,.....}"
   ]
  },
  {
   "cell_type": "code",
   "execution_count": null,
   "metadata": {},
   "outputs": [],
   "source": [
    "sentence = \"\"\"Hello everybody I am learning Data Science. \n",
    "    I am learning about how to crunch large amount of data.\n",
    "    This helps us understand the past and predict the future\"\"\"\n",
    "\n",
    "sentence = sentence.lower()\n",
    "sentence = sentence.replace('.','')\n",
    "sentence = sentence.replace('\\n','')\n",
    "sentence_list = sentence.split(' ')\n",
    "sentence_set = set(sentence_list)\n",
    "\n",
    "word_count = dict()\n",
    "\n",
    "for word in sentence_set:\n",
    "    if word == '':\n",
    "        continue\n",
    "    word_count[word] = sentence_list.count(word)\n",
    "word_count"
   ]
  },
  {
   "attachments": {},
   "cell_type": "markdown",
   "metadata": {},
   "source": [
    "##### Count Elements in a List without using inbuilt function\n",
    "\n",
    "Given a list of integers, and a number num, find how many times num is present in integers"
   ]
  },
  {
   "cell_type": "code",
   "execution_count": null,
   "metadata": {},
   "outputs": [],
   "source": [
    "lst = [3,4,6,5,7,5,4,5,6,7,5,4]\n",
    "\n",
    "num = int(input('Enter number to be searched: '))  \n",
    "\n",
    "counter = 0\n",
    "for item in lst:\n",
    "    if num == item:\n",
    "        counter += 1\n",
    "print (\"number of times number\",counter)"
   ]
  },
  {
   "cell_type": "code",
   "execution_count": 144,
   "metadata": {},
   "outputs": [],
   "source": [
    "l1 = [1,2,3]\n",
    "\n",
    "l2 = l1\n"
   ]
  },
  {
   "cell_type": "code",
   "execution_count": 146,
   "metadata": {},
   "outputs": [
    {
     "name": "stdout",
     "output_type": "stream",
     "text": [
      "1565460367808\n",
      "1565460367808\n"
     ]
    }
   ],
   "source": [
    "print(id(l1))\n",
    "print(id(l2))"
   ]
  },
  {
   "cell_type": "code",
   "execution_count": 147,
   "metadata": {},
   "outputs": [
    {
     "name": "stdout",
     "output_type": "stream",
     "text": [
      "[1, 2, 3]\n",
      "[1, 2, 3]\n",
      "After change\n",
      "1565460367808 [1, 'a', 3]\n",
      "1565460367808 [1, 'a', 3]\n"
     ]
    }
   ],
   "source": [
    "print(l1)\n",
    "print(l2)\n",
    "l2[1]='a'\n",
    "print('After change')\n",
    "print(id(l1),l1)\n",
    "print(id(l2),l2)"
   ]
  },
  {
   "cell_type": "code",
   "execution_count": 150,
   "metadata": {},
   "outputs": [],
   "source": [
    "l1 = [1,2,3]"
   ]
  },
  {
   "cell_type": "code",
   "execution_count": 151,
   "metadata": {},
   "outputs": [],
   "source": [
    "import copy\n",
    "l3 = copy.copy(l1)"
   ]
  },
  {
   "cell_type": "code",
   "execution_count": 152,
   "metadata": {},
   "outputs": [
    {
     "name": "stdout",
     "output_type": "stream",
     "text": [
      "[1, 2, 3]\n",
      "[1, 2, 3]\n",
      "After change\n",
      "1565461220736 [1, 2, 3]\n",
      "1565461032192 [1, 'a', 3]\n"
     ]
    }
   ],
   "source": [
    "print(l1)\n",
    "print(l3)\n",
    "l3[1]='a'\n",
    "print('After change')\n",
    "print(id(l1),l1)\n",
    "print(id(l3),l3)"
   ]
  },
  {
   "cell_type": "code",
   "execution_count": 163,
   "metadata": {},
   "outputs": [],
   "source": [
    "l4 = [[1,2,3],[4,5,6]]"
   ]
  },
  {
   "cell_type": "code",
   "execution_count": 166,
   "metadata": {},
   "outputs": [
    {
     "data": {
      "text/plain": [
       "[[1, 2, 3], [4, 5, 6]]"
      ]
     },
     "execution_count": 166,
     "metadata": {},
     "output_type": "execute_result"
    }
   ],
   "source": [
    "import copy\n",
    "l5 = copy.deepcopy(l4)\n",
    "l5"
   ]
  },
  {
   "cell_type": "code",
   "execution_count": 168,
   "metadata": {},
   "outputs": [
    {
     "name": "stdout",
     "output_type": "stream",
     "text": [
      "1565460864512\n",
      "1565461155904\n",
      "1565461164800\n",
      "1565461165440\n",
      "1565461152128\n",
      "1565461167872\n"
     ]
    }
   ],
   "source": [
    "print(id(l4))\n",
    "print(id(l5))\n",
    "print(id(l4[1]))\n",
    "print(id(l5[1]))\n",
    "print(id(l4[0]))\n",
    "print(id(l5[0]))"
   ]
  },
  {
   "cell_type": "code",
   "execution_count": 158,
   "metadata": {},
   "outputs": [
    {
     "name": "stdout",
     "output_type": "stream",
     "text": [
      "[[1, 2, 3], [4, 5, 6]]\n",
      "[[1, 2, 3], [4, 5, 6]]\n",
      "After change\n",
      "1565461149824 [[1, 2, 3], [4, 5, 6]]\n",
      "1565461196864 [[1, 2, 3], ['*', 5, 6]]\n"
     ]
    }
   ],
   "source": [
    "print(l4)\n",
    "print(l5)\n",
    "l5[1][0]='*'\n",
    "print('After change')\n",
    "print(id(l4),l4)\n",
    "print(id(l5),l5)"
   ]
  }
 ],
 "metadata": {
  "kernelspec": {
   "display_name": "Python 3 (ipykernel)",
   "language": "python",
   "name": "python3"
  },
  "language_info": {
   "codemirror_mode": {
    "name": "ipython",
    "version": 3
   },
   "file_extension": ".py",
   "mimetype": "text/x-python",
   "name": "python",
   "nbconvert_exporter": "python",
   "pygments_lexer": "ipython3",
   "version": "3.11.5"
  }
 },
 "nbformat": 4,
 "nbformat_minor": 2
}
