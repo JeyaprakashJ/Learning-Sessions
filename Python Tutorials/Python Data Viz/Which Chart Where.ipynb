{
 "cells": [
  {
   "cell_type": "code",
   "execution_count": null,
   "metadata": {},
   "outputs": [],
   "source": [
    "Bar / Column\n",
    "Line\n",
    "Histograms \n",
    "Scatter Plots\n",
    "\n",
    "\n",
    "\n",
    "\n",
    "Time Series Data:\n",
    "\n",
    "8am 25\n",
    "9am 25\n"
   ]
  }
 ],
 "metadata": {
  "language_info": {
   "name": "python"
  },
  "orig_nbformat": 4
 },
 "nbformat": 4,
 "nbformat_minor": 2
}
