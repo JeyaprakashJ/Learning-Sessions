{
 "cells": [
  {
   "cell_type": "markdown",
   "metadata": {},
   "source": [
    "## Agenda\n",
    "*  Functions as Arguments\n",
    "*  List Comprehension\n",
    "*  File Handling\n",
    "*  Class and Objects\n",
    "\n",
    "\n"
   ]
  },
  {
   "cell_type": "markdown",
   "metadata": {},
   "source": [
    "## Functions as Arguments"
   ]
  },
  {
   "cell_type": "markdown",
   "metadata": {},
   "source": [
    "In Python, functions are first-class objects, which means that they can be passed as arguments to other functions. This can be useful for a variety of purposes, such as:\n",
    "\n",
    "Simplifying code by avoiding duplicate code.\n",
    "Encapsulating complex logic into a single function that can be reused.\n",
    "Allowing for more flexibility and customization.\n",
    "To pass a function as an argument to another function, you simply need to specify the function name as the argument value. For example, the following code defines a function called upper() that converts a string to uppercase:"
   ]
  },
  {
   "cell_type": "code",
   "execution_count": 91,
   "metadata": {},
   "outputs": [],
   "source": [
    "def upper2(text):\n",
    "  return text.upper()\n"
   ]
  },
  {
   "cell_type": "markdown",
   "metadata": {},
   "source": [
    "The following code defines another function called process_text() that takes a function as an argument and applies it to a string:"
   ]
  },
  {
   "cell_type": "code",
   "execution_count": 100,
   "metadata": {},
   "outputs": [],
   "source": [
    "def upper3(text):\n",
    "    return text.capitalize()\n"
   ]
  },
  {
   "cell_type": "code",
   "execution_count": 106,
   "metadata": {},
   "outputs": [],
   "source": [
    "def process_text(func, text):\n",
    "  print(type(func),type(text))\n",
    "  # tempText = func(text)\n",
    "  return func(text)\n"
   ]
  },
  {
   "cell_type": "markdown",
   "metadata": {},
   "source": [
    "The process_text() function can be used to apply any function to a string. For example, the following code uses the process_text() function to convert a string to uppercase:"
   ]
  },
  {
   "cell_type": "code",
   "execution_count": 107,
   "metadata": {},
   "outputs": [
    {
     "name": "stdout",
     "output_type": "stream",
     "text": [
      "<class 'function'> <class 'str'>\n",
      "This is a string.\n",
      "this is a string.\n"
     ]
    }
   ],
   "source": [
    "text = \"this is a string.\"\n",
    "\n",
    "upper_text = process_text(upper3, text)\n",
    "# upper_text = upper3(text)\n",
    "\n",
    "print(upper_text)\n",
    "print(text)\n"
   ]
  },
  {
   "cell_type": "code",
   "execution_count": null,
   "metadata": {},
   "outputs": [],
   "source": []
  },
  {
   "cell_type": "code",
   "execution_count": 103,
   "metadata": {},
   "outputs": [],
   "source": [
    "def dataPreprocesser(func,df1):\n",
    "    return a,b\n"
   ]
  },
  {
   "cell_type": "markdown",
   "metadata": {},
   "source": [
    "numColumns, alphaColumns = dataPreprocesser(splitColumns,df)"
   ]
  },
  {
   "cell_type": "markdown",
   "metadata": {},
   "source": [
    "As you can see, the process_text() function takes a function as an argument and applies it to a string. This is a powerful technique that can be used to simplify code, encapsulate complex logic, and allow for more flexibility and customization.\n",
    "\n",
    "IPython Notebook Code\n",
    "The following IPython notebook code demonstrates how to use functions as arguments in Python:"
   ]
  },
  {
   "cell_type": "code",
   "execution_count": 19,
   "metadata": {},
   "outputs": [
    {
     "name": "stdout",
     "output_type": "stream",
     "text": [
      "THIS IS A STRING.\n"
     ]
    }
   ],
   "source": [
    "# Define a function to convert a string to uppercase\n",
    "def upper(text):\n",
    "  return text.upper()\n",
    "\n",
    "# Define a function to process text\n",
    "def process_text(func, text):\n",
    "  return func(text)\n",
    "\n",
    "# Convert a string to uppercase\n",
    "upper_text = process_text(upper, \"This is a string.\")\n",
    "\n",
    "# Print the uppercase text\n",
    "print(upper_text)\n"
   ]
  },
  {
   "cell_type": "markdown",
   "metadata": {},
   "source": [
    "## List Comprehension"
   ]
  },
  {
   "cell_type": "markdown",
   "metadata": {},
   "source": [
    "List comprehension is a concise way to create a list from a sequence. It is often used to iterate over a sequence and perform some operation on each element."
   ]
  },
  {
   "cell_type": "markdown",
   "metadata": {},
   "source": [
    "The syntax for a list comprehension is:\n",
    "* [expression for item in sequence]"
   ]
  },
  {
   "cell_type": "markdown",
   "metadata": {},
   "source": [
    "The expression can be any Python expression. The item is the variable that iterates over the sequence. The sequence can be a list, a string, a range, or any other iterable object.\n",
    "\n",
    "For example, the following code creates a list of the squares of the numbers from 1 to 10:"
   ]
  },
  {
   "cell_type": "code",
   "execution_count": 2,
   "metadata": {},
   "outputs": [
    {
     "data": {
      "text/plain": [
       "[1, 4, 9, 16, 25, 36, 49, 64, 81, 100]"
      ]
     },
     "execution_count": 2,
     "metadata": {},
     "output_type": "execute_result"
    }
   ],
   "source": [
    "squares = [x**2 for x in range(1, 11)]\n",
    "squares"
   ]
  },
  {
   "cell_type": "code",
   "execution_count": 1,
   "metadata": {},
   "outputs": [
    {
     "name": "stdout",
     "output_type": "stream",
     "text": [
      "[1, 4, 9, 16, 25, 36, 49, 64, 81, 100]\n"
     ]
    }
   ],
   "source": [
    "squares = []\n",
    "for x in range(1, 11):\n",
    "  if x%2==0:\n",
    "    squares.append(x**2)\n",
    "\n",
    "print(squares)"
   ]
  },
  {
   "cell_type": "markdown",
   "metadata": {},
   "source": [
    "List comprehension is more concise and efficient than using a for loop.\n",
    "\n",
    "Here are some other examples of list comprehension:"
   ]
  },
  {
   "cell_type": "code",
   "execution_count": 4,
   "metadata": {},
   "outputs": [
    {
     "name": "stdout",
     "output_type": "stream",
     "text": [
      "['h', 'e', 'l', 'l', 'o']\n",
      "[2, 4, 6, 8, 10]\n",
      "[4, 16, 36, 64, 100]\n"
     ]
    }
   ],
   "source": [
    "# Create a list WITH the letters in the string \"hello\"\n",
    "letters = [x for x in \"hello\"]\n",
    "print(letters)\n",
    "\n",
    "# Create a list of the even numbers from 1 to 10\n",
    "even_numbers = [x for x in range(1, 11) if x % 2 == 0]\n",
    "print(even_numbers)\n",
    "\n",
    "# Create a list of the squares of the numbers from 1 to 10, but only the even squares\n",
    "even_squares = [x**2 for x in range(1, 11) if x % 2 == 0]\n",
    "print(even_squares)\n"
   ]
  },
  {
   "cell_type": "code",
   "execution_count": 14,
   "metadata": {},
   "outputs": [
    {
     "data": {
      "text/plain": [
       "0"
      ]
     },
     "execution_count": 14,
     "metadata": {},
     "output_type": "execute_result"
    }
   ],
   "source": [
    "10 % 2"
   ]
  },
  {
   "cell_type": "code",
   "execution_count": 117,
   "metadata": {},
   "outputs": [
    {
     "name": "stdout",
     "output_type": "stream",
     "text": [
      "Help on built-in function print in module builtins:\n",
      "\n",
      "print(...)\n",
      "    print(value, ..., sep=' ', end='\\n', file=sys.stdout, flush=False)\n",
      "    \n",
      "    Prints the values to a stream, or to sys.stdout by default.\n",
      "    Optional keyword arguments:\n",
      "    file:  a file-like object (stream); defaults to the current sys.stdout.\n",
      "    sep:   string inserted between values, default a space.\n",
      "    end:   string appended after the last value, default a newline.\n",
      "    flush: whether to forcibly flush the stream.\n",
      "\n"
     ]
    }
   ],
   "source": [
    "help(print)"
   ]
  },
  {
   "cell_type": "code",
   "execution_count": 5,
   "metadata": {},
   "outputs": [
    {
     "name": "stdout",
     "output_type": "stream",
     "text": [
      "1*2*3*4*5*6*7*8*9*"
     ]
    }
   ],
   "source": [
    "for i in range(1,10):\n",
    "    print(i,end='*',sep=\"*\")"
   ]
  },
  {
   "cell_type": "code",
   "execution_count": 15,
   "metadata": {},
   "outputs": [
    {
     "name": "stdout",
     "output_type": "stream",
     "text": [
      "Help on built-in function print in module builtins:\n",
      "\n",
      "print(*args, sep=' ', end='\\n', file=None, flush=False)\n",
      "    Prints the values to a stream, or to sys.stdout by default.\n",
      "    \n",
      "    sep\n",
      "      string inserted between values, default a space.\n",
      "    end\n",
      "      string appended after the last value, default a newline.\n",
      "    file\n",
      "      a file-like object (stream); defaults to the current sys.stdout.\n",
      "    flush\n",
      "      whether to forcibly flush the stream.\n",
      "\n"
     ]
    }
   ],
   "source": [
    "help(print)"
   ]
  },
  {
   "cell_type": "code",
   "execution_count": 125,
   "metadata": {},
   "outputs": [
    {
     "name": "stdout",
     "output_type": "stream",
     "text": [
      "[1, 4, 9, 16, 25, 36, 49, 64, 81, 100]\n",
      "['h', 'e', 'l', 'l', 'o']\n",
      "[2, 4, 6]\n",
      "[4, 16, 36, 64, 100]\n"
     ]
    }
   ],
   "source": [
    "# Create a list of the squares of the numbers from 1 to 10\n",
    "squares = [x**2 for x in range(1, 11)]\n",
    "\n",
    "# Print the squares\n",
    "print(squares)\n",
    "\n",
    "# Create a list of the letters in the string \"hello\"\n",
    "letters = [x for x in \"hello\"]\n",
    "\n",
    "# Print the letters\n",
    "print(letters)\n",
    "\n",
    "# Create a list of the even numbers from 1 to 10\n",
    "even_numbers = [x for x in [2,4,6] if x % 2 == 0]\n",
    "\n",
    "# Print the even numbers\n",
    "print(even_numbers)\n",
    "\n",
    "# Create a list of the squares of the numbers from 1 to 10, but only the even squares\n",
    "even_squares = [x**2 for x in range(1, 11) if x % 2 == 0]\n",
    "\n",
    "# Print the even squares\n",
    "print(even_squares)\n"
   ]
  },
  {
   "cell_type": "markdown",
   "metadata": {},
   "source": [
    "## File Handling"
   ]
  },
  {
   "cell_type": "markdown",
   "metadata": {},
   "source": [
    "File handling in Python is the process of reading, writing, and manipulating files. Python has a built-in module called fileinput that provides functions for handling files.\n",
    "\n",
    "The following are some of the most common file handling operations in Python:\n",
    "\n",
    "*  Opening a file\n",
    "*  Reading from a file\n",
    "*  Writing to a file\n",
    "*  Closing a file\n",
    "*  Appending to a file\n",
    "*  Deleting a file\n",
    "*  Renaming a file\n"
   ]
  },
  {
   "cell_type": "code",
   "execution_count": 16,
   "metadata": {},
   "outputs": [],
   "source": [
    "import fileinput"
   ]
  },
  {
   "cell_type": "code",
   "execution_count": 2,
   "metadata": {},
   "outputs": [],
   "source": [
    "file_obj = open(r'C:\\Users\\Jeyaprakash\\Documents\\GitHub\\Learning-Sessions\\Python Tutorials\\demo files\\myfile.txt', \"r+\")\n",
    "# myfile.txt"
   ]
  },
  {
   "cell_type": "code",
   "execution_count": 3,
   "metadata": {},
   "outputs": [
    {
     "name": "stdout",
     "output_type": "stream",
     "text": [
      "<_io.TextIOWrapper name='C:\\\\Users\\\\Jeyaprakash\\\\Documents\\\\GitHub\\\\Learning-Sessions\\\\Python Tutorials\\\\demo files\\\\myfile.txt' mode='r+' encoding='cp1252'>\n"
     ]
    }
   ],
   "source": [
    "print(file_obj)"
   ]
  },
  {
   "cell_type": "code",
   "execution_count": 4,
   "metadata": {},
   "outputs": [
    {
     "name": "stdout",
     "output_type": "stream",
     "text": [
      "<class '_io.TextIOWrapper'>\n"
     ]
    }
   ],
   "source": [
    "print(type(file_obj))"
   ]
  },
  {
   "cell_type": "markdown",
   "metadata": {},
   "source": [
    "### Reading from a file\n",
    "To read from a file, you can use the read() method. The read() method takes an optional argument that specifies the number of bytes to read. If the argument is not specified, the entire file will be read.\n",
    "\n",
    "For example, the following code reads the first 100 bytes from the file myfile.txt:"
   ]
  },
  {
   "cell_type": "code",
   "execution_count": 5,
   "metadata": {},
   "outputs": [
    {
     "name": "stdout",
     "output_type": "stream",
     "text": [
      "LINE 1\n",
      "LINE 2\n",
      "LINE 3\n",
      "LINE 4\n"
     ]
    }
   ],
   "source": [
    "text = file_obj.read(100)\n",
    "print(text)"
   ]
  },
  {
   "cell_type": "markdown",
   "metadata": {},
   "source": [
    "### Writing to a file\n",
    "To write to a file, you can use the write() method. The write() method takes a string as its argument.\n",
    "\n",
    "For example, the following code writes the string \"Hello, world!\" to the file myfile.txt:"
   ]
  },
  {
   "cell_type": "code",
   "execution_count": 7,
   "metadata": {},
   "outputs": [],
   "source": [
    "a = file_obj.write(\"\\nHello, world!\")\n"
   ]
  },
  {
   "cell_type": "code",
   "execution_count": 8,
   "metadata": {},
   "outputs": [
    {
     "name": "stdout",
     "output_type": "stream",
     "text": [
      "15\n"
     ]
    }
   ],
   "source": [
    "print(a)"
   ]
  },
  {
   "cell_type": "code",
   "execution_count": 151,
   "metadata": {},
   "outputs": [
    {
     "name": "stdout",
     "output_type": "stream",
     "text": [
      "Help on built-in function write:\n",
      "\n",
      "write(text, /) method of _io.TextIOWrapper instance\n",
      "    Write string to stream.\n",
      "    Returns the number of characters written (which is always equal to\n",
      "    the length of the string).\n",
      "\n"
     ]
    }
   ],
   "source": [
    "help(file.write)"
   ]
  },
  {
   "cell_type": "markdown",
   "metadata": {},
   "source": [
    "### Closing a file\n",
    "It is important to close a file after you are finished using it. This frees up system resources and prevents data corruption.\n",
    "\n",
    "To close a file, you can use the close() method.\n",
    "\n",
    "For example, the following code closes the file myfile.txt:\n",
    "\n"
   ]
  },
  {
   "cell_type": "code",
   "execution_count": 9,
   "metadata": {},
   "outputs": [],
   "source": [
    "file_obj.close()"
   ]
  },
  {
   "cell_type": "markdown",
   "metadata": {},
   "source": [
    "### Other file handling operations\n",
    "In addition to the operations mentioned above, Python also provides functions for other file handling operations, such as:\n",
    "\n",
    "*  readline(): Read one line from a file.\n",
    "*  readlines(): Read all the lines from a file.\n",
    "*  seek(): Move the file pointer to a specific location in the file.\n",
    "*  tell(): Get the current position of the file pointer."
   ]
  },
  {
   "cell_type": "code",
   "execution_count": 15,
   "metadata": {},
   "outputs": [
    {
     "name": "stdout",
     "output_type": "stream",
     "text": [
      "<class 'str'>\n",
      "LINE 1\n",
      "LIN\n"
     ]
    }
   ],
   "source": [
    "# Open a file for reading\n",
    "file = open(\"demo files/myfile.txt\", \"r\")\n",
    "\n",
    "# Read the first 100 bytes from the file\n",
    "text = file.read(10)\n",
    "print(type(text))\n",
    "\n",
    "# Print the text\n",
    "print(text)\n",
    "\n",
    "# Close the file\n",
    "file.close()"
   ]
  },
  {
   "cell_type": "code",
   "execution_count": 56,
   "metadata": {},
   "outputs": [
    {
     "name": "stdout",
     "output_type": "stream",
     "text": [
      "['\\n', 'hi\\n', 'hi\\n', 'hi\\n', 'hi\\n', 'hi\\n', 'hi\\n', 'hi\\n', 'hi\\n', 'hi\\n', 'hi\\n', 'hi']\n",
      "\n",
      "hi\n",
      "hi\n",
      "hi\n",
      "hi\n",
      "hi\n",
      "hi\n",
      "hi\n",
      "hi\n",
      "hi\n",
      "hi\n",
      "hi \n",
      " File connection would have been closed when this is printed\n"
     ]
    }
   ],
   "source": [
    "filename = r'C:\\Users\\Jeyaprakash\\Documents\\GitHub\\Learning-Sessions\\Python Tutorials\\demo files\\myfile.txt'\n",
    "with open(filename, \"r+\") as f:\n",
    "  lines = f.readlines()\n",
    "  print(lines)\n",
    "  \n",
    "  for item in lines:\n",
    "    print(item,end='')\n",
    "\n",
    "  f.write(\"\\nhi\")\n",
    "# f.close()\n",
    "\n",
    "# a+\n",
    "# r+\n",
    "# w+\n",
    "\n",
    "print(\" \\n File connection would have been closed when this is printed\")\n",
    "\n"
   ]
  },
  {
   "cell_type": "code",
   "execution_count": 24,
   "metadata": {},
   "outputs": [],
   "source": [
    "def read_file_lines(filename):\n",
    "  with open(filename, \"r\") as f:\n",
    "    lines = f.readlines()\n",
    "  \n",
    "\n",
    "  return lines\n"
   ]
  },
  {
   "cell_type": "code",
   "execution_count": 175,
   "metadata": {},
   "outputs": [
    {
     "name": "stdout",
     "output_type": "stream",
     "text": [
      "Line 1\n",
      "Line 2\n"
     ]
    }
   ],
   "source": [
    "filename = \"myfile.txt\"\n",
    "lines = read_file_lines(filename)\n",
    "# print(lines)\n",
    "\n",
    "\n",
    "# for line in lines:\n",
    "#     print(line)\n",
    "\n",
    "for line in range(0,2):\n",
    "    print(lines[line],end='')"
   ]
  },
  {
   "cell_type": "markdown",
   "metadata": {},
   "source": [
    "### OS & Path Functions"
   ]
  },
  {
   "cell_type": "markdown",
   "metadata": {},
   "source": [
    "There are a few ways to mention the directory when you want to open a file from a different directory in Python.\n",
    "\n",
    "\n",
    "One way is to use the os.path.join() function. This function takes two arguments: the path to the directory and the name of the file. For example, the following code opens the file myfile.txt in the directory /home/user/my_directory:\n",
    "\n"
   ]
  },
  {
   "cell_type": "code",
   "execution_count": 60,
   "metadata": {},
   "outputs": [
    {
     "name": "stdout",
     "output_type": "stream",
     "text": [
      "c:\\Users\\Jeyaprakash\\Documents\\GitHub\\Learning-Sessions\\Python Tutorials\n"
     ]
    }
   ],
   "source": [
    "import os\n",
    "\n",
    "print(os.getcwd())"
   ]
  },
  {
   "cell_type": "code",
   "execution_count": 67,
   "metadata": {},
   "outputs": [
    {
     "name": "stdout",
     "output_type": "stream",
     "text": [
      "['\\n', 'hi\\n', 'hi\\n', 'hi\\n', 'hi\\n', 'hi\\n', 'hi\\n', 'hi\\n', 'hi\\n', 'hi\\n', 'hi\\n', 'hi\\n', 'hi']\n",
      "['\\n', 'hi\\n', 'hi\\n', 'hi\\n', 'hi\\n', 'hi\\n', 'hi\\n', 'hi\\n', 'hi\\n', 'hi\\n', 'hi\\n', 'hi\\n', 'hi']\n"
     ]
    }
   ],
   "source": [
    "import os\n",
    "filename = \"myfile.txt\"\n",
    "string1 = r'c:\\Users\\Jeyaprakash\\Documents\\GitHub\\Learning-Sessions\\Python Tutorials'\n",
    "string2 = \"\\myfile.txt\"\n",
    "\n",
    "with open(os.path.join(os.getcwd(),filename ), \"r\") as f:\n",
    "    print(f.readlines())\n",
    "\n",
    "\n",
    "with open((string1+string2 ), \"r\") as f:\n",
    "    print(f.readlines())\n"
   ]
  },
  {
   "cell_type": "code",
   "execution_count": 181,
   "metadata": {},
   "outputs": [
    {
     "name": "stdout",
     "output_type": "stream",
     "text": [
      "/Users/Z00CVY1/Documents/Python Basics\n"
     ]
    }
   ],
   "source": [
    "cwd = os.getcwd()\n",
    "print(cwd)"
   ]
  },
  {
   "cell_type": "code",
   "execution_count": null,
   "metadata": {},
   "outputs": [],
   "source": [
    "file = open(\"https://drive.google.com/file/d/15StkGyAalaSSGIJkC5Ar9Zg4q7qGNTHl/view?usp=sharinfg\", \"r+\")"
   ]
  },
  {
   "cell_type": "markdown",
   "metadata": {},
   "source": []
  },
  {
   "cell_type": "markdown",
   "metadata": {},
   "source": [
    "## Classes and Objects, Intro to OOPs"
   ]
  },
  {
   "cell_type": "markdown",
   "metadata": {},
   "source": [
    "##### Introduction\n",
    "In object-oriented programming (OOP), a class is a blueprint for creating objects. An object is an instance of a class.\n",
    "\n",
    "Classes can contain data (attributes) and methods (functions). Objects can access and modify their own data and call their own methods.\n",
    "\n",
    "Creating a Class\n",
    "To create a class in Python, you use the class keyword. The syntax for creating a class is:\n",
    "\n"
   ]
  },
  {
   "cell_type": "code",
   "execution_count": null,
   "metadata": {},
   "outputs": [],
   "source": [
    "class ClassName:\n",
    "  # Attributes(variable)\n",
    "  # Methods(functions)\n"
   ]
  },
  {
   "cell_type": "markdown",
   "metadata": {},
   "source": [
    "The ClassName is the name of the class. The attributes and methods are defined within the class body.\n",
    "\n",
    "For example, the following code defines a class called Circle:"
   ]
  },
  {
   "cell_type": "code",
   "execution_count": 83,
   "metadata": {},
   "outputs": [],
   "source": [
    "# class Circle:\n",
    "#   radius = 2\n",
    "\n",
    "#   def get_area_of_circle(self):\n",
    "#     return 3.14 * self.radius ** 2"
   ]
  },
  {
   "cell_type": "code",
   "execution_count": 86,
   "metadata": {},
   "outputs": [],
   "source": [
    "class Circle:\n",
    "  global_radius = 0\n",
    "\n",
    "  def __init__(self,radius):\n",
    "    self.radius = radius\n",
    "\n",
    "  def get_area(self):\n",
    "    return( 3.14 * self.radius ** 2)"
   ]
  },
  {
   "cell_type": "code",
   "execution_count": 84,
   "metadata": {},
   "outputs": [
    {
     "name": "stdout",
     "output_type": "stream",
     "text": [
      "2\n",
      "12.56\n"
     ]
    }
   ],
   "source": [
    "cd = Circle()\n",
    "print(cd.radius)\n",
    "print(cd.get_area_of_circle())"
   ]
  },
  {
   "cell_type": "code",
   "execution_count": 87,
   "metadata": {},
   "outputs": [],
   "source": [
    "cd = Circle(5)\n",
    "dvd = Circle(6)\n",
    "# print(cd.radius)\n",
    "# print(cd.get_area_of_circle())\n",
    "\n"
   ]
  },
  {
   "cell_type": "code",
   "execution_count": 91,
   "metadata": {},
   "outputs": [
    {
     "data": {
      "text/plain": [
       "78.5"
      ]
     },
     "execution_count": 91,
     "metadata": {},
     "output_type": "execute_result"
    }
   ],
   "source": [
    "dvd.radius\n",
    "dvd.get_area()\n",
    "cd.radius\n",
    "cd.get_area()"
   ]
  },
  {
   "cell_type": "markdown",
   "metadata": {},
   "source": [
    "This class has two attributes: radius and get_area(). The radius attribute is the circle's radius. The get_area() method returns the circle's area."
   ]
  },
  {
   "cell_type": "markdown",
   "metadata": {},
   "source": [
    "#### Creating an Object\n",
    "To create an object from a class, you use the () operator. The syntax for creating an object is:\n",
    "\n",
    "object_name = ClassName()\n"
   ]
  },
  {
   "cell_type": "markdown",
   "metadata": {},
   "source": [
    "The object_name is the name of the object. The ClassName is the name of the class.\n",
    "\n",
    "For example, the following code creates an object called circle from the Circle class:\n",
    "\n"
   ]
  },
  {
   "cell_type": "code",
   "execution_count": 210,
   "metadata": {},
   "outputs": [],
   "source": [
    "cd = Circle()\n"
   ]
  },
  {
   "cell_type": "code",
   "execution_count": 206,
   "metadata": {},
   "outputs": [],
   "source": [
    "dvd = Circle()"
   ]
  },
  {
   "cell_type": "markdown",
   "metadata": {},
   "source": [
    "This code creates an object with a radius of 0."
   ]
  },
  {
   "cell_type": "markdown",
   "metadata": {},
   "source": [
    "#### Accessing Attributes\n",
    "To access an object's attributes, you use the dot notation. The syntax for accessing an attribute is:\n",
    "\n",
    "object_name.attribute_name\n",
    "For example, the following code accesses the radius attribute of the circle object:\n",
    "\n"
   ]
  },
  {
   "cell_type": "code",
   "execution_count": 185,
   "metadata": {},
   "outputs": [
    {
     "name": "stdout",
     "output_type": "stream",
     "text": [
      "0\n"
     ]
    }
   ],
   "source": [
    "print(cd.radius)\n"
   ]
  },
  {
   "cell_type": "markdown",
   "metadata": {},
   "source": [
    "#### Calling Methods\n",
    "To call an object's method, you use the dot notation. The syntax for calling a method is:\n",
    "\n",
    "object_name.method_name()\n",
    "For example, the following code calls the get_area() method of the circle object:"
   ]
  },
  {
   "cell_type": "code",
   "execution_count": 186,
   "metadata": {},
   "outputs": [
    {
     "data": {
      "text/plain": [
       "0.0"
      ]
     },
     "execution_count": 186,
     "metadata": {},
     "output_type": "execute_result"
    }
   ],
   "source": [
    "cd.get_area()\n"
   ]
  },
  {
   "cell_type": "code",
   "execution_count": 46,
   "metadata": {},
   "outputs": [
    {
     "name": "stdout",
     "output_type": "stream",
     "text": [
      "0\n",
      "0.0\n"
     ]
    }
   ],
   "source": [
    "# Create a class called Circle\n",
    "class Circle:\n",
    "  radius = 0\n",
    "\n",
    "  def get_area(self):\n",
    "    return 3.14 * self.radius ** 2\n",
    "\n",
    "# Create an object called circle from the Circle class\n",
    "circle = Circle()\n",
    "\n",
    "# Print the radius of the circle\n",
    "print(circle.radius)\n",
    "\n",
    "# Call the get_area() method of the circle object\n",
    "print(circle.get_area())\n"
   ]
  },
  {
   "cell_type": "code",
   "execution_count": 140,
   "metadata": {},
   "outputs": [],
   "source": [
    "class Cars:            \n",
    "    g_owner = 'PD'\n",
    "\n",
    "    def __init__(self,brand,model,fueltype,maxspeed):\n",
    "        self.brand = brand\n",
    "        self.model = model\n",
    "        self.fueltype = fueltype\n",
    "        self.maxspeed = maxspeed\n",
    "\n",
    "    def start(self):\n",
    "        self.owner = 'jp'\n",
    "        print(self.model,\" Car is started now\")\n",
    "        print(\"brand of this car is\", self.brand)\n",
    "        print(\"top speed is: \",self.maxspeed)\n",
    "        # print(new)\n",
    "\n",
    "    def play_music(self):\n",
    "        print(self.owner)\n",
    "        print(g_owner)\n",
    "        print(self.model,\" Music is playing\")"
   ]
  },
  {
   "cell_type": "code",
   "execution_count": 141,
   "metadata": {},
   "outputs": [],
   "source": [
    "baleno = Cars('Maruti','baleno','hybrid',120)"
   ]
  },
  {
   "cell_type": "code",
   "execution_count": 142,
   "metadata": {},
   "outputs": [],
   "source": [
    "thar = Cars('MM','thar','diesel',100)"
   ]
  },
  {
   "cell_type": "code",
   "execution_count": 143,
   "metadata": {},
   "outputs": [
    {
     "name": "stdout",
     "output_type": "stream",
     "text": [
      "baleno  Car is started now\n",
      "brand of this car is Maruti\n",
      "top speed is:  120\n"
     ]
    }
   ],
   "source": [
    "baleno.start()"
   ]
  },
  {
   "cell_type": "code",
   "execution_count": 144,
   "metadata": {},
   "outputs": [
    {
     "name": "stdout",
     "output_type": "stream",
     "text": [
      "jp\n"
     ]
    },
    {
     "ename": "NameError",
     "evalue": "name 'g_owner' is not defined",
     "output_type": "error",
     "traceback": [
      "\u001b[1;31m---------------------------------------------------------------------------\u001b[0m",
      "\u001b[1;31mNameError\u001b[0m                                 Traceback (most recent call last)",
      "\u001b[1;32mc:\\Users\\Jeyaprakash\\Documents\\GitHub\\Learning-Sessions\\Python Tutorials\\Module 2 Session 1.ipynb Cell 78\u001b[0m line \u001b[0;36m1\n\u001b[1;32m----> <a href='vscode-notebook-cell:/c%3A/Users/Jeyaprakash/Documents/GitHub/Learning-Sessions/Python%20Tutorials/Module%202%20Session%201.ipynb#Y145sZmlsZQ%3D%3D?line=0'>1</a>\u001b[0m baleno\u001b[39m.\u001b[39;49mplay_music()\n",
      "\u001b[1;32mc:\\Users\\Jeyaprakash\\Documents\\GitHub\\Learning-Sessions\\Python Tutorials\\Module 2 Session 1.ipynb Cell 78\u001b[0m line \u001b[0;36m1\n\u001b[0;32m     <a href='vscode-notebook-cell:/c%3A/Users/Jeyaprakash/Documents/GitHub/Learning-Sessions/Python%20Tutorials/Module%202%20Session%201.ipynb#Y145sZmlsZQ%3D%3D?line=16'>17</a>\u001b[0m \u001b[39mdef\u001b[39;00m \u001b[39mplay_music\u001b[39m(\u001b[39mself\u001b[39m):\n\u001b[0;32m     <a href='vscode-notebook-cell:/c%3A/Users/Jeyaprakash/Documents/GitHub/Learning-Sessions/Python%20Tutorials/Module%202%20Session%201.ipynb#Y145sZmlsZQ%3D%3D?line=17'>18</a>\u001b[0m     \u001b[39mprint\u001b[39m(\u001b[39mself\u001b[39m\u001b[39m.\u001b[39mowner)\n\u001b[1;32m---> <a href='vscode-notebook-cell:/c%3A/Users/Jeyaprakash/Documents/GitHub/Learning-Sessions/Python%20Tutorials/Module%202%20Session%201.ipynb#Y145sZmlsZQ%3D%3D?line=18'>19</a>\u001b[0m     \u001b[39mprint\u001b[39m(g_owner)\n\u001b[0;32m     <a href='vscode-notebook-cell:/c%3A/Users/Jeyaprakash/Documents/GitHub/Learning-Sessions/Python%20Tutorials/Module%202%20Session%201.ipynb#Y145sZmlsZQ%3D%3D?line=19'>20</a>\u001b[0m     \u001b[39mprint\u001b[39m(\u001b[39mself\u001b[39m\u001b[39m.\u001b[39mmodel,\u001b[39m\"\u001b[39m\u001b[39m Music is playing\u001b[39m\u001b[39m\"\u001b[39m)\n",
      "\u001b[1;31mNameError\u001b[0m: name 'g_owner' is not defined"
     ]
    }
   ],
   "source": [
    "baleno.play_music()"
   ]
  },
  {
   "cell_type": "markdown",
   "metadata": {},
   "source": [
    "#### Question 1\n",
    "Create a python script to read and print n number of lines from a text file without using readlines() function. \n",
    "\n",
    "Hint: Use readline() function and iterations"
   ]
  },
  {
   "cell_type": "markdown",
   "metadata": {},
   "source": [
    "#### Question 2\n",
    "Write a program to print the Fibonacci sequence up to a given number.\n",
    "\n",
    "Hint: Try using Recursive Functions"
   ]
  },
  {
   "cell_type": "markdown",
   "metadata": {},
   "source": [
    "#### Question 3\n",
    "Write a program to print all the palindromes between 100 and 1000.\n",
    " \n",
    "Hint: Try combination of Loop and Conditional Statements"
   ]
  },
  {
   "cell_type": "markdown",
   "metadata": {},
   "source": [
    "#### Question 4\n",
    "Write a program to print n prime numbers "
   ]
  },
  {
   "cell_type": "markdown",
   "metadata": {},
   "source": [
    "#### Question 5\n",
    "Print the @ pattern using nested for loops. \n",
    "(Ignore the bullet symbol)\n",
    "* @\n",
    "* @@ \n",
    "* @@@\n",
    "* @@@@\n",
    "* @@@@@\n",
    "* @@@@\n",
    "* @@@\n",
    "* @@\n",
    "* @"
   ]
  }
 ],
 "metadata": {
  "kernelspec": {
   "display_name": "Python 3",
   "language": "python",
   "name": "python3"
  },
  "language_info": {
   "codemirror_mode": {
    "name": "ipython",
    "version": 3
   },
   "file_extension": ".py",
   "mimetype": "text/x-python",
   "name": "python",
   "nbconvert_exporter": "python",
   "pygments_lexer": "ipython3",
   "version": "3.11.5"
  },
  "orig_nbformat": 4
 },
 "nbformat": 4,
 "nbformat_minor": 2
}
